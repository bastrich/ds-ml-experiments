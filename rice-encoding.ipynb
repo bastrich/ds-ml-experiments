{
 "cells": [
  {
   "metadata": {},
   "cell_type": "markdown",
   "source": [
    "# Brief analysis of the application\n",
    "I implemented rice encoding based on the description from this page: https://michaeldipperstein.github.io/rice.html.\n",
    "Encode and decode functions are pretty straightforward and correspond to the algorithm described on the page\n",
    "above and in the course materials.\n",
    "Python doesn’t have a direct method of working with separate bits with an easy and convenient approach. It only\n",
    "supports byte-wise operations for integer types, which is not usable for our purposes from scratch. Among the\n",
    "different options for handling separate bits, I implemented bit helpers from scratch: helper classes\n",
    "RiceEncodingWriteBitContainer and RiceEncodingReadBitContainer.\n",
    "I verified my implementation in 2 ways:\n",
    "1. With a simple test that generates random byte arrays, encodes and decodes them, and compares the result\n",
    "with the initial array.\n",
    "2. I compiled the C implementation from https://github.com/michaeldipperstein/rice, ran it on the audio files, and\n",
    "compared it with the encoding result of my implementation. The results are identical.\n",
    "# Requested table and an analysis of the results\n",
    "Below is the table with Rice encoding results.\n",
    "% Compression there is calculated as round(len(encoded_bytes) / len(original_bytes) * 100).\n",
    "| |Original size | Rice (K = 4 bits) | Rice (K = 2 bits) | % Compression (K = 4 bits) | % Compression (K = 2 bits) |\n",
    "|-----|-----------|----------------------|-------------------|----------------------------|-----------------------------|\n",
    "|Sound1.wav | 1002088 | 1516265 | 4115718 | 151 | 411|\n",
    "|Sound2.wav | 1008044 | 1575347 | 4348595 | 156 | 431|\n",
    "\n",
    "Both files have very close compression rates given the same k. That can be explained by the fact that the files have\n",
    "the same type, structure and similar data profile.\n",
    "But different k’s introduce a huge impact on the compression rates. k=2 provides almost 3 times worse compression\n",
    "than k=4. That happens because we encode values in the range 0-255, and a lesser k requires fewer bits to encode\n",
    "small numbers but many more bits to encode even a bit bigger numbers. For k=2, this border is between 23 and 24,\n",
    "while for k=4, this border is already between 63 and 64. And as we have data that includes a lot of values more than\n",
    "23, k=4 compresses better than k=2.\n",
    "# Brief analysis of the further development implemented\n",
    "As a further development, I'm trying to improve the implementation of Rice encoding algorithm.\n",
    "Improvement is based on the following ideas:\n",
    "1. There are a lot of 0 and 255 bytes in the audio files. So, instead of encoding them with Rice encoding, I just\n",
    "use bits 10 and 11, respectively.\n",
    "2. If a byte value is more than 63 for k=4, or more than 23 for k=2, its Rice-encoded representation has\n",
    "significantly more bits than required without Rice encoding. In such cases, I divide the byte value by 4 and\n",
    "use Rice encoding on the result. The remainder is saved separately using 2 bits. Such a format allows us to\n",
    "save some space.\n",
    "3. To correctly implement those ideas and distinguish them from Rice-encoded bytes, I also use some bits as\n",
    "flags.\n",
    "In the table below, we can see significantly improved compression rates compared to the original Rice encoding.\n",
    "\n",
    "% Compression there is calculated as round(len(encoded_bytes) / len(original_bytes) * 100).\n",
    "| |Original size | Rice (K = 4 bits) | Rice (K = 2 bits) | % Compression (K = 4 bits) | % Compression (K = 2 bits) |\n",
    "|-----|-----------|----------------------|-------------------|----------------------------|-----------------------------|\n",
    "|Sound1.wav | 1002088 | 891488 | 1226016 | 89 | 122|\n",
    "|Sound2.wav | 1008044 | 1241172 | 1769833 | 123 | 176|"
   ],
   "id": "f10151aad8e1733e"
  },
  {
   "metadata": {
    "collapsed": false
   },
   "cell_type": "markdown",
   "source": "Start with installing a library for beautiful printing a resulting table.",
   "id": "639d986512fc6d28"
  },
  {
   "cell_type": "code",
   "execution_count": 43,
   "outputs": [
    {
     "name": "stdout",
     "output_type": "stream",
     "text": [
      "Requirement already satisfied: tabulate in /Users/bastrich/isp-final/lib/python3.11/site-packages (0.9.0)\r\n"
     ]
    }
   ],
   "source": [
    "!pip install tabulate"
   ],
   "metadata": {
    "collapsed": false,
    "ExecuteTime": {
     "end_time": "2024-02-01T21:05:50.237487Z",
     "start_time": "2024-02-01T21:05:47.199431Z"
    }
   },
   "id": "416c7a1525e7fcfb"
  },
  {
   "cell_type": "markdown",
   "source": [
    "Import required dependencies."
   ],
   "metadata": {
    "collapsed": false
   },
   "id": "b7f0e38b46808bbb"
  },
  {
   "cell_type": "code",
   "outputs": [],
   "source": [
    "import os\n",
    "import random\n",
    "from tabulate import tabulate"
   ],
   "metadata": {
    "collapsed": false,
    "ExecuteTime": {
     "end_time": "2024-02-01T21:05:51.057288Z",
     "start_time": "2024-02-01T21:05:51.052662Z"
    }
   },
   "id": "3cb6e602165a2a77",
   "execution_count": 44
  },
  {
   "cell_type": "markdown",
   "source": [
    "Implement a helper class for working wih bits during encoding."
   ],
   "metadata": {
    "collapsed": false
   },
   "id": "5d026b7f42cbc1e2"
  },
  {
   "cell_type": "code",
   "outputs": [],
   "source": [
    "class RiceEncodingWriteBitContainer:\n",
    "    def __init__(self):\n",
    "        self.byte_array = bytearray() # resulting byte array\n",
    "        self.current_byte = 0 # byte used as a bits buffer\n",
    "        self.current_byte_bit_position = 0 # current writing bit position in the bits buffer\n",
    "\n",
    "    def append(self, value, number_of_bits):\n",
    "        \"\"\"\n",
    "        Stores bits to the container.\n",
    "        :param value: byte containing bits we need to store\n",
    "        :param number_of_bits: how many first bits we have to store from the value param\n",
    "        \"\"\"\n",
    "        bits_remains = number_of_bits\n",
    "        while bits_remains != 0:\n",
    "            bits_take = min(8 - self.current_byte_bit_position, bits_remains)\n",
    "            self.current_byte |= (((value >> (bits_remains - bits_take)) & ((1 << bits_take) - 1))\n",
    "                                  << (8 - self.current_byte_bit_position - bits_take))\n",
    "            bits_remains -= bits_take\n",
    "            self.current_byte_bit_position += bits_take\n",
    "            if self.current_byte_bit_position > 7:\n",
    "                self.current_byte_bit_position = 0\n",
    "                self.byte_array.append(self.current_byte)\n",
    "                self.current_byte = 0\n",
    "                \n",
    "    def to_bytearray(self):\n",
    "        \"\"\"\n",
    "        Returns stored bits as bytearray.\n",
    "        \"\"\"\n",
    "        result = bytearray(self.byte_array)\n",
    "        if self.current_byte_bit_position != 0:\n",
    "            result.append(self.current_byte | ((1 << (8 - self.current_byte_bit_position)) - 1))\n",
    "        return result\n",
    "\n",
    "    def __repr__(self):\n",
    "        \"\"\"\n",
    "        Builds string representation of the encoded bits for debugging purposes.\n",
    "        \"\"\"\n",
    "        return ''.join([bin(byte)[2:].zfill(8) for byte in self.to_bytearray()])"
   ],
   "metadata": {
    "collapsed": false,
    "ExecuteTime": {
     "end_time": "2024-02-01T21:05:52.248941Z",
     "start_time": "2024-02-01T21:05:52.231333Z"
    }
   },
   "id": "16bf51c881f97c78",
   "execution_count": 45
  },
  {
   "cell_type": "markdown",
   "source": [
    "Implement a helper class for working wih bits during decoding."
   ],
   "metadata": {
    "collapsed": false
   },
   "id": "364085f501a4b7fc"
  },
  {
   "cell_type": "code",
   "execution_count": 46,
   "outputs": [],
   "source": [
    "class RiceEncodingReadBitContainer:\n",
    "    def __init__(self, byte_array):\n",
    "        self.byte_array = byte_array # byte array with bits we need to read\n",
    "        self.bit_position = 0 # current read position in bits from byte_array start\n",
    "\n",
    "    def read_number_of_ones(self):\n",
    "        \"\"\"\n",
    "        Reads bits until the first 0 or until the end, and returns the number of 1 read\n",
    "        \"\"\"\n",
    "        result = 0\n",
    "        while True:\n",
    "            bit = self._read_bit()\n",
    "            if bit is None:\n",
    "                return None\n",
    "            elif bit == 1:\n",
    "                result += 1\n",
    "            elif bit == 0:\n",
    "                return result\n",
    "\n",
    "    def read_k_bits(self, k):\n",
    "        \"\"\"\n",
    "        Reads k bits and returns int containing those bits\n",
    "        \"\"\"\n",
    "        result = 0\n",
    "        for i in range(k):\n",
    "            result = (result << 1) | self._read_bit()\n",
    "        return result\n",
    "    \n",
    "    def _read_bit(self):\n",
    "        \"\"\"\n",
    "        Internal method. Reads a single bit or None if reached the end\n",
    "        \"\"\"\n",
    "        byte_array_index = self.bit_position // 8\n",
    "        if byte_array_index >= len(self.byte_array):\n",
    "            return None\n",
    "        result = (self.byte_array[byte_array_index] >> (7 - self.bit_position % 8)) & 1\n",
    "        self.bit_position += 1\n",
    "        return result"
   ],
   "metadata": {
    "collapsed": false,
    "ExecuteTime": {
     "end_time": "2024-02-01T21:05:53.476076Z",
     "start_time": "2024-02-01T21:05:53.465781Z"
    }
   },
   "id": "bea566325667aed5"
  },
  {
   "cell_type": "markdown",
   "source": [
    "Implement Rice encoding."
   ],
   "metadata": {
    "collapsed": false
   },
   "id": "53dcdc794e3b4018"
  },
  {
   "cell_type": "code",
   "execution_count": 47,
   "outputs": [],
   "source": [
    "def encode(byte_array, k):\n",
    "    m = 1 << k\n",
    "    result = RiceEncodingWriteBitContainer()\n",
    "    \n",
    "    for byte in byte_array:\n",
    "        r1 = byte & (m - 1)\n",
    "        r2 = (2 << (byte >> k)) - 2\n",
    "        result.append(value = (r2 << k) | r1, number_of_bits = (byte >> k) + 1 + k)\n",
    "\n",
    "    return result.to_bytearray()"
   ],
   "metadata": {
    "collapsed": false,
    "ExecuteTime": {
     "end_time": "2024-02-01T21:05:54.739637Z",
     "start_time": "2024-02-01T21:05:54.728081Z"
    }
   },
   "id": "e5e80665b3335cf"
  },
  {
   "cell_type": "markdown",
   "source": [
    "Implement Rice decoding."
   ],
   "metadata": {
    "collapsed": false
   },
   "id": "b750467c9d6318c9"
  },
  {
   "cell_type": "code",
   "execution_count": 48,
   "outputs": [],
   "source": [
    "def decode(byte_array, k):\n",
    "    reader = RiceEncodingReadBitContainer(byte_array)\n",
    "    m = 1 << k\n",
    "    result = bytearray()\n",
    "\n",
    "    while True:\n",
    "        q = reader.read_number_of_ones()\n",
    "        if q is None:\n",
    "            return result\n",
    "        r = reader.read_k_bits(k)\n",
    "        result.append(q * m + r)"
   ],
   "metadata": {
    "collapsed": false,
    "ExecuteTime": {
     "end_time": "2024-02-01T21:05:55.927637Z",
     "start_time": "2024-02-01T21:05:55.912218Z"
    }
   },
   "id": "9ed94a79d372540d"
  },
  {
   "cell_type": "markdown",
   "source": [
    "Test if encoding and decoding are lossless and work correctly at least when used together."
   ],
   "metadata": {
    "collapsed": false
   },
   "id": "bc79e1ad8056c122"
  },
  {
   "cell_type": "code",
   "execution_count": 49,
   "outputs": [
    {
     "name": "stdout",
     "output_type": "stream",
     "text": [
      "Testing k=2...\n",
      "Testing k=4...\n",
      "Everything is OK\n"
     ]
    }
   ],
   "source": [
    "for k in [2, 4]:\n",
    "    print(f'Testing k={k}...')\n",
    "    for i in range(1000):\n",
    "        byte_array = bytearray(os.urandom(random.randint(1, 10000)))\n",
    "        try:\n",
    "            assert byte_array == decode(encode(byte_array, k), k)\n",
    "        except:\n",
    "            print(byte_array)\n",
    "            raise Exception(\"Error!!!\")\n",
    "\n",
    "print(\"Everything is OK\")"
   ],
   "metadata": {
    "collapsed": false,
    "ExecuteTime": {
     "end_time": "2024-02-01T21:07:40.329164Z",
     "start_time": "2024-02-01T21:05:57.311885Z"
    }
   },
   "id": "c02184844afd3283"
  },
  {
   "cell_type": "markdown",
   "source": [
    "Now it's time to apply implemented encoding/decoding to our audio files.\n",
    "Start with implementing a helper function for comparison of files."
   ],
   "metadata": {
    "collapsed": false
   },
   "id": "d32c47377b47281a"
  },
  {
   "cell_type": "code",
   "execution_count": 50,
   "outputs": [],
   "source": [
    "def have_same_content(file_1_path, file_2_path):\n",
    "    with open(file_1_path, 'rb') as file1, open(file_2_path, 'rb') as file2:\n",
    "        return file1.read() == file2.read()"
   ],
   "metadata": {
    "collapsed": false,
    "ExecuteTime": {
     "end_time": "2024-02-01T21:08:02.608811Z",
     "start_time": "2024-02-01T21:08:02.588645Z"
    }
   },
   "id": "97368069b91981cc"
  },
  {
   "cell_type": "markdown",
   "source": [
    "Implement a helper function to print results as a table beautifully."
   ],
   "metadata": {
    "collapsed": false
   },
   "id": "d0c37ff227ed4cd7"
  },
  {
   "cell_type": "code",
   "execution_count": 51,
   "outputs": [],
   "source": [
    "def print_statistics(statistics):\n",
    "    print(tabulate(statistics, headers='keys'))"
   ],
   "metadata": {
    "collapsed": false,
    "ExecuteTime": {
     "end_time": "2024-02-01T21:08:03.895722Z",
     "start_time": "2024-02-01T21:08:03.890553Z"
    }
   },
   "id": "2901323daed72d51"
  },
  {
   "cell_type": "markdown",
   "source": [
    "Run encoding -> decoding on the audio files."
   ],
   "metadata": {
    "collapsed": false
   },
   "id": "7e1ea3263bf62d23"
  },
  {
   "cell_type": "code",
   "execution_count": 52,
   "outputs": [
    {
     "name": "stdout",
     "output_type": "stream",
     "text": [
      "File    Encoding      Original size    Rice (K = 2 bits)    % Compression    Rice (K = 4 bits)    % Compression\n",
      "                                                             (K = 2 bits)                          (K = 4 bits)\n",
      "------  ----------  ---------------  -------------------  ---------------  -------------------  ---------------\n",
      "Sound1  Regular             1002088              4115718              411              1516265              151\n",
      "Sound2  Regular             1008044              4348595              431              1575347              156\n"
     ]
    }
   ],
   "source": [
    "total_statistics = []\n",
    "\n",
    "for file in ['Sound1', 'Sound2']:\n",
    "    statistics = {'File': file, 'Encoding': 'Regular'}\n",
    "    \n",
    "    for k in [2, 4]:\n",
    "        with open(f'Exercise2_Files/{file}.wav', mode='rb') as original_sound:\n",
    "            \n",
    "            original_bytes = original_sound.read()\n",
    "            statistics['Original size'] = len(original_bytes)\n",
    "            \n",
    "            encoded_bytes = encode(original_bytes, k = k)\n",
    "            statistics[f'Rice (K = {k} bits)'] = len(encoded_bytes)\n",
    "            statistics[f'% Compression\\n(K = {k} bits)'] = round(len(encoded_bytes) / len(original_bytes) * 100)\n",
    "            \n",
    "            with open(f'Exercise2_Files/{file}_Enc.ex2', 'wb') as encoded_sound:\n",
    "                encoded_sound.write(encoded_bytes)\n",
    "    \n",
    "        with open(f'Exercise2_Files/{file}_Enc.ex2', mode='rb') as encoded_sound:\n",
    "            encoded_bytes = encoded_sound.read()\n",
    "            with open(f'Exercise2_Files/{file}_Enc_Dec.wav', 'wb') as decoded_sound:\n",
    "                decoded_sound.write(decode(encoded_bytes, k = k))\n",
    "\n",
    "        if not have_same_content(f'Exercise2_Files/{file}.wav', f'Exercise2_Files/{file}_Enc_Dec.wav'):\n",
    "            raise Exception(\"Encoding/decoding error!!!\")\n",
    "\n",
    "    total_statistics.append(statistics)\n",
    "        \n",
    "print_statistics(total_statistics)"
   ],
   "metadata": {
    "collapsed": false,
    "ExecuteTime": {
     "end_time": "2024-02-01T21:08:42.341407Z",
     "start_time": "2024-02-01T21:08:05.703218Z"
    }
   },
   "id": "73980ece890f7473"
  },
  {
   "cell_type": "markdown",
   "source": [
    "As a further development, I'm trying to improve the implementation of Rice encoding algorithm.\n",
    "Improvement is based on the following ideas:\n",
    "1. There are a lot of 0 and 255 bytes in the audio files. So, instead of encoding them with Rice encoding, I just use 10 and 11, respectively.\n",
    "2. If a byte value is more than 63 for k = 4, or more than 23 for k = 2, its Rice-encoded representation has significantly more bits than  required without Rice encoding. In such case I divide the byte value by 4 and use Rice encoding on the result. The remainder is saved separately using 2 bits. Such a format allows us to save some space.\n",
    "3. To correctly implement those ideas and distinguish them from Rice-encoded bytes, I also use some bits as flags.\n",
    "\n",
    "A new helper classes for working with bits during encoding/decoding have almost the same logic but are extended with additional functionality to ease the implementation of the ideas above."
   ],
   "metadata": {
    "collapsed": false
   },
   "id": "47ea637b77e782ab"
  },
  {
   "cell_type": "code",
   "outputs": [],
   "source": [
    "class EnhancedRiceEncodingWriteBitContainer(RiceEncodingWriteBitContainer):\n",
    "\n",
    "    def to_bytearray(self):\n",
    "        \"\"\"\n",
    "        Returns stored bits as bytearray.\n",
    "        \"\"\"\n",
    "        result = bytearray(self.byte_array)\n",
    "        if self.current_byte_bit_position != 0:\n",
    "            result.append(self.current_byte | ((1 << (7 - self.current_byte_bit_position)) - 1))\n",
    "        return result"
   ],
   "metadata": {
    "collapsed": false,
    "ExecuteTime": {
     "end_time": "2024-02-01T21:09:40.264704Z",
     "start_time": "2024-02-01T21:09:40.248996Z"
    }
   },
   "id": "958237cbee3d61a6",
   "execution_count": 53
  },
  {
   "cell_type": "code",
   "execution_count": 54,
   "outputs": [],
   "source": [
    "class EnhancedRiceEncodingReadBitContainer(RiceEncodingReadBitContainer):\n",
    "\n",
    "    def read_min_max_flag(self):\n",
    "        \"\"\"\n",
    "        Reads and returns a flag bit that indicates if the next bit can be 0 or 255 (encoded using idea 1)\n",
    "        \"\"\"\n",
    "        return self._read_bit()\n",
    "\n",
    "    def read_min_max_value(self):\n",
    "        \"\"\"\n",
    "        Reads a bit and returns 0 if the bit is 0, and 255 if the bit is 1 (according to the idea 1)\n",
    "        \"\"\"    \n",
    "        return 255 if self._read_bit() == 1 else 0\n",
    "\n",
    "    def read_large_value_flag(self):\n",
    "        \"\"\"\n",
    "        Reads and returns a flag bit that indicates if the next 2 bits are actually remainder (encoded using idea 2)\n",
    "        \"\"\"\n",
    "        return self._read_bit()\n",
    "\n",
    "    def read_large_value_remainder(self):\n",
    "        \"\"\"\n",
    "        Reads 2 remainder bits and returns it (according to the idea 2)\n",
    "        \"\"\"\n",
    "        first_bit = self._read_bit()\n",
    "        if first_bit is None:\n",
    "            return None\n",
    "        \n",
    "        second_bit = self._read_bit()\n",
    "        if second_bit is None:\n",
    "            return None\n",
    "        \n",
    "        return ((0 | first_bit) << 1) | second_bit"
   ],
   "metadata": {
    "collapsed": false,
    "ExecuteTime": {
     "end_time": "2024-02-01T21:09:41.485356Z",
     "start_time": "2024-02-01T21:09:41.468538Z"
    }
   },
   "id": "771b3dddcc83374d"
  },
  {
   "cell_type": "markdown",
   "source": [
    "Implement enhanced Rice encoding."
   ],
   "metadata": {
    "collapsed": false
   },
   "id": "8e7ed048bc4a32d5"
  },
  {
   "cell_type": "code",
   "execution_count": 55,
   "outputs": [],
   "source": [
    "def enhanced_encode(byte_array, k):\n",
    "    m = 1 << k\n",
    "    result = EnhancedRiceEncodingWriteBitContainer()\n",
    "\n",
    "    for byte in byte_array:\n",
    "        if byte == 0:\n",
    "            result.append(2, 2)\n",
    "            continue\n",
    "        if byte == 255:\n",
    "            result.append(3, 2)\n",
    "            continue\n",
    "        result.append(0, 1)\n",
    "        if k == 4 and byte > 63 or k == 2 and byte > 23:\n",
    "            result.append(1, 1)\n",
    "            result.append(byte % 4, 2)\n",
    "            byte = byte // 4\n",
    "        else:\n",
    "            result.append(0, 1)\n",
    "        r1 = byte & (m - 1)\n",
    "        r2 = (2 << (byte >> k)) - 2\n",
    "        result.append(value = (r2 << k) | r1, number_of_bits = (byte >> k) + 1 + k)\n",
    "      \n",
    "    return result.to_bytearray()"
   ],
   "metadata": {
    "collapsed": false,
    "ExecuteTime": {
     "end_time": "2024-02-01T21:09:42.743125Z",
     "start_time": "2024-02-01T21:09:42.723574Z"
    }
   },
   "id": "ec7d473693a1e9f9"
  },
  {
   "cell_type": "markdown",
   "source": [
    "Implement enhanced Rice decoding."
   ],
   "metadata": {
    "collapsed": false
   },
   "id": "11dd860636709b1d"
  },
  {
   "cell_type": "code",
   "execution_count": 56,
   "outputs": [],
   "source": [
    "def enhanced_decode(byte_array, k):\n",
    "    reader = EnhancedRiceEncodingReadBitContainer(byte_array)\n",
    "    m = 1 << k\n",
    "    result = bytearray()\n",
    "    \n",
    "    while True:\n",
    "        min_max_flag = reader.read_min_max_flag()\n",
    "        if min_max_flag is None:\n",
    "            return result\n",
    "        if min_max_flag == 1:\n",
    "            result.append(reader.read_min_max_value())\n",
    "            continue\n",
    "        \n",
    "        large_value_flag = reader.read_large_value_flag()\n",
    "        if large_value_flag is None:\n",
    "            return result\n",
    "        if large_value_flag == 1:\n",
    "            large_value_remainder = reader.read_large_value_remainder()\n",
    "        else:\n",
    "            large_value_remainder = 0\n",
    "        if large_value_remainder is None:\n",
    "            return result\n",
    "        \n",
    "        q = reader.read_number_of_ones()\n",
    "        if q is None:\n",
    "            return result\n",
    "        r = reader.read_k_bits(k)\n",
    "        \n",
    "        value = q * m + r\n",
    "        if large_value_flag:\n",
    "            value = value * 4 + large_value_remainder\n",
    "        \n",
    "        result.append(value)"
   ],
   "metadata": {
    "collapsed": false,
    "ExecuteTime": {
     "end_time": "2024-02-01T21:09:44.222021Z",
     "start_time": "2024-02-01T21:09:44.149052Z"
    }
   },
   "id": "f3f5c03df9fd0767"
  },
  {
   "cell_type": "markdown",
   "source": [
    "Test if enhanced encoding and decoding are lossless and work correctly at least when used together."
   ],
   "metadata": {
    "collapsed": false
   },
   "id": "18e4fab852bd08bf"
  },
  {
   "cell_type": "code",
   "execution_count": 57,
   "outputs": [
    {
     "name": "stdout",
     "output_type": "stream",
     "text": [
      "Testing k=2...\n",
      "Testing k=4...\n",
      "Everything is OK\n"
     ]
    }
   ],
   "source": [
    "import os\n",
    "import random\n",
    "\n",
    "for k in [2, 4]:\n",
    "    print(f'Testing k={k}...')\n",
    "    for i in range(1000):\n",
    "        byte_array = bytearray(os.urandom(random.randint(1, 10000)))\n",
    "        try:\n",
    "            assert byte_array == enhanced_decode(enhanced_encode(byte_array, k), k)\n",
    "        except:\n",
    "            print(byte_array)\n",
    "            raise Exception(\"Encoding/decoding error!!!\")\n",
    "\n",
    "print(\"Everything is OK\")"
   ],
   "metadata": {
    "collapsed": false,
    "ExecuteTime": {
     "end_time": "2024-02-01T21:10:59.566758Z",
     "start_time": "2024-02-01T21:09:52.198535Z"
    }
   },
   "id": "dfaf9e2584fd1213"
  },
  {
   "cell_type": "markdown",
   "source": [
    "Run enhanced encoding -> decoding on the audio files."
   ],
   "metadata": {
    "collapsed": false
   },
   "id": "d8255f3af9b640f"
  },
  {
   "cell_type": "code",
   "execution_count": 58,
   "outputs": [
    {
     "name": "stdout",
     "output_type": "stream",
     "text": [
      "File    Encoding      Original size    Rice (K = 2 bits)    % Compression    Rice (K = 4 bits)    % Compression\n",
      "                                                             (K = 2 bits)                          (K = 4 bits)\n",
      "------  ----------  ---------------  -------------------  ---------------  -------------------  ---------------\n",
      "Sound1  Regular             1002088              4115718              411              1516265              151\n",
      "Sound2  Regular             1008044              4348595              431              1575347              156\n",
      "Sound1  Enhanced            1002088              1226016              122               891488               89\n",
      "Sound2  Enhanced            1008044              1769833              176              1241172              123\n"
     ]
    }
   ],
   "source": [
    "for file in ['Sound1', 'Sound2']:\n",
    "    statistics = {'File': file, 'Encoding': 'Enhanced'}\n",
    "    \n",
    "    for k in [2, 4]:\n",
    "        with open(f'Exercise2_Files/{file}.wav', mode='rb') as original_sound:\n",
    "\n",
    "            original_bytes = original_sound.read()\n",
    "            statistics['Original size'] = len(original_bytes)\n",
    "\n",
    "            encoded_bytes = enhanced_encode(original_bytes, k = k)\n",
    "            statistics[f'Rice (K = {k} bits)'] = len(encoded_bytes)\n",
    "            statistics[f'% Compression\\n(K = {k} bits)'] = round(len(encoded_bytes) / len(original_bytes) * 100)\n",
    "\n",
    "            with open(f'Exercise2_Files/{file}_Enc_Enhanced.ex2', 'wb') as encoded_sound:\n",
    "                encoded_sound.write(encoded_bytes)\n",
    "\n",
    "        with open(f'Exercise2_Files/{file}_Enc_Enhanced.ex2', mode='rb') as encoded_sound:\n",
    "            encoded_bytes = encoded_sound.read()\n",
    "            with open(f'Exercise2_Files/{file}_Enc_Dec_Enhanced.wav', 'wb') as decoded_sound:\n",
    "                decoded_sound.write(enhanced_decode(encoded_bytes, k = k))\n",
    "\n",
    "        if not have_same_content(f'Exercise2_Files/{file}.wav', f'Exercise2_Files/{file}_Enc_Dec_Enhanced.wav'):\n",
    "            raise Exception(\"Encoding/decoding error!!!\")\n",
    "\n",
    "    total_statistics.append(statistics)\n",
    "    \n",
    "print_statistics(total_statistics)"
   ],
   "metadata": {
    "collapsed": false,
    "ExecuteTime": {
     "end_time": "2024-02-01T21:12:23.184395Z",
     "start_time": "2024-02-01T21:12:00.663138Z"
    }
   },
   "id": "ad08439e0067b701"
  }
 ],
 "metadata": {
  "kernelspec": {
   "display_name": "Python 3",
   "language": "python",
   "name": "python3"
  },
  "language_info": {
   "codemirror_mode": {
    "name": "ipython",
    "version": 2
   },
   "file_extension": ".py",
   "mimetype": "text/x-python",
   "name": "python",
   "nbconvert_exporter": "python",
   "pygments_lexer": "ipython2",
   "version": "2.7.6"
  }
 },
 "nbformat": 4,
 "nbformat_minor": 5
}
