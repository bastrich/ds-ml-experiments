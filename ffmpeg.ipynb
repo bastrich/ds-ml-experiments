{
 "cells": [
  {
   "metadata": {},
   "cell_type": "markdown",
   "source": [
    "# How ffprobe and ffmpeg has been installed and configured\n",
    "I have an Apple Macbook, so I just used the command brew install ffmpeg which automatically installs both ffprobe\n",
    "and ffmpeg.\n",
    "The Coursera lab environment already has installed ffprobe and ffmpeg.\n",
    "# Brief analysis of the application\n",
    "I start with installing ffmpeg and ffprobe as described in the previous section.\n",
    "As Python doesn’t provide a direct interface to ffprobe and ffmpeg I use the subprocess module from Python's\n",
    "standard library. It allows to run Command Line applications directly from Python. To ease handling ffrprobe results, I\n",
    "pass -print_format json as ffprobe argument.\n",
    "I define several functions to analyze and convert video files:\n",
    "1. get_film_file_info calls ffprobe and and returns a vide file metadata as Python dictionary.\n",
    "2. validate_film_file calls get_film_file_info and validates a video file metadata according to the requirements.\n",
    "The result is a list of validation errors.\n",
    "3. convert_film_file calls ffmpeg and converts a passed video file to a new file with the required format.\n",
    "Finally, I iterate over all the video files, validate them, and convert them if necessary.\n",
    "# Brief description of the terms\n",
    " - Video format (container) - The file format used to store video. Each format has its own file extension (.avi, .mp4)\n",
    "and describes a layout within the file: how and where the video and audio signals, metadata, and subtitles are\n",
    "located.\n",
    " - Video codec - The algorithm used to encode and decode a video signal. It may be lossless (Huffyuv, FFV1) or lossy\n",
    "(H.265, VP9).\n",
    " - Audio codec - The algorithm used to encode and decode an audio signal. It also may be lossless (FLAC, WavPack)\n",
    "or lossy (MP3, AAC).\n",
    " - Frame rate - The number indicating how many images are shown per second during video playback. Often called\n",
    "FPS (frames per second).\n",
    " - Aspect ratio - Proportion between a video's width and height. It may be expressed in a single number, but 2\n",
    "numbers are used more often, for example, 16:9, and 4:3.\n",
    " - Resolution - Two numbers representing the number of pixels per video frame. They are usually presented as the\n",
    "width and height of a video measured in pixels, for example, 800x600, 1920x1080.\n",
    " - Video bit rate - Number of bits representing one second of a video signal. It is typically measured in megabits per\n",
    "second (Mbps). May vary during the video playback.\n",
    " - Audio bit rate - Number of bits representing one second of an audio signal. It is typically measured in kilobits per\n",
    "second (kbps).\n",
    " - Audio channels - Number of separate audio signals representing a single perceived audio signal, for example,\n",
    "mono (1 channel), stereo (2 channels), and surround sound (6-8 channels)."
   ],
   "id": "1ee9b135ee8c3f8e"
  },
  {
   "metadata": {
    "collapsed": false
   },
   "cell_type": "markdown",
   "source": "Install ffmpeg and fprobe on my Mac laptop.",
   "id": "d5fb56922e21d3e9"
  },
  {
   "cell_type": "code",
   "outputs": [
    {
     "name": "stdout",
     "output_type": "stream",
     "text": [
      "\u001B[33mWarning:\u001B[0m ffmpeg 6.1.1_3 is already installed and up-to-date.\r\n",
      "To reinstall 6.1.1_3, run:\r\n",
      "  brew reinstall ffmpeg\r\n"
     ]
    }
   ],
   "source": [
    "!brew install ffmpeg"
   ],
   "metadata": {
    "collapsed": false,
    "ExecuteTime": {
     "end_time": "2024-02-02T17:48:46.638554Z",
     "start_time": "2024-02-02T17:48:42.585233Z"
    }
   },
   "id": "c4f45588894747dc",
   "execution_count": 2
  },
  {
   "cell_type": "markdown",
   "source": [
    "Import required dependencies."
   ],
   "metadata": {
    "collapsed": false
   },
   "id": "e626832f1018a1c0"
  },
  {
   "cell_type": "code",
   "outputs": [],
   "source": [
    "import subprocess\n",
    "import json\n",
    "import os"
   ],
   "metadata": {
    "collapsed": false,
    "ExecuteTime": {
     "end_time": "2024-02-02T17:48:57.142564Z",
     "start_time": "2024-02-02T17:48:57.137942Z"
    }
   },
   "id": "fcf63f71dd02101d",
   "execution_count": 3
  },
  {
   "cell_type": "markdown",
   "source": [
    "Define a function that uses fprobe to read metadata from a video file given its path, and returns the metadata as a Python dictionary."
   ],
   "metadata": {
    "collapsed": false
   },
   "id": "e374f2785091d88"
  },
  {
   "cell_type": "code",
   "outputs": [],
   "source": [
    "def get_film_file_info(file_path):\n",
    "    ffprobe_result = subprocess.run(\n",
    "        [\n",
    "            'ffprobe',               # call ffprobe\n",
    "            '-v', 'error',           # print only error logs\n",
    "            '-show_format',          # print format metadata\n",
    "            '-show_streams',         # print streams metadata\n",
    "            '-print_format', 'json', # use JSON as an output format\n",
    "            file_path\n",
    "        ],\n",
    "        stdout=subprocess.PIPE, \n",
    "        stderr=subprocess.STDOUT\n",
    "    )\n",
    "    \n",
    "    if ffprobe_result.returncode != 0:\n",
    "        print(f'Error reading info from file ${file_path}')\n",
    "        return None\n",
    "    \n",
    "    return json.loads(ffprobe_result.stdout)"
   ],
   "metadata": {
    "collapsed": false,
    "ExecuteTime": {
     "end_time": "2024-02-02T17:54:25.427178Z",
     "start_time": "2024-02-02T17:54:25.423310Z"
    }
   },
   "id": "156b6b43e1aa38ee",
   "execution_count": 5
  },
  {
   "cell_type": "markdown",
   "source": [
    "Define a function that read a video file's metadata using the function above and validates if the file meets the requirements."
   ],
   "metadata": {
    "collapsed": false
   },
   "id": "d6a657a56b3c352a"
  },
  {
   "cell_type": "code",
   "outputs": [],
   "source": [
    "def validate_film_file(file_path):\n",
    "    file_info = get_film_file_info(file_path)\n",
    "\n",
    "    validation_errors = []\n",
    "\n",
    "    file_format = file_info.get('format')\n",
    "    if file_format is None:\n",
    "        validation_errors.append('No format metadata presented in the file')\n",
    "    else:\n",
    "        format_name = file_format.get('format_name', file_path[:-3])\n",
    "        if format_name is None:\n",
    "            validation_errors.append('No format name available in the file')\n",
    "        elif 'mp4' not in format_name.split(','):\n",
    "            validation_errors.append(f'Video format (container): expected \"mp4\", actual \"{format_name}\"')\n",
    "    \n",
    "    streams = file_info.get('streams')\n",
    "    if streams is None:\n",
    "        validation_errors.append('No streams metadata presented in the file')\n",
    "        return validation_errors\n",
    "    elif len(streams) < 2:\n",
    "        validation_errors.append(f'Number of streams: expected \"at least 2 (video and audio)\", actual \"{len(streams)}\"')\n",
    "    \n",
    "    audio_stream = next((stream for stream in streams if stream.get('codec_type') == 'audio'))\n",
    "    if audio_stream is None:\n",
    "        validation_errors.append('No audio stream metadata presented in the file')\n",
    "    else:\n",
    "        audio_codec_name = audio_stream.get('codec_name')\n",
    "        if audio_codec_name != 'aac':\n",
    "            validation_errors.append(f'Audio codec: expected \"aac\", actual \"{audio_codec_name}\"')\n",
    "\n",
    "        audio_channel_layout = audio_stream.get('channel_layout')\n",
    "        if audio_channel_layout != 'stereo':\n",
    "            validation_errors.append(f'Audio channels: expected \"stereo\", actual \"{audio_channel_layout}\"')\n",
    "\n",
    "        audio_bit_rate_str = audio_stream.get('bit_rate')\n",
    "        audio_bit_rate = int(audio_bit_rate_str) if audio_bit_rate_str else None\n",
    "        if not audio_bit_rate or audio_bit_rate > 256 * 1024 * 8:\n",
    "            validation_errors.append(f'Audio bit rate: expected \"up to 256 kb/s\", actual \"{audio_bit_rate / 8 / 1024} kb/s\"')\n",
    "        \n",
    "    video_stream = next((stream for stream in streams if stream.get('codec_type') == 'video'))\n",
    "    if video_stream is None:\n",
    "        validation_errors.append('No video stream metadata presented in the file')\n",
    "    else:\n",
    "        video_codec_name = video_stream.get('codec_name')\n",
    "        if video_codec_name != 'h264':\n",
    "            validation_errors.append(f'Video codec: expected \"h.264\", actual \"{video_codec_name}\"')\n",
    "    \n",
    "        frame_rate_str = video_stream.get('r_frame_rate')\n",
    "        number_of_frames, duration = map(int, frame_rate_str.split('/'))\n",
    "        frame_rate = number_of_frames / duration\n",
    "        if frame_rate != 25:\n",
    "            validation_errors.append(f'Frame rate: expected \"25 FPS\", actual \"{frame_rate} FPS\"')\n",
    "\n",
    "        width = video_stream.get('width')\n",
    "        height = video_stream.get('height')\n",
    "        if width != 640 or height != 360:\n",
    "            validation_errors.append(f'Resolution: expected \"640 x 360\", actual \"{width} x {height}\"')\n",
    "            \n",
    "        aspect_ratio_str = video_stream.get('display_aspect_ratio')\n",
    "        if aspect_ratio_str is not None:\n",
    "            aspect_width, aspect_height = map(int, aspect_ratio_str.split(':'))\n",
    "        else:\n",
    "            aspect_width, aspect_height = width, height \n",
    "        if aspect_width * 9 != aspect_height * 16:\n",
    "            validation_errors.append(f'Aspect ratio: expected \"16:9\", actual \"{aspect_width}:{aspect_height}\"')\n",
    "            \n",
    "        video_bit_rate_str = video_stream.get('bit_rate')\n",
    "        video_bit_rate = int(video_bit_rate_str) if video_bit_rate_str else None\n",
    "        if not video_bit_rate or not 2 * 1024 * 1024 * 8 <= video_bit_rate <= 5 * 1024 * 1024 * 8:\n",
    "            validation_errors.append(f'Video bit rate: expected \"2 – 5 Mb/s\", actual \"{video_bit_rate / 8 / 1024 / 1024} Mb/s\"')\n",
    "        \n",
    "    return validation_errors"
   ],
   "metadata": {
    "collapsed": false,
    "ExecuteTime": {
     "end_time": "2024-02-02T22:47:22.287584Z",
     "start_time": "2024-02-02T22:47:22.276375Z"
    }
   },
   "id": "7d14011718365573",
   "execution_count": 6
  },
  {
   "cell_type": "markdown",
   "source": [
    "Define a function that converts a video file to the required format given a file path."
   ],
   "metadata": {
    "collapsed": false
   },
   "id": "f920e56a0a0ce507"
  },
  {
   "cell_type": "code",
   "outputs": [],
   "source": [
    "def convert_film_file(file_path):\n",
    "    return_code = subprocess.run([\n",
    "        'ffmpeg',                        # call ffprobe\n",
    "        '-y',                            # rewrite an output file if already exists\n",
    "        '-v', 'error',                   # print only error log\n",
    "        '-i', file_path,                 # input file path\n",
    "        '-c:v', 'libx264',               # desired video codec\n",
    "        '-c:a', 'aac',                   # desired audio codec\n",
    "        '-ac', '2',                      # desired audio channels\n",
    "        '-b:a', '256k',                  # desired audio bit rate\n",
    "        '-r', '25',                      # desired frame rate\n",
    "        '-s', '640x360',                 # desired resolution\n",
    "        '-aspect', '16:9',               # desired aspect ratio\n",
    "        '-minrate', '2M',                # minimal video bit rate\n",
    "        '-b:v', '3M',                    # desired video bit rate\n",
    "        '-maxrate', '5M',                # maximal video bit rate\n",
    "        '-bufsize', '1M',                # service option for configuring video bit rate\n",
    "        file_path[:-4] + \"_formatOK.mp4\" # output file path\n",
    "    ]).returncode\n",
    "    \n",
    "    if return_code != 0:\n",
    "        print(f'Error converting file ${file_path}')\n",
    "        return False\n",
    "    \n",
    "    return True"
   ],
   "metadata": {
    "collapsed": false,
    "ExecuteTime": {
     "end_time": "2024-02-02T22:57:14.529659Z",
     "start_time": "2024-02-02T22:57:14.522327Z"
    }
   },
   "id": "3b035e4b52668c83",
   "execution_count": 7
  },
  {
   "cell_type": "markdown",
   "source": [
    "Run the algorithm."
   ],
   "metadata": {
    "collapsed": false
   },
   "id": "649f225e3d929928"
  },
  {
   "cell_type": "code",
   "outputs": [
    {
     "name": "stdout",
     "output_type": "stream",
     "text": [
      "Last_man_on_earth_1964.mov\n",
      "\tAudio codec: expected \"aac\", actual \"pcm_s16le\"\n",
      "\tVideo codec: expected \"h.264\", actual \"prores\"\n",
      "\tFrame rate: expected \"25 FPS\", actual \"23.976023976023978 FPS\"\n",
      "\tVideo bit rate: expected \"2 – 5 Mb/s\", actual \"1.106881022453308 Mb/s\"\n",
      "Voyage_to_the_Planet_of_Prehistoric_Women.mp4\n",
      "\tAudio codec: expected \"aac\", actual \"mp3\"\n",
      "\tVideo codec: expected \"h.264\", actual \"hevc\"\n",
      "\tFrame rate: expected \"25 FPS\", actual \"29.97002997002997 FPS\"\n",
      "\tVideo bit rate: expected \"2 – 5 Mb/s\", actual \"0.9583064317703247 Mb/s\"\n",
      "The_Gun_and_the_Pulpit.avi\n",
      "\tVideo format (container): expected \"mp4\", actual \"avi\"\n",
      "\tAudio codec: expected \"aac\", actual \"pcm_s16le\"\n",
      "\tAudio channels: expected \"stereo\", actual \"None\"\n",
      "\tVideo codec: expected \"h.264\", actual \"rawvideo\"\n",
      "\tResolution: expected \"640 x 360\", actual \"720 x 404\"\n",
      "\tAspect ratio: expected \"16:9\", actual \"720:404\"\n",
      "\tVideo bit rate: expected \"2 – 5 Mb/s\", actual \"10.423526525497437 Mb/s\"\n",
      "Cosmos_War_of_the_Planets.mp4\n",
      "\tFrame rate: expected \"25 FPS\", actual \"29.97002997002997 FPS\"\n",
      "\tResolution: expected \"640 x 360\", actual \"628 x 354\"\n",
      "\tAspect ratio: expected \"16:9\", actual \"314:177\"\n",
      "\tVideo bit rate: expected \"2 – 5 Mb/s\", actual \"0.3563615083694458 Mb/s\"\n",
      "The_Hill_Gang_Rides_Again.mp4\n",
      "\tVideo bit rate: expected \"2 – 5 Mb/s\", actual \"0.8985674381256104 Mb/s\"\n"
     ]
    }
   ],
   "source": [
    "root_path = 'Exercise3_Films'\n",
    "\n",
    "def is_original_submitted_file(file_name):\n",
    "    \"\"\"\n",
    "    Checks if the file is one of the assignment files but not some other file\n",
    "    \"\"\"\n",
    "    return (not file_name.startswith('.') \n",
    "            and not file_name.endswith('_formatOK.mp4') \n",
    "            and os.path.isfile(root_path + '/' + file_name))\n",
    "\n",
    "report_text = ''\n",
    "for video_file in [file for file in os.listdir(root_path) if is_original_submitted_file(file)]:\n",
    "    validation_results = validate_film_file(root_path + '/' + video_file)\n",
    "    if len(validation_results) > 0:\n",
    "        report_text += video_file + '\\n'\n",
    "        for validation_result in validation_results:\n",
    "            report_text += '\\t' + validation_result + '\\n'\n",
    "\n",
    "        convert_film_file(root_path + '/' + video_file)\n",
    "\n",
    "with open('report.txt', 'w') as f:\n",
    "    f.write(report_text)\n",
    "\n",
    "print(report_text)"
   ],
   "metadata": {
    "collapsed": false,
    "ExecuteTime": {
     "end_time": "2024-02-02T23:00:38.498772Z",
     "start_time": "2024-02-02T22:59:59.969953Z"
    }
   },
   "id": "465b10b6df7824de",
   "execution_count": 8
  }
 ],
 "metadata": {
  "kernelspec": {
   "display_name": "Python 3",
   "language": "python",
   "name": "python3"
  },
  "language_info": {
   "codemirror_mode": {
    "name": "ipython",
    "version": 2
   },
   "file_extension": ".py",
   "mimetype": "text/x-python",
   "name": "python",
   "nbconvert_exporter": "python",
   "pygments_lexer": "ipython2",
   "version": "2.7.6"
  }
 },
 "nbformat": 4,
 "nbformat_minor": 5
}
