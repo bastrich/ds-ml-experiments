{
 "cells": [
  {
   "cell_type": "markdown",
   "source": [
    "Start with installing required dependencies."
   ],
   "metadata": {
    "collapsed": false
   },
   "id": "a8ace43a377a7b55"
  },
  {
   "cell_type": "code",
   "outputs": [
    {
     "name": "stdout",
     "output_type": "stream",
     "text": [
      "Requirement already satisfied: numpy in /Users/bastrich/isp-final/lib/python3.11/site-packages (1.26.3)\r\n",
      "Requirement already satisfied: opencv-python in /Users/bastrich/isp-final/lib/python3.11/site-packages (4.9.0.80)\r\n"
     ]
    }
   ],
   "source": [
    "!pip install numpy opencv-python"
   ],
   "metadata": {
    "collapsed": false,
    "ExecuteTime": {
     "end_time": "2024-01-30T19:20:10.700415Z",
     "start_time": "2024-01-30T19:20:08.531741Z"
    }
   },
   "id": "851507837f730e2",
   "execution_count": 4
  },
  {
   "cell_type": "markdown",
   "source": [
    "Import required dependencies."
   ],
   "metadata": {
    "collapsed": false
   },
   "id": "ecf56944f034b19d"
  },
  {
   "cell_type": "code",
   "outputs": [],
   "source": [
    "import cv2\n",
    "import numpy as np"
   ],
   "metadata": {
    "collapsed": false,
    "ExecuteTime": {
     "end_time": "2024-01-30T19:20:34.335062Z",
     "start_time": "2024-01-30T19:20:13.312585Z"
    }
   },
   "id": "a4273cdca97e3ab6",
   "execution_count": 5
  },
  {
   "cell_type": "markdown",
   "source": [
    "Define a method to draw a red rectangle in open cv frame as shown in the screenshot from assessment."
   ],
   "metadata": {
    "collapsed": false
   },
   "id": "e2f38cb5f1a6ad92"
  },
  {
   "cell_type": "code",
   "execution_count": 6,
   "outputs": [],
   "source": [
    "def draw_dashed_rectangle(frame, start_point, end_point, color = (0, 0, 255), thickness = 4, dash_length = 15):\n",
    "    start_x, start_y = start_point\n",
    "    end_x, end_y = end_point\n",
    "    \n",
    "    for x in range(start_x, end_x, dash_length * 2):\n",
    "        start_point = (x, start_y)\n",
    "        end_point = (min(x + dash_length, end_x), start_y)\n",
    "        cv2.line(frame, start_point, end_point, color, thickness)\n",
    "\n",
    "        start_point = (x, end_y)\n",
    "        end_point = (min(x + dash_length, end_x), end_y)\n",
    "        cv2.line(frame, start_point, end_point, color, thickness)\n",
    "\n",
    "    for y in range(start_y, end_y, dash_length * 2):\n",
    "        start_point = (start_x, y)\n",
    "        end_point = (start_x, min(y + dash_length, end_y))\n",
    "        cv2.line(frame, start_point, end_point, color, thickness)\n",
    "\n",
    "        start_point = (end_x, y)\n",
    "        end_point = (end_x, min(y + dash_length, end_y))\n",
    "        cv2.line(frame, start_point, end_point, color, thickness)"
   ],
   "metadata": {
    "collapsed": false,
    "ExecuteTime": {
     "end_time": "2024-01-30T19:26:18.769786Z",
     "start_time": "2024-01-30T19:26:18.765631Z"
    }
   },
   "id": "c1e4556b66d0fd64"
  },
  {
   "cell_type": "markdown",
   "source": [
    "Define a method returning coordinates of the Main Street borders."
   ],
   "metadata": {
    "collapsed": false
   },
   "id": "b7ab2499694b3346"
  },
  {
   "cell_type": "code",
   "execution_count": 7,
   "outputs": [],
   "source": [
    "def get_main_street_border_coordinates(frame):\n",
    "    return (\n",
    "        2,\n",
    "        int(frame.shape[0] * 0.43),\n",
    "        frame.shape[1] - 4,\n",
    "        frame.shape[0] - 10\n",
    "    )"
   ],
   "metadata": {
    "collapsed": false,
    "ExecuteTime": {
     "end_time": "2024-01-30T19:26:20.231459Z",
     "start_time": "2024-01-30T19:26:20.222438Z"
    }
   },
   "id": "efb57ca0d3a5b85e"
  },
  {
   "cell_type": "markdown",
   "source": [
    "Define a method for a frame preprocessing. We crop the main street, apply grayscale and Gaussian Blur effects. Such a preprocessing simplifies car detection algorithm and improves its performance allowing to avoid unnecessary image details."
   ],
   "metadata": {
    "collapsed": false
   },
   "id": "4656fc737f771468"
  },
  {
   "cell_type": "code",
   "execution_count": 8,
   "outputs": [],
   "source": [
    "def preprocess_frame(frame, main_street_start_x, main_street_start_y, main_street_end_x, main_street_end_y):\n",
    "    detection_frame = frame[main_street_start_y:main_street_end_y, main_street_start_x:main_street_end_x]\n",
    "    gray_frame = cv2.cvtColor(detection_frame, cv2.COLOR_BGR2GRAY)\n",
    "    return cv2.GaussianBlur(gray_frame, (25,25), 1)"
   ],
   "metadata": {
    "collapsed": false,
    "ExecuteTime": {
     "end_time": "2024-01-30T19:26:21.798998Z",
     "start_time": "2024-01-30T19:26:21.795169Z"
    }
   },
   "id": "221f257e2bece1dd"
  },
  {
   "cell_type": "markdown",
   "source": [
    "Run the car detection demonstration."
   ],
   "metadata": {
    "collapsed": false
   },
   "id": "b97a7d73c1f543e9"
  },
  {
   "cell_type": "code",
   "execution_count": 9,
   "outputs": [],
   "source": [
    "# read video file\n",
    "video = cv2.VideoCapture('Exercise1_Files/Traffic_Laramie_1.mp4')\n",
    "\n",
    "# read initial frame without cars for using in background subtraction\n",
    "initial_frame = video.read()[1]\n",
    "\n",
    "# define main street borders\n",
    "main_street_start_x, main_street_start_y, main_street_end_x, main_street_end_y = get_main_street_border_coordinates(initial_frame)\n",
    "\n",
    "# preprocess initial frame\n",
    "initial_frame = preprocess_frame(initial_frame, main_street_start_x, main_street_start_y, main_street_end_x, main_street_end_y)\n",
    "\n",
    "# prepare previous frame for using in frame differencing \n",
    "prev_frame = initial_frame\n",
    "\n",
    "# read the next frame\n",
    "check, frame = video.read()\n",
    "while check:\n",
    "    \n",
    "    # preprocess the current frame\n",
    "    blur_frame = preprocess_frame(frame, main_street_start_x, main_street_start_y, main_street_end_x, main_street_end_y)\n",
    "    \n",
    "    # calculate \"delta\" frame using frame differencing and background subtraction techniques at the same time\n",
    "    delta_frame = (cv2.absdiff(initial_frame, blur_frame) * 0.5 + cv2.absdiff(prev_frame, blur_frame) * 0.5).astype(np.uint8)\n",
    "    \n",
    "    # apply threshold to the \"delta\" frame for ease of objects detection\n",
    "    threshold_frame=cv2.threshold(delta_frame, 12, 255, cv2.THRESH_BINARY)[1]\n",
    "\n",
    "    # find objects contours in the threshold frame\n",
    "    contours, _ = cv2.findContours(threshold_frame,cv2.RETR_EXTERNAL,cv2.CHAIN_APPROX_SIMPLE)\n",
    "    \n",
    "    # iterate over found objects\n",
    "    for c in contours:\n",
    "        \n",
    "        # skip small objects (people, bicycles, etc.)\n",
    "        if cv2.contourArea(c) < 3000:\n",
    "            continue\n",
    "        \n",
    "        # find coordinates of a rectangle around the object\n",
    "        (x, y, w, h) = cv2.boundingRect(c)\n",
    "        \n",
    "        # draw rectangle as shown in the screenshot from assessment\n",
    "        cv2.rectangle(\n",
    "            frame, \n",
    "            (x + main_street_start_x, y + main_street_start_y), \n",
    "            (x+ main_street_start_x + w, y+main_street_start_y+h), \n",
    "            (0, 255, 0), \n",
    "            1\n",
    "        )\n",
    "\n",
    "    # draw the street text label as shown in the screenshot from assessment\n",
    "    cv2.putText(frame, 'Main street', (main_street_start_x, main_street_start_y - 20), cv2.FONT_HERSHEY_SIMPLEX, 1.5, (0, 0, 255), 2)\n",
    "\n",
    "    # draw Main Street borders as shown in the screenshot from assessment\n",
    "    draw_dashed_rectangle(\n",
    "        frame = frame,\n",
    "        start_point = (main_street_start_x, main_street_start_y),\n",
    "        end_point = (main_street_end_x, main_street_end_y)\n",
    "    )\n",
    "    \n",
    "    # show detected cars\n",
    "    cv2.imshow('Traffic Camera', frame)\n",
    "\n",
    "    # update the previous frame\n",
    "    prev_frame = blur_frame\n",
    "\n",
    "    # read the next frame\n",
    "    check, frame = video.read()\n",
    "\n",
    "    # handle quit\n",
    "    playbackAction = cv2.waitKey(1)\n",
    "    if playbackAction == ord('q'):\n",
    "        break\n",
    "\n",
    "# gracefully shutdown the demonstration\n",
    "video.release()\n",
    "cv2.destroyAllWindows()"
   ],
   "metadata": {
    "collapsed": false,
    "ExecuteTime": {
     "end_time": "2024-01-30T19:27:59.903194Z",
     "start_time": "2024-01-30T19:26:23.752354Z"
    }
   },
   "id": "9339f919252426ec"
  }
 ],
 "metadata": {
  "kernelspec": {
   "display_name": "Python 3",
   "language": "python",
   "name": "python3"
  },
  "language_info": {
   "codemirror_mode": {
    "name": "ipython",
    "version": 2
   },
   "file_extension": ".py",
   "mimetype": "text/x-python",
   "name": "python",
   "nbconvert_exporter": "python",
   "pygments_lexer": "ipython2",
   "version": "2.7.6"
  }
 },
 "nbformat": 4,
 "nbformat_minor": 5
}
