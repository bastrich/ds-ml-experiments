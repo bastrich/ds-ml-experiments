{
 "cells": [
  {
   "cell_type": "markdown",
   "metadata": {
    "pycharm": {
     "name": "#%% md\n"
    }
   },
   "source": [
    "# Prediction of movie genres by plot summary"
   ]
  },
  {
   "cell_type": "markdown",
   "metadata": {},
   "source": [
    "## I. Introduction\n",
    "### 1. Domain-specific area\n",
    "In this work we are going to consider the problem of prediction of a movie genres by its plot summary. Each movie may have a few genres, so the problem can be described as given a plot summary, predict a set of genres. From the point of NLP that task can be considered as a **Multiclass text classification** (if we consider each possible genre combination as a separate class) or as a **Multilabel text classification** (if we consider an each genre as a separate class). In this work we are considering an approach with **Multilabel test classification**, because **Multiclass text classification** does not provide much flexibility and it is not possible to have each possible genre combination in a training dataset.\n",
    "\n",
    "The task was previously considered in many articles, but not all the challenges were addressed. Usually a preprocessing step is quite minimal and an evaluation is not always correct (for example, using accuracy as is for evaluation of **Multilabel text classification**).\n",
    "\n",
    "Using modern advanced languages models like **BERT** or **GPT** allows to minimize the preprocessing step and even almost avoid it, but in this work we are going to consider more classical approaches like Word2Vec (Doc2Vec) for 2 reasons:\n",
    "1. Existing articles on genre classification mostly use TFIDF or Word2Vec. And in this work we will try to compare performance using the same or similar text vectorization approach but with more detailed preprocessing step to show importance of the text preprocessing.\n",
    "2. In this work we are aimed aldo to demonstrate concrete text preprocessing techniques which is not required when using BERT or GPT.\n",
    "\n",
    "The challenges may be:\n",
    "1. There is always a bit of randomnes in assigning genres to a movies, because it is done by people who have different cultural background, life experince and so on. For example, the same title for different people can be Anime, Cartoon or both. Also there is always a global cultural context. For example the word \"Batman\" can be considered as a feature of Action genre or as a feature of Sci-Fi genre depending on the depth of immersion in the global context.\n",
    "2. The genre prediction is a Multilabel classification task. It means classes are not mutually exclusive and a movie can have several classes. That requires additional preprocessing step, special classifiers and non-standard evaluation approach.\n",
    "3. There are no full datasets legally available. Public datasets are usually small (not more than 30-40 thousands of summaries). If we want the fullest dataset we need to use webscraping and face the legal consequences.\n",
    "4. The task can be similar to sentiment analysis task, but there are some differences, for example, sometemies proper nouns should be considered separately to make a link between genres.\n",
    "\n",
    "Useful contributions can be:\n",
    "1. Film industry (automatic genre prediction for producers, writers, copyrighters, movie catalogues sites)\n",
    "2. News resources (autonatic genre prediction for articles about movies)\n",
    "\n",
    "### 2. Objectives\n",
    "The following obejctives are identified:\n",
    "1. Aquire a big enough plot summaries dataset.\n",
    "2. Find articles considering similar problem to use for comparison as baseline performance.\n",
    "3. Find a correct way for preprocessing and vectorizing summary texts.\n",
    "4. Find a correct classfication approach, implement and run it.\n",
    "5. Build required metrics, evaluate classification and compare performance with baseline references.\n",
    "\n",
    "### 3. Dataset\n",
    "This work requires dataset with movies genres and movies plot summaries. There are such datasets ovet the Internet, but usually they are cut and incomplete. So this work includes the process of acquiring requred dataset consisting of several steps.\n",
    "\n",
    "IMDb is chosen as the main source of data as it has one of the most complete sets of data about movies. There is a dataset available for personal non-commercial usage [[1]](#1)[[2]](#2) but it does not have plot summaries. Plot summaries can be acquired only by web-scraping from movie summary pages [[3]](#3).\n",
    "\n",
    "The steps required for aqcuiring required dataset are the following:\n",
    "1. Download official IMDB movie dataset with genres [[2]](#2). Each row contains info about movie IMDB id, title, genres and so on. We will need only the following columns:\n",
    "    - tconst - unique string identifier of a movie\n",
    "    - titleType - categorical string, represents title type (e.g. movie, tv series, show, etc.)\n",
    "    - originalTitle - string, movie title\n",
    "    - genres - string, comma separated list of genres\n",
    "    The dataset has almost 600.000 rows.\n",
    "2. Scrape plot summaries from IMDB plot summary page [[3]](#3) for each movie from the official IMDB dataset above. Each movie may have a few summaries. After the scraping we will have the dataset with the following columns:\n",
    "    - tconst - unique string identifier of a movie\n",
    "    - Summary - string, movie summary\n",
    "    Not all the movies have plot summaries. At the result the dataset has about 480.000 summaries, \n",
    "3. Merge 2 dataset above to a single dataset with the following columns: \n",
    "    - Id - unique string identifier of a movie\n",
    "    - Title - string, movie title\n",
    "    - Genres - string array, list of genres\n",
    "    - Summary - string, movie summary\n",
    "    The dataset has about 480.000 rows.\n",
    "\n",
    "### 4. Evaluation methodology\n",
    "When choosing evaluation metrics in this work, the wollowing factors were considered:\n",
    "1. Metrics should used in other similar projects to have something to compare.\n",
    "2. There should not be options when metrics has a high value for in fact a bad model.\n",
    "3. Metrics should reflect the multi-label classification approach correctly.\n",
    "\n",
    "At the result the metrics chosen are:\n",
    "1. **Accuracy** - (TP + TN) / (TP + TN + FP + FN). Not expected to be high for multi-label classification. Used just for comparison with other baselines.\n",
    "2. **Hamming Loss** - the fraction of labels that are incorrectly predicted. Can be used as a forgiving version of accuracy for multi-label classification. Less is better.\n",
    "3. **Precision-micro** - TP / (TP + FP). Shows the ability of the classifier not to label as positive a sample that is negative. Micro- version is calculated globally by counting the total TP and FP. This is a better metric when we have class imbalance.\n",
    "4. **Recall-micro** - TP / (TP + FN). Shows the ability of the classifier to find all the positive samples. Micro- version is calculated globally by counting the total TP and FN. This is a better metric when we have class imbalance.\n",
    "5. **F1-micro** - 2 * (Precision * Recall) / (Precision + Recall). Can be interpreted as a harmonic mean of the precision and recall. Micro- version is calculated globally by counting the total TP, FN and FP This is a better metric when we have class imbalance.\n",
    "6. **Precision-macro** - TP / (TP + FP). Shows the ability of the classifier not to label as positive a sample that is negative. In macro- version the metrics is calculated for each label separately, then theirs unweighted mean gives the final result. This does not take label imbalance into account.\n",
    "7. **Recall-macro** - TP / (TP + FN). Shows the ability of the classifier to find all the positive samples. In macro- version the metrics is calculated for each label separately, then theirs unweighted mean gives the final result. This does not take label imbalance into account.\n",
    "8. **F1-macro** - 2 * (Precision * Recall) / (Precision + Recall). Can be interpreted as a harmonic mean of the precision and recall. In macro- version the metrics is calculated for each label separately, then theirs unweighted mean gives the final result. This does not take label imbalance into account.\n",
    "\n",
    "The metrics are considered in the global prediction context and per a genre.\n",
    "\n",
    "## II. Implementation\n",
    "\n",
    "The project data are uploaded to Google Drive storage and can be downloaded by the sharing link [[14]](#14).\n",
    "Scheme of the data folder:\n",
    " 1. /data/raw/title.basics.tsv - Movie dataset from IMDB [[2]](#2).\n",
    " 2. /data/scraped/summaries.csv - Plot summaries scraped from IMDB.\n",
    " 3. /data/prepared/movies.csv - Merged dataset with movie genres and summaries.\n",
    " 4. /data/models/doc2vec - Doc2Vec models for different vector sizes.\n",
    " 5. /data/models/mlp.pickle - Final MLP-classifier.\n",
    " 6. /data/preprocessed/binarization_classes.csv - CSV for inverse genres binarization.\n",
    " 7. /data/preprocessed/train.pickle - Vectorized training dataset.\n",
    " 8. /data/preprocessed/test.pickle - Vectorized testing dataset."
   ]
  },
  {
   "cell_type": "markdown",
   "metadata": {},
   "source": [
    "Let's start with installing required dependencies and configuring widgets"
   ]
  },
  {
   "metadata": {},
   "cell_type": "code",
   "outputs": [],
   "execution_count": null,
   "source": "!pip install wheel matplotlib pandas numpy bs4 asyncio aiohttp aiohttp-retry tqdm aiofiles aiocsv ipywidgets jupyter_contrib_nbextensions contractions nltk svgling pandarallel scikit-learn gensim seaborn"
  },
  {
   "cell_type": "code",
   "execution_count": null,
   "metadata": {
    "collapsed": false,
    "jupyter": {
     "outputs_hidden": false
    },
    "pycharm": {
     "name": "#%%\n"
    }
   },
   "outputs": [],
   "source": [
    "import sys\n",
    "!{sys.executable} -m jupyter nbextension enable --py widgetsnbextension"
   ]
  },
  {
   "cell_type": "markdown",
   "metadata": {},
   "source": [
    "Now let's add required imports and configure display options"
   ]
  },
  {
   "cell_type": "code",
   "execution_count": null,
   "metadata": {},
   "outputs": [],
   "source": [
    "import pandas as pd\n",
    "import numpy as np\n",
    "import matplotlib.pyplot as plt\n",
    "import seaborn as sns\n",
    "\n",
    "import nltk\n",
    "from nltk.tokenize import NLTKWordTokenizer, WordPunctTokenizer\n",
    "from nltk.sentiment.util import mark_negation\n",
    "from nltk.stem import WordNetLemmatizer\n",
    "from nltk import sent_tokenize\n",
    "from nltk.corpus import wordnet\n",
    "\n",
    "from gensim.models.doc2vec import Doc2Vec, TaggedDocument\n",
    "from gensim.models.callbacks import CallbackAny2Vec\n",
    "\n",
    "from sklearn.preprocessing import MultiLabelBinarizer\n",
    "from sklearn.model_selection import train_test_split, GridSearchCV\n",
    "from sklearn.metrics import make_scorer, f1_score, accuracy_score, \\\n",
    "    hamming_loss, classification_report, confusion_matrix, \\\n",
    "    precision_score, recall_score, multilabel_confusion_matrix, \\\n",
    "    ConfusionMatrixDisplay\n",
    "from sklearn.neural_network import MLPClassifier\n",
    "\n",
    "import asyncio\n",
    "import aiohttp\n",
    "import aiofiles\n",
    "import csv\n",
    "import json\n",
    "import contractions\n",
    "import string\n",
    "from aiocsv import AsyncWriter\n",
    "from bs4 import BeautifulSoup\n",
    "from aiohttp_retry import RetryClient, ListRetry\n",
    "import pickle\n",
    "\n",
    "from tqdm.notebook import tqdm\n",
    "tqdm.pandas()\n",
    "\n",
    "from pandarallel import pandarallel\n",
    "pandarallel.initialize(progress_bar=True)"
   ]
  },
  {
   "cell_type": "markdown",
   "metadata": {},
   "source": [
    "### 5. Preprocessing\n",
    "First we read the official IMDB dataset with movie genres from TSV (tab-separated-values) file."
   ]
  },
  {
   "cell_type": "code",
   "execution_count": 4,
   "metadata": {
    "ExecuteTime": {
     "end_time": "2023-05-21T17:28:27.209791Z",
     "start_time": "2023-05-21T17:28:13.663879Z"
    },
    "collapsed": false,
    "jupyter": {
     "outputs_hidden": false
    }
   },
   "outputs": [
    {
     "data": {
      "text/html": [
       "<div>\n",
       "<style scoped>\n",
       "    .dataframe tbody tr th:only-of-type {\n",
       "        vertical-align: middle;\n",
       "    }\n",
       "\n",
       "    .dataframe tbody tr th {\n",
       "        vertical-align: top;\n",
       "    }\n",
       "\n",
       "    .dataframe thead th {\n",
       "        text-align: right;\n",
       "    }\n",
       "</style>\n",
       "<table border=\"1\" class=\"dataframe\">\n",
       "  <thead>\n",
       "    <tr style=\"text-align: right;\">\n",
       "      <th></th>\n",
       "      <th>tconst</th>\n",
       "      <th>originalTitle</th>\n",
       "      <th>genres</th>\n",
       "    </tr>\n",
       "  </thead>\n",
       "  <tbody>\n",
       "    <tr>\n",
       "      <th>6978807</th>\n",
       "      <td>tt3526462</td>\n",
       "      <td>Honeyspider</td>\n",
       "      <td>Horror,Thriller</td>\n",
       "    </tr>\n",
       "    <tr>\n",
       "      <th>223191</th>\n",
       "      <td>tt0233018</td>\n",
       "      <td>Schritte gegen den Wind</td>\n",
       "      <td>Documentary</td>\n",
       "    </tr>\n",
       "    <tr>\n",
       "      <th>2457231</th>\n",
       "      <td>tt12707146</td>\n",
       "      <td>Detached</td>\n",
       "      <td>Horror</td>\n",
       "    </tr>\n",
       "    <tr>\n",
       "      <th>53347</th>\n",
       "      <td>tt0054368</td>\n",
       "      <td>Tarzan the Magnificent</td>\n",
       "      <td>Action,Adventure</td>\n",
       "    </tr>\n",
       "    <tr>\n",
       "      <th>3145749</th>\n",
       "      <td>tt13979526</td>\n",
       "      <td>Lady Boss</td>\n",
       "      <td>Drama</td>\n",
       "    </tr>\n",
       "    <tr>\n",
       "      <th>3511354</th>\n",
       "      <td>tt14647846</td>\n",
       "      <td>Desarmados</td>\n",
       "      <td>Documentary</td>\n",
       "    </tr>\n",
       "    <tr>\n",
       "      <th>425352</th>\n",
       "      <td>tt0443121</td>\n",
       "      <td>As Meninas do Sexo Selvagem</td>\n",
       "      <td>Adult</td>\n",
       "    </tr>\n",
       "    <tr>\n",
       "      <th>144395</th>\n",
       "      <td>tt0148926</td>\n",
       "      <td>Sleeping Beauty Aroused</td>\n",
       "      <td>Adult,Comedy,Fantasy</td>\n",
       "    </tr>\n",
       "    <tr>\n",
       "      <th>364991</th>\n",
       "      <td>tt0380801</td>\n",
       "      <td>Více píce republice!</td>\n",
       "      <td>Documentary</td>\n",
       "    </tr>\n",
       "    <tr>\n",
       "      <th>470859</th>\n",
       "      <td>tt0490004</td>\n",
       "      <td>Shen hai</td>\n",
       "      <td>Drama,Romance</td>\n",
       "    </tr>\n",
       "  </tbody>\n",
       "</table>\n",
       "</div>"
      ],
      "text/plain": [
       "             tconst                originalTitle                genres\n",
       "6978807   tt3526462                  Honeyspider       Horror,Thriller\n",
       "223191    tt0233018      Schritte gegen den Wind           Documentary\n",
       "2457231  tt12707146                     Detached                Horror\n",
       "53347     tt0054368       Tarzan the Magnificent      Action,Adventure\n",
       "3145749  tt13979526                    Lady Boss                 Drama\n",
       "3511354  tt14647846                   Desarmados           Documentary\n",
       "425352    tt0443121  As Meninas do Sexo Selvagem                 Adult\n",
       "144395    tt0148926      Sleeping Beauty Aroused  Adult,Comedy,Fantasy\n",
       "364991    tt0380801         Více píce republice!           Documentary\n",
       "470859    tt0490004                     Shen hai         Drama,Romance"
      ]
     },
     "execution_count": 4,
     "metadata": {},
     "output_type": "execute_result"
    }
   ],
   "source": [
    "movies_with_genres_df = pd\\\n",
    "    .read_csv(\n",
    "        'data/raw/title.basics.tsv',\n",
    "        delimiter='\\t', \n",
    "        usecols=['tconst', 'titleType', 'originalTitle', 'genres']\n",
    "    )\\\n",
    "    .query('titleType == \"movie\" & genres != \"\\\\\\\\N\"')\\\n",
    "    .drop('titleType', axis = 'columns')\\\n",
    "\n",
    "movies_with_genres_df.sample(10)"
   ]
  },
  {
   "cell_type": "markdown",
   "metadata": {},
   "source": [
    "Let's see how many movies we have."
   ]
  },
  {
   "cell_type": "code",
   "execution_count": 4,
   "metadata": {
    "ExecuteTime": {
     "end_time": "2023-05-21T17:32:12.276593Z",
     "start_time": "2023-05-21T17:32:12.272389Z"
    },
    "collapsed": false,
    "jupyter": {
     "outputs_hidden": false
    }
   },
   "outputs": [
    {
     "data": {
      "text/plain": [
       "573305"
      ]
     },
     "execution_count": 4,
     "metadata": {},
     "output_type": "execute_result"
    }
   ],
   "source": [
    "movies_with_genres_df.shape[0]"
   ]
  },
  {
   "cell_type": "markdown",
   "metadata": {},
   "source": [
    "Now we define a function for web-scraping summaries from IMDB. We use bought proxy servers for speeding the scraping up."
   ]
  },
  {
   "cell_type": "code",
   "execution_count": 5,
   "metadata": {
    "ExecuteTime": {
     "end_time": "2023-05-21T17:47:56.987650Z",
     "start_time": "2023-05-21T17:47:56.983720Z"
    },
    "collapsed": false,
    "jupyter": {
     "outputs_hidden": false
    }
   },
   "outputs": [],
   "source": [
    "# Scrapes all plot summaries for all the movie ids provided with \n",
    "# the parallelization provided\n",
    "async def scrape_all_summaries(movie_ids, parallelization):\n",
    "    # init HTTP client\n",
    "    http_client = RetryClient(\n",
    "        client_session = aiohttp.ClientSession(\n",
    "            connector=aiohttp.TCPConnector(limit = 0, ttl_dns_cache=300),\n",
    "            cookie_jar = aiohttp.DummyCookieJar() # discard cookies\n",
    "        ),\n",
    "        raise_for_status = False, # don't raise exceptions\n",
    "        retry_options= ListRetry(\n",
    "            # retry for all HTTP statuses except 200 and 404\n",
    "            statuses = {x for x in range(100, 600) if x not in [200, 404]},\n",
    "            # 20 retries by 5 seconds (useful for short network outages)\n",
    "            timeouts = [5] * 20 \n",
    "        )\n",
    "    )\n",
    "    # read proxy servers list to avoid blocking from IMDB and \n",
    "    # speed up scraping (bought on webshare.io)\n",
    "    proxies = pd.read_csv('resources/proxy-list.csv').iloc[:, 0].tolist()\n",
    "    # init results queue for saving results and later writing it on disk\n",
    "    result_buffer = asyncio.Queue()\n",
    "    # path to the result file\n",
    "    result_file_path = 'data/scraped/summaries.csv'\n",
    "    # init progress bar\n",
    "    progress_bar = tqdm(total = len(movie_ids), desc='Movies scraped')\n",
    "    \n",
    "    # runs async task\n",
    "    async def run_async_tasks(*tasks):\n",
    "        semaphore = asyncio.Semaphore(parallelization)\n",
    "\n",
    "        async def async_task(task):\n",
    "            async with semaphore:\n",
    "                return await task\n",
    "\n",
    "        return await asyncio.gather(*(async_task(task) for task in tasks))\n",
    "\n",
    "    # helper function to retry on any Exception\n",
    "    def retry_on_exception():\n",
    "        def func_wrapper(f):\n",
    "            async def wrapper(*args, **kwargs):\n",
    "                while True:\n",
    "                    try:\n",
    "                        return await f(*args, **kwargs)\n",
    "                    except Exception as e:\n",
    "                        # print exception for debugging purposes\n",
    "                        print(f'Exception {e} when scraping summaries \\\n",
    "                            for movie {args[0]}, retrying...')\n",
    "            return wrapper\n",
    "        return func_wrapper\n",
    "    \n",
    "    # scrapes plot summaries for the movie id passed and saves them \n",
    "    # to result_buffer\n",
    "    @retry_on_exception()\n",
    "    async def scrape_movie_summaries(movie_id):\n",
    "        async with http_client.get(\n",
    "                f\"https://www.imdb.com/title/{movie_id}/plotsummary\",\n",
    "                headers = {\n",
    "                    'User-Agent': f'My Cool User Agent {movie_id}.0'\n",
    "                },\n",
    "                proxy = random.choice(proxies)\n",
    "            ) as response:\n",
    "                if not response.ok:\n",
    "                    if response.status != 404:\n",
    "                        # print unexpected status for debugging purposes\n",
    "                        print(\n",
    "                            f'url = {url}, wrong response {response.status}'\n",
    "                        )\n",
    "                    progress_bar.update(1)\n",
    "                    return\n",
    "                \n",
    "                # retrieve page content\n",
    "                page = await response.text()\n",
    "                soup = BeautifulSoup(page, 'html.parser')\n",
    "\n",
    "                # extract page data\n",
    "                page_data = json.loads(\n",
    "                    soup.find('script', id='__NEXT_DATA__').text\n",
    "                )\n",
    "\n",
    "                # extract HTML-blocks with summaries\n",
    "                summaries_htmls = [item['htmlContent']\n",
    "                                   for item\n",
    "                                   in [category['section']['items']\n",
    "                                       for category\n",
    "                                       in page_data['props']['pageProps']\\\n",
    "                                           ['contentData']['categories']\n",
    "                                       if category['id'] == 'summaries'\n",
    "                                       ][0]\n",
    "                                   ]\n",
    "                \n",
    "                # extract summaries text from the HTML\n",
    "                for summary_html in summaries_htmls:\n",
    "                    summary_soup = BeautifulSoup(\n",
    "                        summary_html, \n",
    "                        'html.parser'\n",
    "                    )\n",
    "                    result_buffer.put_nowait([\n",
    "                        movie_id,\n",
    "                        summary_soup\\\n",
    "                            .find(\n",
    "                                'div', \n",
    "                                {'class': 'ipc-html-content-inner-div'}\n",
    "                            )\\\n",
    "                            .find(string = True, recursive = False)\n",
    "                    ])\n",
    "                \n",
    "                progress_bar.update(1)\n",
    "    \n",
    "    # create file for writing results\n",
    "    async with aiofiles.open(\n",
    "        result_file_path, \n",
    "        mode=\"w\", \n",
    "        encoding=\"utf-8\", \n",
    "        newline=\"\"\n",
    "    ) as result_file:\n",
    "        result_writer = AsyncWriter(result_file, quoting=csv.QUOTE_ALL)\n",
    "        \n",
    "        # write headers\n",
    "        await result_writer.writerow([\"tconst\", \"Summary\"])\n",
    "        \n",
    "        # reads scraped summaries from result_buffer and \n",
    "        # writes them on disk\n",
    "        async def write_result_to_file():\n",
    "            while True:\n",
    "                await result_writer.writerow(await result_buffer.get())\n",
    "                result_buffer.task_done()\n",
    "\n",
    "        # run async background task for writiing results on disk\n",
    "        write_result_to_file_task = asyncio.create_task(\n",
    "            write_result_to_file()\n",
    "        )\n",
    "        # run and await async scraping tasks\n",
    "        await run_async_tasks(\n",
    "            *[scrape_movie_summaries(movie_id) for movie_id in movie_ids]\n",
    "        )\n",
    "\n",
    "        await http_client.close()\n",
    "        \n",
    "        # wait until all the results are written on disk\n",
    "        await result_buffer.join()\n",
    "        # finish the task for writing results on disk\n",
    "        write_result_to_file_task.cancel()\n",
    "        \n",
    "        # finalize progress bar\n",
    "        progress_bar.close()\n",
    "\n",
    "    return result_file_path"
   ]
  },
  {
   "cell_type": "markdown",
   "metadata": {},
   "source": [
    "Run the scraping plot summaries."
   ]
  },
  {
   "cell_type": "code",
   "execution_count": null,
   "metadata": {
    "ExecuteTime": {
     "end_time": "2023-05-21T17:57:02.554366Z",
     "start_time": "2023-05-21T17:48:02.972004Z"
    },
    "collapsed": false,
    "jupyter": {
     "outputs_hidden": false
    }
   },
   "outputs": [],
   "source": [
    "movie_ids_with_summaries_df = pd.read_csv(\n",
    "    filepath_or_buffer = await scrape_all_summaries(\n",
    "        movie_ids = movies_with_genres_df.tconst.tolist(), \n",
    "        parallelization = 70\n",
    "    ), \n",
    "    usecols = ['tconst', 'Summary']\n",
    ")"
   ]
  },
  {
   "cell_type": "markdown",
   "metadata": {},
   "source": [
    "Let's check what we scraped."
   ]
  },
  {
   "cell_type": "code",
   "execution_count": 2,
   "metadata": {},
   "outputs": [
    {
     "data": {
      "text/html": [
       "<div>\n",
       "<style scoped>\n",
       "    .dataframe tbody tr th:only-of-type {\n",
       "        vertical-align: middle;\n",
       "    }\n",
       "\n",
       "    .dataframe tbody tr th {\n",
       "        vertical-align: top;\n",
       "    }\n",
       "\n",
       "    .dataframe thead th {\n",
       "        text-align: right;\n",
       "    }\n",
       "</style>\n",
       "<table border=\"1\" class=\"dataframe\">\n",
       "  <thead>\n",
       "    <tr style=\"text-align: right;\">\n",
       "      <th></th>\n",
       "      <th>tconst</th>\n",
       "      <th>Summary</th>\n",
       "    </tr>\n",
       "  </thead>\n",
       "  <tbody>\n",
       "    <tr>\n",
       "      <th>357846</th>\n",
       "      <td>tt2846058</td>\n",
       "      <td>Narrated by Quiet Riot photographer, lighting ...</td>\n",
       "    </tr>\n",
       "    <tr>\n",
       "      <th>375839</th>\n",
       "      <td>tt3550748</td>\n",
       "      <td>Former physical athlete and father-to-be Joon-...</td>\n",
       "    </tr>\n",
       "    <tr>\n",
       "      <th>450323</th>\n",
       "      <td>tt7286456</td>\n",
       "      <td>In addition to being a clown at work, Arthur F...</td>\n",
       "    </tr>\n",
       "    <tr>\n",
       "      <th>212340</th>\n",
       "      <td>tt11102282</td>\n",
       "      <td>The tale of seven girls; Shabaneh, Negar, Nahi...</td>\n",
       "    </tr>\n",
       "    <tr>\n",
       "      <th>239917</th>\n",
       "      <td>tt1322345</td>\n",
       "      <td>In the contemporary metropolis (megapolis), th...</td>\n",
       "    </tr>\n",
       "    <tr>\n",
       "      <th>249731</th>\n",
       "      <td>tt1384768</td>\n",
       "      <td>Thirteen, quirky inter-related stories. A sava...</td>\n",
       "    </tr>\n",
       "    <tr>\n",
       "      <th>195701</th>\n",
       "      <td>tt0976144</td>\n",
       "      <td>Making it Right is a documentary that chronicl...</td>\n",
       "    </tr>\n",
       "    <tr>\n",
       "      <th>289033</th>\n",
       "      <td>tt1722426</td>\n",
       "      <td>Controversial director Uwe Boll depicts the ha...</td>\n",
       "    </tr>\n",
       "    <tr>\n",
       "      <th>91376</th>\n",
       "      <td>tt0105459</td>\n",
       "      <td>In 2008, London is suffering from the worst fl...</td>\n",
       "    </tr>\n",
       "    <tr>\n",
       "      <th>216610</th>\n",
       "      <td>tt1141253</td>\n",
       "      <td>The Devil has a phone number, and if you call ...</td>\n",
       "    </tr>\n",
       "  </tbody>\n",
       "</table>\n",
       "</div>"
      ],
      "text/plain": [
       "            tconst                                            Summary\n",
       "357846   tt2846058  Narrated by Quiet Riot photographer, lighting ...\n",
       "375839   tt3550748  Former physical athlete and father-to-be Joon-...\n",
       "450323   tt7286456  In addition to being a clown at work, Arthur F...\n",
       "212340  tt11102282  The tale of seven girls; Shabaneh, Negar, Nahi...\n",
       "239917   tt1322345  In the contemporary metropolis (megapolis), th...\n",
       "249731   tt1384768  Thirteen, quirky inter-related stories. A sava...\n",
       "195701   tt0976144  Making it Right is a documentary that chronicl...\n",
       "289033   tt1722426  Controversial director Uwe Boll depicts the ha...\n",
       "91376    tt0105459  In 2008, London is suffering from the worst fl...\n",
       "216610   tt1141253  The Devil has a phone number, and if you call ..."
      ]
     },
     "execution_count": 2,
     "metadata": {},
     "output_type": "execute_result"
    }
   ],
   "source": [
    "movie_ids_with_summaries_df = pd.read_csv(\n",
    "    'data/scraped/summaries.csv', \n",
    "    usecols = ['tconst', 'Summary']\n",
    ")\n",
    "movie_ids_with_summaries_df.sample(10)"
   ]
  },
  {
   "cell_type": "markdown",
   "metadata": {},
   "source": [
    "And how many summaries we have."
   ]
  },
  {
   "cell_type": "code",
   "execution_count": 6,
   "metadata": {},
   "outputs": [
    {
     "data": {
      "text/plain": [
       "483014"
      ]
     },
     "execution_count": 6,
     "metadata": {},
     "output_type": "execute_result"
    }
   ],
   "source": [
    "movie_ids_with_summaries_df.shape[0]"
   ]
  },
  {
   "cell_type": "markdown",
   "metadata": {},
   "source": [
    "Now we merge the datasets above to obtain the result dataset we will use for the classification task."
   ]
  },
  {
   "cell_type": "code",
   "execution_count": 5,
   "metadata": {
    "ExecuteTime": {
     "end_time": "2023-05-21T18:14:42.318202Z",
     "start_time": "2023-05-21T18:14:42.217506Z"
    },
    "collapsed": false,
    "jupyter": {
     "outputs_hidden": false
    },
    "pycharm": {
     "name": "#%%\n"
    }
   },
   "outputs": [
    {
     "data": {
      "text/html": [
       "<div>\n",
       "<style scoped>\n",
       "    .dataframe tbody tr th:only-of-type {\n",
       "        vertical-align: middle;\n",
       "    }\n",
       "\n",
       "    .dataframe tbody tr th {\n",
       "        vertical-align: top;\n",
       "    }\n",
       "\n",
       "    .dataframe thead th {\n",
       "        text-align: right;\n",
       "    }\n",
       "</style>\n",
       "<table border=\"1\" class=\"dataframe\">\n",
       "  <thead>\n",
       "    <tr style=\"text-align: right;\">\n",
       "      <th></th>\n",
       "      <th>Id</th>\n",
       "      <th>Title</th>\n",
       "      <th>Genres</th>\n",
       "      <th>Summary</th>\n",
       "    </tr>\n",
       "  </thead>\n",
       "  <tbody>\n",
       "    <tr>\n",
       "      <th>102761</th>\n",
       "      <td>tt0120716</td>\n",
       "      <td>Jakob the Liar</td>\n",
       "      <td>Drama,War</td>\n",
       "      <td>During World War II, an ordinary inhabitant of...</td>\n",
       "    </tr>\n",
       "    <tr>\n",
       "      <th>30073</th>\n",
       "      <td>tt0039492</td>\n",
       "      <td>Uncle Silas</td>\n",
       "      <td>Drama,Mystery,Thriller</td>\n",
       "      <td>Following her father's death, a British teen-a...</td>\n",
       "    </tr>\n",
       "    <tr>\n",
       "      <th>416485</th>\n",
       "      <td>tt5421146</td>\n",
       "      <td>The Head Hunter</td>\n",
       "      <td>Thriller</td>\n",
       "      <td>In 1972 the tranquility of a coastal town in C...</td>\n",
       "    </tr>\n",
       "    <tr>\n",
       "      <th>219146</th>\n",
       "      <td>tt1160556</td>\n",
       "      <td>Kurianesu</td>\n",
       "      <td>Romance</td>\n",
       "      <td>Sakura is a 20-year-old college student who ha...</td>\n",
       "    </tr>\n",
       "    <tr>\n",
       "      <th>447221</th>\n",
       "      <td>tt7102552</td>\n",
       "      <td>Mirar</td>\n",
       "      <td>Drama</td>\n",
       "      <td>Aaron is a child mesmerized by the mistery of ...</td>\n",
       "    </tr>\n",
       "    <tr>\n",
       "      <th>448582</th>\n",
       "      <td>tt7185410</td>\n",
       "      <td>From the River to the Sea</td>\n",
       "      <td>Documentary</td>\n",
       "      <td>According to most Palestinians, \"Israeli Occup...</td>\n",
       "    </tr>\n",
       "    <tr>\n",
       "      <th>152415</th>\n",
       "      <td>tt0308217</td>\n",
       "      <td>Embrio No. M</td>\n",
       "      <td>Animation</td>\n",
       "      <td>Experimental short animated movie from Macedonia.</td>\n",
       "    </tr>\n",
       "    <tr>\n",
       "      <th>247962</th>\n",
       "      <td>tt13710918</td>\n",
       "      <td>Ameera</td>\n",
       "      <td>Drama</td>\n",
       "      <td>Ameera tells the story of an inter caste marri...</td>\n",
       "    </tr>\n",
       "    <tr>\n",
       "      <th>293143</th>\n",
       "      <td>tt1776325</td>\n",
       "      <td>Found Footage Festival Volume 5: Live in Milwa...</td>\n",
       "      <td>Comedy</td>\n",
       "      <td>This years festival includes a pet care public...</td>\n",
       "    </tr>\n",
       "    <tr>\n",
       "      <th>152259</th>\n",
       "      <td>tt0307398</td>\n",
       "      <td>S.P.I.T.: Squeegee Punks in Traffic</td>\n",
       "      <td>Documentary</td>\n",
       "      <td>The narrative unfolds from the point-of-view o...</td>\n",
       "    </tr>\n",
       "  </tbody>\n",
       "</table>\n",
       "</div>"
      ],
      "text/plain": [
       "                Id                                              Title  \\\n",
       "102761   tt0120716                                     Jakob the Liar   \n",
       "30073    tt0039492                                        Uncle Silas   \n",
       "416485   tt5421146                                    The Head Hunter   \n",
       "219146   tt1160556                                          Kurianesu   \n",
       "447221   tt7102552                                              Mirar   \n",
       "448582   tt7185410                          From the River to the Sea   \n",
       "152415   tt0308217                                       Embrio No. M   \n",
       "247962  tt13710918                                             Ameera   \n",
       "293143   tt1776325  Found Footage Festival Volume 5: Live in Milwa...   \n",
       "152259   tt0307398                S.P.I.T.: Squeegee Punks in Traffic   \n",
       "\n",
       "                        Genres  \\\n",
       "102761               Drama,War   \n",
       "30073   Drama,Mystery,Thriller   \n",
       "416485                Thriller   \n",
       "219146                 Romance   \n",
       "447221                   Drama   \n",
       "448582             Documentary   \n",
       "152415               Animation   \n",
       "247962                   Drama   \n",
       "293143                  Comedy   \n",
       "152259             Documentary   \n",
       "\n",
       "                                                  Summary  \n",
       "102761  During World War II, an ordinary inhabitant of...  \n",
       "30073   Following her father's death, a British teen-a...  \n",
       "416485  In 1972 the tranquility of a coastal town in C...  \n",
       "219146  Sakura is a 20-year-old college student who ha...  \n",
       "447221  Aaron is a child mesmerized by the mistery of ...  \n",
       "448582  According to most Palestinians, \"Israeli Occup...  \n",
       "152415  Experimental short animated movie from Macedonia.  \n",
       "247962  Ameera tells the story of an inter caste marri...  \n",
       "293143  This years festival includes a pet care public...  \n",
       "152259  The narrative unfolds from the point-of-view o...  "
      ]
     },
     "execution_count": 5,
     "metadata": {},
     "output_type": "execute_result"
    }
   ],
   "source": [
    "movies_df = movies_with_genres_df\\\n",
    "    .merge(movie_ids_with_summaries_df, on ='tconst')\\\n",
    "    .rename(columns = {\n",
    "        'tconst': 'Id',\n",
    "        'originalTitle': 'Title',\n",
    "        'genres': 'Genres'\n",
    "    })\\\n",
    "    .query('Summary.notna()', engine='python')\n",
    "movies_df.sample(10)"
   ]
  },
  {
   "cell_type": "code",
   "execution_count": 8,
   "metadata": {
    "ExecuteTime": {
     "end_time": "2023-05-21T18:14:18.200020Z",
     "start_time": "2023-05-21T18:14:18.195117Z"
    },
    "collapsed": false,
    "jupyter": {
     "outputs_hidden": false
    }
   },
   "outputs": [
    {
     "data": {
      "text/plain": [
       "482996"
      ]
     },
     "execution_count": 8,
     "metadata": {},
     "output_type": "execute_result"
    }
   ],
   "source": [
    "movies_df.shape[0]"
   ]
  },
  {
   "cell_type": "markdown",
   "metadata": {},
   "source": [
    "Let's save it to CSV for later usage without need to merge again."
   ]
  },
  {
   "cell_type": "code",
   "execution_count": 9,
   "metadata": {
    "collapsed": false,
    "jupyter": {
     "outputs_hidden": false
    }
   },
   "outputs": [],
   "source": [
    "movies_df.to_csv('data/prepared/movies.csv', index=False)"
   ]
  },
  {
   "cell_type": "markdown",
   "metadata": {},
   "source": [
    "Now we define a function for text preprocessing (except vectorization that is considered in the further steps):\n",
    "1. Expand contractions.\n",
    "2. Remove possessive 's and s' im purpose of words standardization.\n",
    "3. Tokenize to sentences and words.\n",
    "4. Mark Proper Nouns. For that we also need to perform POS(Part-Of-Speech)-tagging.\n",
    "5. Lemmatization in purpose of words standardization.\n",
    "6. Handle negations to separate the same words in positive and negative context.\n",
    "7. Remove stop words in order to improve calculation performance and not consider words that do not introduce any meaning to a genre prediction."
   ]
  },
  {
   "cell_type": "code",
   "execution_count": null,
   "metadata": {},
   "outputs": [],
   "source": [
    "# download required nltk corpora\n",
    "nltk.download('maxent_ne_chunker')\n",
    "nltk.download('stopwords')\n",
    "nltk.download('words')\n",
    "nltk.download('wordnet')\n",
    "nltk.download('punkt')\n",
    "nltk.download('averaged_perceptron_tagger')\n",
    "\n",
    "# build set of stop words\n",
    "stopwords =[word.lower() for word in \n",
    "            (nltk.corpus.stopwords.words('english') \\\n",
    "             + [c for c in string.punctuation])] \n",
    "stopwords = stopwords + ['could', 'would', '\\'\\'', '``']\n",
    "stopwords = stopwords + [word + '_NEG' for word in stopwords]\n",
    "stopwords = set(stopwords)\n",
    "\n",
    "# define tokenizer and lemmatizer\n",
    "wordTokenizer = NLTKWordTokenizer()\n",
    "lemmatizer = WordNetLemmatizer()\n",
    "\n",
    "\n",
    "# helper function to flatten list of lists\n",
    "def flatten(l):\n",
    "    return [item for sublist in l for item in sublist]\n",
    "\n",
    "# helper function to map parts-of-speech tags of different format\n",
    "adjectives = set(['JJ', 'JJR', 'JJS'])\n",
    "verbs = set(['MD', 'VB', 'VBD', 'VBG', 'VBN', 'VBP', 'VBZ'])\n",
    "nouns = set(['CD', 'LS', 'NN', 'NNP', 'NNPS', 'NNS', 'PRP', 'PRP$'])\n",
    "adverbs = set(['RB', 'RBR', 'RBS'])\n",
    "def map_to_wordnet_pos(nltk_pos):\n",
    "    if nltk_pos in adjectives:\n",
    "        return wordnet.ADJ\n",
    "    elif nltk_pos in verbs:\n",
    "        return wordnet.VERB\n",
    "    elif nltk_pos in nouns:\n",
    "        return wordnet.NOUN\n",
    "    elif nltk_pos in adverbs:\n",
    "        return wordnet.ADV\n",
    "    else:\n",
    "        return ''\n",
    "\n",
    "# cleans the text accroding to the steps described above\n",
    "def clean_text(text):\n",
    "\n",
    "    # expand contractions (e.g you're -> you are) and remove \n",
    "    # possessive 's and s' (e.g Batman's -> Batman)\n",
    "    text_with_cleaned_apostrophes = contractions.fix(text)\\\n",
    "        .replace('\\'s', '')\\\n",
    "        .replace('s\\'', '')\n",
    "    \n",
    "    # tokenize text  \n",
    "    sents = [wordTokenizer.tokenize(sent) \n",
    "             for sent in sent_tokenize(text_with_cleaned_apostrophes)]\n",
    "    \n",
    "    # tag named entity in order to distinguish them in the later \n",
    "    # preprocessing and classification\n",
    "    tokens = flatten(\n",
    "        [nltk.chunk.tree2conlltags(\n",
    "            nltk.ne_chunk(nltk.pos_tag(sent), binary=True)\n",
    "        ) for sent in sents]\n",
    "    )\n",
    "    \n",
    "    # lemmatize words when possible\n",
    "    tokens = [\n",
    "        (lemmatizer.lemmatize(token[0], pos = \\\n",
    "                              map_to_wordnet_pos(token[1])), token[2]) \n",
    "        if map_to_wordnet_pos(token[1]) else (token[0], token[2]) \n",
    "        for token in tokens\n",
    "    ]\n",
    "    \n",
    "    # make tokens lowercase\n",
    "    tokens = [(token[0].lower(), token[1]) for token in tokens]\n",
    "    \n",
    "    # clear tokens from POS except Proper Nouns as we don't need POS anymore\n",
    "    tokens = ['NE_' + token[0] if token[1] == 'B-NE' else token[0] \n",
    "              for token in tokens]\n",
    "    \n",
    "    # handle negations (add _NEG postfix for words between negation and \n",
    "    # a next nearest punctuation mark)\n",
    "    tokens = mark_negation(tokens)\n",
    "    \n",
    "    # filter stop words\n",
    "    tokens = [token for token in tokens if token not in stopwords]\n",
    "\n",
    "    return tokens "
   ]
  },
  {
   "cell_type": "markdown",
   "metadata": {},
   "source": [
    "Let's check visually how our cleaning text approach works."
   ]
  },
  {
   "cell_type": "code",
   "execution_count": 9,
   "metadata": {},
   "outputs": [
    {
     "data": {
      "text/plain": [
       "['NE_batman',\n",
       " 'past',\n",
       " 'forget_NEG',\n",
       " 'NE_joker',\n",
       " 'NE_joker_NEG',\n",
       " 'anymore_NEG',\n",
       " 'live']"
      ]
     },
     "execution_count": 9,
     "metadata": {},
     "output_type": "execute_result"
    }
   ],
   "source": [
    "clean_text(\"The Batman's past isn't forgotten! The Joker \\\n",
    "is not the Joker anymore. But could he ''live``?\")"
   ]
  },
  {
   "cell_type": "markdown",
   "metadata": {},
   "source": [
    "And apply text cleaning to our dataset."
   ]
  },
  {
   "cell_type": "code",
   "execution_count": 8,
   "metadata": {},
   "outputs": [
    {
     "data": {
      "application/vnd.jupyter.widget-view+json": {
       "model_id": "3531ba8746ae4dbdac8edfe8153c6de7",
       "version_major": 2,
       "version_minor": 0
      },
      "text/plain": [
       "VBox(children=(HBox(children=(IntProgress(value=0, description='0.00%', max=15093), Label(value='0 / 15093')))…"
      ]
     },
     "metadata": {},
     "output_type": "display_data"
    },
    {
     "data": {
      "text/html": [
       "<div>\n",
       "<style scoped>\n",
       "    .dataframe tbody tr th:only-of-type {\n",
       "        vertical-align: middle;\n",
       "    }\n",
       "\n",
       "    .dataframe tbody tr th {\n",
       "        vertical-align: top;\n",
       "    }\n",
       "\n",
       "    .dataframe thead th {\n",
       "        text-align: right;\n",
       "    }\n",
       "</style>\n",
       "<table border=\"1\" class=\"dataframe\">\n",
       "  <thead>\n",
       "    <tr style=\"text-align: right;\">\n",
       "      <th></th>\n",
       "      <th>Id</th>\n",
       "      <th>Genres</th>\n",
       "      <th>Summary</th>\n",
       "      <th>cleaned_summary</th>\n",
       "    </tr>\n",
       "  </thead>\n",
       "  <tbody>\n",
       "    <tr>\n",
       "      <th>453074</th>\n",
       "      <td>tt7473032</td>\n",
       "      <td>[History]</td>\n",
       "      <td>Four young lives were changed forever when the...</td>\n",
       "      <td>[four, young, life, change, forever, become, i...</td>\n",
       "    </tr>\n",
       "    <tr>\n",
       "      <th>363482</th>\n",
       "      <td>tt3097830</td>\n",
       "      <td>[Biography, Documentary, Drama]</td>\n",
       "      <td>New York City 1954; James Dean is being taught...</td>\n",
       "      <td>[NE_new, york, city, 1954, NE_james, dean, tea...</td>\n",
       "    </tr>\n",
       "    <tr>\n",
       "      <th>72199</th>\n",
       "      <td>tt0082388</td>\n",
       "      <td>[Drama]</td>\n",
       "      <td>Three generations of a family struggle to be o...</td>\n",
       "      <td>[three, generation, family, struggle, open, we...</td>\n",
       "    </tr>\n",
       "    <tr>\n",
       "      <th>385534</th>\n",
       "      <td>tt3910602</td>\n",
       "      <td>[Biography, Documentary]</td>\n",
       "      <td>A documentary on the life of comedian, Chris F...</td>\n",
       "      <td>[documentary, life, comedian, NE_chris, farley]</td>\n",
       "    </tr>\n",
       "    <tr>\n",
       "      <th>268349</th>\n",
       "      <td>tt15211224</td>\n",
       "      <td>[Comedy, Drama, Family]</td>\n",
       "      <td>COVID-19 is rampant in the world. Juri, a 25-y...</td>\n",
       "      <td>[covid-19, rampant, world, NE_juri, 25-year-ol...</td>\n",
       "    </tr>\n",
       "    <tr>\n",
       "      <th>41384</th>\n",
       "      <td>tt0050301</td>\n",
       "      <td>[Comedy]</td>\n",
       "      <td>Sidney Pythias is a bumbling janitor picked up...</td>\n",
       "      <td>[NE_sidney, pythias, bumble, janitor, pick, co...</td>\n",
       "    </tr>\n",
       "    <tr>\n",
       "      <th>348521</th>\n",
       "      <td>tt2654480</td>\n",
       "      <td>[Action, Comedy]</td>\n",
       "      <td>A young man's father pressurizes him to get ma...</td>\n",
       "      <td>[young, man, father, pressurize, get, marry, c...</td>\n",
       "    </tr>\n",
       "    <tr>\n",
       "      <th>417941</th>\n",
       "      <td>tt5492776</td>\n",
       "      <td>[Drama]</td>\n",
       "      <td>Set against a background of farming, saw-milli...</td>\n",
       "      <td>[NE_set, background, farming, saw-milling, moo...</td>\n",
       "    </tr>\n",
       "    <tr>\n",
       "      <th>351501</th>\n",
       "      <td>tt27072218</td>\n",
       "      <td>[Documentary]</td>\n",
       "      <td>What does it mean for a \"black\" person to say,...</td>\n",
       "      <td>[mean, black, person, say, israelite, identifi...</td>\n",
       "    </tr>\n",
       "    <tr>\n",
       "      <th>234751</th>\n",
       "      <td>tt1285219</td>\n",
       "      <td>[Horror]</td>\n",
       "      <td>A ghost hunter's final case before retiring le...</td>\n",
       "      <td>[ghost, hunter, final, case, retire, lead, dar...</td>\n",
       "    </tr>\n",
       "  </tbody>\n",
       "</table>\n",
       "</div>"
      ],
      "text/plain": [
       "                Id                           Genres  \\\n",
       "453074   tt7473032                        [History]   \n",
       "363482   tt3097830  [Biography, Documentary, Drama]   \n",
       "72199    tt0082388                          [Drama]   \n",
       "385534   tt3910602         [Biography, Documentary]   \n",
       "268349  tt15211224          [Comedy, Drama, Family]   \n",
       "41384    tt0050301                         [Comedy]   \n",
       "348521   tt2654480                 [Action, Comedy]   \n",
       "417941   tt5492776                          [Drama]   \n",
       "351501  tt27072218                    [Documentary]   \n",
       "234751   tt1285219                         [Horror]   \n",
       "\n",
       "                                                  Summary  \\\n",
       "453074  Four young lives were changed forever when the...   \n",
       "363482  New York City 1954; James Dean is being taught...   \n",
       "72199   Three generations of a family struggle to be o...   \n",
       "385534  A documentary on the life of comedian, Chris F...   \n",
       "268349  COVID-19 is rampant in the world. Juri, a 25-y...   \n",
       "41384   Sidney Pythias is a bumbling janitor picked up...   \n",
       "348521  A young man's father pressurizes him to get ma...   \n",
       "417941  Set against a background of farming, saw-milli...   \n",
       "351501  What does it mean for a \"black\" person to say,...   \n",
       "234751  A ghost hunter's final case before retiring le...   \n",
       "\n",
       "                                          cleaned_summary  \n",
       "453074  [four, young, life, change, forever, become, i...  \n",
       "363482  [NE_new, york, city, 1954, NE_james, dean, tea...  \n",
       "72199   [three, generation, family, struggle, open, we...  \n",
       "385534    [documentary, life, comedian, NE_chris, farley]  \n",
       "268349  [covid-19, rampant, world, NE_juri, 25-year-ol...  \n",
       "41384   [NE_sidney, pythias, bumble, janitor, pick, co...  \n",
       "348521  [young, man, father, pressurize, get, marry, c...  \n",
       "417941  [NE_set, background, farming, saw-milling, moo...  \n",
       "351501  [mean, black, person, say, israelite, identifi...  \n",
       "234751  [ghost, hunter, final, case, retire, lead, dar...  "
      ]
     },
     "execution_count": 8,
     "metadata": {},
     "output_type": "execute_result"
    }
   ],
   "source": [
    "movies_df = pd.read_csv(\n",
    "    'data/prepared/movies.csv',\n",
    "    usecols = ['Id', 'Summary', 'Genres'],\n",
    "    converters = {\"Genres\": lambda genres: genres.split(\",\")}\n",
    ")\n",
    "\n",
    "movies_df = movies_df\\\n",
    "    .drop(\n",
    "        movies_df[\n",
    "            movies_df['Summary'].str.contains(\"plot is unknown\") == True\n",
    "        ].index\n",
    "    )\n",
    "movies_df['cleaned_summary'] = movies_df['Summary']\\\n",
    "    .parallel_apply(lambda text: clean_text(text))\n",
    "\n",
    "movies_df.sample(10)"
   ]
  },
  {
   "cell_type": "markdown",
   "metadata": {},
   "source": [
    "The next step is to vectorize preprocessed summaries as classification input and genres as target output. For that purpuse we execute the following steps:\n",
    "1. Transform genres arrays to binary vectors with length equal to number of possible genres.\n",
    "2. Split the dataset to a training and a test parts. \n",
    "2. Train Doc2Vec model on the training dataset.\n",
    "3. Vectorize each summary using Doc2Vec and the model built on the previous step.\n",
    "\n",
    "Doc2Vec is chosen because it does not just averages Word2Vec vectors of each word but also considers a text as the whole and usually outperforms such simple-averaging of Word2Vec vectors. [[9]](#9)"
   ]
  },
  {
   "cell_type": "markdown",
   "metadata": {},
   "source": [
    "Binarize genres."
   ]
  },
  {
   "cell_type": "code",
   "execution_count": 9,
   "metadata": {},
   "outputs": [
    {
     "data": {
      "text/html": [
       "<div>\n",
       "<style scoped>\n",
       "    .dataframe tbody tr th:only-of-type {\n",
       "        vertical-align: middle;\n",
       "    }\n",
       "\n",
       "    .dataframe tbody tr th {\n",
       "        vertical-align: top;\n",
       "    }\n",
       "\n",
       "    .dataframe thead th {\n",
       "        text-align: right;\n",
       "    }\n",
       "</style>\n",
       "<table border=\"1\" class=\"dataframe\">\n",
       "  <thead>\n",
       "    <tr style=\"text-align: right;\">\n",
       "      <th></th>\n",
       "      <th>Id</th>\n",
       "      <th>Genres</th>\n",
       "      <th>Summary</th>\n",
       "      <th>cleaned_summary</th>\n",
       "      <th>vectorized_genres</th>\n",
       "    </tr>\n",
       "  </thead>\n",
       "  <tbody>\n",
       "    <tr>\n",
       "      <th>135316</th>\n",
       "      <td>tt0235877</td>\n",
       "      <td>[Drama]</td>\n",
       "      <td>Set over 24-hours of superheated summer in Nor...</td>\n",
       "      <td>[NE_set, 24-hours, superheated, summer, NE_nor...</td>\n",
       "      <td>[0, 0, 0, 0, 0, 0, 0, 0, 1, 0, 0, 0, 0, 0, 0, ...</td>\n",
       "    </tr>\n",
       "    <tr>\n",
       "      <th>414295</th>\n",
       "      <td>tt5284436</td>\n",
       "      <td>[Documentary]</td>\n",
       "      <td>A look at the world of sports medicine and per...</td>\n",
       "      <td>[look, world, sport, medicine, performance, en...</td>\n",
       "      <td>[0, 0, 0, 0, 0, 0, 0, 1, 0, 0, 0, 0, 0, 0, 0, ...</td>\n",
       "    </tr>\n",
       "    <tr>\n",
       "      <th>224076</th>\n",
       "      <td>tt11982618</td>\n",
       "      <td>[Documentary]</td>\n",
       "      <td>Across Europe and Japan, this film covers over...</td>\n",
       "      <td>[across, NE_europe, NE_japan, film, cover, thr...</td>\n",
       "      <td>[0, 0, 0, 0, 0, 0, 0, 1, 0, 0, 0, 0, 0, 0, 0, ...</td>\n",
       "    </tr>\n",
       "    <tr>\n",
       "      <th>227307</th>\n",
       "      <td>tt1225713</td>\n",
       "      <td>[Documentary]</td>\n",
       "      <td>A father raises his three children alone, whil...</td>\n",
       "      <td>[father, raise, three, child, alone, wife, loo...</td>\n",
       "      <td>[0, 0, 0, 0, 0, 0, 0, 1, 0, 0, 0, 0, 0, 0, 0, ...</td>\n",
       "    </tr>\n",
       "    <tr>\n",
       "      <th>128302</th>\n",
       "      <td>tt0203166</td>\n",
       "      <td>[Comedy, Drama, Romance]</td>\n",
       "      <td>Elisabeth leaves her abusive and drunken husba...</td>\n",
       "      <td>[NE_elisabeth, leave, abusive, drunken, husban...</td>\n",
       "      <td>[0, 0, 0, 0, 0, 1, 0, 0, 1, 0, 0, 0, 0, 0, 0, ...</td>\n",
       "    </tr>\n",
       "    <tr>\n",
       "      <th>138235</th>\n",
       "      <td>tt0248770</td>\n",
       "      <td>[Drama]</td>\n",
       "      <td>Epic tale about two generations of men in a we...</td>\n",
       "      <td>[NE_epic, tale, two, generation, men, wealthy,...</td>\n",
       "      <td>[0, 0, 0, 0, 0, 0, 0, 0, 1, 0, 0, 0, 0, 0, 0, ...</td>\n",
       "    </tr>\n",
       "    <tr>\n",
       "      <th>385503</th>\n",
       "      <td>tt3908866</td>\n",
       "      <td>[Documentary]</td>\n",
       "      <td>Two Latvian adventurers- Janis and Andis- dare...</td>\n",
       "      <td>[two, NE_latvian, adventurers-, janis, andis-,...</td>\n",
       "      <td>[0, 0, 0, 0, 0, 0, 0, 1, 0, 0, 0, 0, 0, 0, 0, ...</td>\n",
       "    </tr>\n",
       "    <tr>\n",
       "      <th>164444</th>\n",
       "      <td>tt0369352</td>\n",
       "      <td>[Drama]</td>\n",
       "      <td>Dal-rae sets out to locate her true love who h...</td>\n",
       "      <td>[dal-rae, set, locate, true, love, go, NE_seou...</td>\n",
       "      <td>[0, 0, 0, 0, 0, 0, 0, 0, 1, 0, 0, 0, 0, 0, 0, ...</td>\n",
       "    </tr>\n",
       "    <tr>\n",
       "      <th>278436</th>\n",
       "      <td>tt1595061</td>\n",
       "      <td>[Documentary]</td>\n",
       "      <td>A documentary on Marc Dreier, the once-promine...</td>\n",
       "      <td>[documentary, NE_marc, dreier, once-prominent,...</td>\n",
       "      <td>[0, 0, 0, 0, 0, 0, 0, 1, 0, 0, 0, 0, 0, 0, 0, ...</td>\n",
       "    </tr>\n",
       "    <tr>\n",
       "      <th>383042</th>\n",
       "      <td>tt3814496</td>\n",
       "      <td>[Drama]</td>\n",
       "      <td>On the day of the deadline to repay their loan...</td>\n",
       "      <td>[day, deadline, repay, loan, order, small, lin...</td>\n",
       "      <td>[0, 0, 0, 0, 0, 0, 0, 0, 1, 0, 0, 0, 0, 0, 0, ...</td>\n",
       "    </tr>\n",
       "  </tbody>\n",
       "</table>\n",
       "</div>"
      ],
      "text/plain": [
       "                Id                    Genres  \\\n",
       "135316   tt0235877                   [Drama]   \n",
       "414295   tt5284436             [Documentary]   \n",
       "224076  tt11982618             [Documentary]   \n",
       "227307   tt1225713             [Documentary]   \n",
       "128302   tt0203166  [Comedy, Drama, Romance]   \n",
       "138235   tt0248770                   [Drama]   \n",
       "385503   tt3908866             [Documentary]   \n",
       "164444   tt0369352                   [Drama]   \n",
       "278436   tt1595061             [Documentary]   \n",
       "383042   tt3814496                   [Drama]   \n",
       "\n",
       "                                                  Summary  \\\n",
       "135316  Set over 24-hours of superheated summer in Nor...   \n",
       "414295  A look at the world of sports medicine and per...   \n",
       "224076  Across Europe and Japan, this film covers over...   \n",
       "227307  A father raises his three children alone, whil...   \n",
       "128302  Elisabeth leaves her abusive and drunken husba...   \n",
       "138235  Epic tale about two generations of men in a we...   \n",
       "385503  Two Latvian adventurers- Janis and Andis- dare...   \n",
       "164444  Dal-rae sets out to locate her true love who h...   \n",
       "278436  A documentary on Marc Dreier, the once-promine...   \n",
       "383042  On the day of the deadline to repay their loan...   \n",
       "\n",
       "                                          cleaned_summary  \\\n",
       "135316  [NE_set, 24-hours, superheated, summer, NE_nor...   \n",
       "414295  [look, world, sport, medicine, performance, en...   \n",
       "224076  [across, NE_europe, NE_japan, film, cover, thr...   \n",
       "227307  [father, raise, three, child, alone, wife, loo...   \n",
       "128302  [NE_elisabeth, leave, abusive, drunken, husban...   \n",
       "138235  [NE_epic, tale, two, generation, men, wealthy,...   \n",
       "385503  [two, NE_latvian, adventurers-, janis, andis-,...   \n",
       "164444  [dal-rae, set, locate, true, love, go, NE_seou...   \n",
       "278436  [documentary, NE_marc, dreier, once-prominent,...   \n",
       "383042  [day, deadline, repay, loan, order, small, lin...   \n",
       "\n",
       "                                        vectorized_genres  \n",
       "135316  [0, 0, 0, 0, 0, 0, 0, 0, 1, 0, 0, 0, 0, 0, 0, ...  \n",
       "414295  [0, 0, 0, 0, 0, 0, 0, 1, 0, 0, 0, 0, 0, 0, 0, ...  \n",
       "224076  [0, 0, 0, 0, 0, 0, 0, 1, 0, 0, 0, 0, 0, 0, 0, ...  \n",
       "227307  [0, 0, 0, 0, 0, 0, 0, 1, 0, 0, 0, 0, 0, 0, 0, ...  \n",
       "128302  [0, 0, 0, 0, 0, 1, 0, 0, 1, 0, 0, 0, 0, 0, 0, ...  \n",
       "138235  [0, 0, 0, 0, 0, 0, 0, 0, 1, 0, 0, 0, 0, 0, 0, ...  \n",
       "385503  [0, 0, 0, 0, 0, 0, 0, 1, 0, 0, 0, 0, 0, 0, 0, ...  \n",
       "164444  [0, 0, 0, 0, 0, 0, 0, 0, 1, 0, 0, 0, 0, 0, 0, ...  \n",
       "278436  [0, 0, 0, 0, 0, 0, 0, 1, 0, 0, 0, 0, 0, 0, 0, ...  \n",
       "383042  [0, 0, 0, 0, 0, 0, 0, 0, 1, 0, 0, 0, 0, 0, 0, ...  "
      ]
     },
     "execution_count": 9,
     "metadata": {},
     "output_type": "execute_result"
    }
   ],
   "source": [
    "# init binarizer\n",
    "genres_binarizer = MultiLabelBinarizer()\n",
    "genres_binarizer.fit(movies_df['Genres'])\n",
    "\n",
    "# save binarizer on disk for later inverse transformation\n",
    "binarizer_df = pd.DataFrame({'Class': genres_binarizer.classes_})\n",
    "binarizer_df.to_csv(\n",
    "    'data/preprocessed/binarization_classes.csv',\n",
    "    index=False\n",
    ")\n",
    "\n",
    "# transform target variable\n",
    "movies_df['vectorized_genres'] = \\\n",
    "    genres_binarizer.transform(movies_df['Genres']).tolist()\n",
    "movies_df.sample(10)"
   ]
  },
  {
   "cell_type": "markdown",
   "metadata": {},
   "source": [
    "Split the dataset to a training and a test parts."
   ]
  },
  {
   "cell_type": "code",
   "execution_count": 10,
   "metadata": {},
   "outputs": [],
   "source": [
    "movies_train_df, movies_test_df = train_test_split(\n",
    "    movies_df, \n",
    "    test_size=0.1, \n",
    "    random_state = 123\n",
    ")"
   ]
  },
  {
   "cell_type": "markdown",
   "metadata": {},
   "source": [
    "Train Doc2Vec model on the training dataset."
   ]
  },
  {
   "cell_type": "code",
   "execution_count": null,
   "metadata": {},
   "outputs": [],
   "source": [
    "# helper class to show progress bar for training Doc2Vec model\n",
    "class Doc2VecProgressBarUpdater(CallbackAny2Vec):\n",
    "    def __init__(self, epochs_total):\n",
    "        self.progress_bar = tqdm(total = epochs_total, desc='Epochs')\n",
    "\n",
    "    def on_epoch_end(self, model):\n",
    "        self.progress_bar.update(1)\n",
    "    \n",
    "    def finalize(self):\n",
    "        self.progress_bar.close()\n",
    "        \n",
    "# prepare summaries for training Doc2Vec model\n",
    "documents = [TaggedDocument(words = summary, tags = [str(i)]) \n",
    "             for i, summary in enumerate(movies_train_df['cleaned_summary'])]\n",
    "\n",
    "# train several models with different vector_size in order to choice the best later\n",
    "for vector_size in [70, 100, 200, 300]:\n",
    "    # train Doc2Vec model\n",
    "    model = Doc2Vec(vector_size = vector_size, min_count = 3, epochs = 50)\n",
    "    model.build_vocab(documents)\n",
    "\n",
    "    progress_bar_updater = Doc2VecProgressBarUpdater(model.epochs)\n",
    "    model.train(\n",
    "        documents,\n",
    "        total_examples = model.corpus_count,\n",
    "        epochs = model.epochs,\n",
    "        callbacks = [progress_bar_updater]\n",
    "    )\n",
    "    progress_bar_updater.finalize()\n",
    "    model.save(f'data/models/doc2vec/{vector_size}/doc2vec.model')"
   ]
  },
  {
   "cell_type": "markdown",
   "metadata": {},
   "source": [
    "Vectorize cleaned summaries"
   ]
  },
  {
   "cell_type": "code",
   "execution_count": null,
   "metadata": {},
   "outputs": [],
   "source": [
    "for vector_size in [70, 100, 200, 300]:\n",
    "    # load the model built on the previos step\n",
    "    model = Doc2Vec.load(\n",
    "        f'data/models/doc2vec/{vector_size}/doc2vec.model'\n",
    "    )\n",
    "\n",
    "    # define function for vectorization of summaries\n",
    "    def vectorize(tokens):\n",
    "        return model.infer_vector(tokens)\n",
    "\n",
    "    # vectorize summaries for training and test datasets\n",
    "    movies_train_df[f'vectorized_summary_{vector_size}'] = \\\n",
    "        movies_train_df['cleaned_summary'].parallel_apply(vectorize)\n",
    "    movies_test_df[f'vectorized_summary_{vector_size}'] = \\\n",
    "        movies_test_df['cleaned_summary'].parallel_apply(vectorize)"
   ]
  },
  {
   "cell_type": "markdown",
   "metadata": {},
   "source": [
    "Save preprocessed datasets"
   ]
  },
  {
   "cell_type": "code",
   "execution_count": 36,
   "metadata": {},
   "outputs": [],
   "source": [
    "movies_train_df.to_pickle('data/preprocessed/train.pickle')\n",
    "movies_test_df.to_pickle( 'data/preprocessed/test.pickle')"
   ]
  },
  {
   "cell_type": "markdown",
   "metadata": {
    "pycharm": {
     "name": "#%% md\n"
    }
   },
   "source": [
    "### 6. Baseline performance\n",
    "The perfomance of the model built in this project will be compared with performance of models from a similar projects referenced in [[10]](#10), [[11]](#11), [[12]](#12) and [[13]](#13).\n",
    "\n",
    "Those references are selected because:\n",
    "1. They provide metrics we can compare as discussed in the section about Evaluation approach.\n",
    "2. They provides at least high-level details about what is the model and hyperparameters used.\n"
   ]
  },
  {
   "cell_type": "markdown",
   "metadata": {},
   "source": [
    "### 7-8. Classification approach and Coding style\n",
    "Features and labels are selected and prepared on the previous steps. \n",
    "MLPClassifier from the sklearn library is chosen because:\n",
    "1. After litle experementing with other classifier it provided the best scores with default hyperparameters.\n",
    "2. It nativelyy supports mullti-label classification.\n",
    "3. Comparing with other classifiers it takes not long to train with default parameters.\n",
    "4. Supposedly a neural network can find more non-trivial dependency types which are not discoverable by, for example, Linear or Tree classifiers."
   ]
  },
  {
   "cell_type": "markdown",
   "metadata": {},
   "source": [
    "We start with finding the best hyperparameters. The function below was used mostly in experimenting mode and takes long time to execute. Here the different vector sizes and different hyperparameters are iterated using K-fold Cross-Validation. That's not an ideal approach but it allows to find at least something similar to the optimal hyperparameters."
   ]
  },
  {
   "cell_type": "code",
   "execution_count": null,
   "metadata": {},
   "outputs": [],
   "source": [
    "number_of_genres = pd.read_csv(\n",
    "    'data/preprocessed/binarization_classes.csv'\n",
    ").shape[0]\n",
    "\n",
    "def findBestClassifierHyperparameters():\n",
    "    best_score = 0\n",
    "    best_params = {}\n",
    "    for vector_size in [100]:  # [70, 100, 200, 300]\n",
    "        train_df = pd.read_pickle('data/preprocessed/train.pickle')\n",
    "        x_train = train_df[f'vectorized_summary_{vector_size}']\n",
    "        y_train = train_df['vectorized_genres']\n",
    "\n",
    "        classifier = MLPClassifier()\n",
    "\n",
    "        param_grid = {\n",
    "            'hidden_layer_sizes': [\n",
    "                # (int((vector_size + number_of_genres) / 2), ), \n",
    "                # (int(x_train.size / (2 * (vector_size + number_of_genres))), ), \n",
    "                # (int(x_train.size / (5 * (vector_size + number_of_genres))), ),\n",
    "                # (int(x_train.size / (10 * (vector_size + number_of_genres))), ),\n",
    "                # (int(vector_size * 1.5), vector_size, int((vector_size + number_of_genres) / 2)),\n",
    "                (vector_size, number_of_genres * 2),\n",
    "                (int(vector_size * 1.5), vector_size),\n",
    "                (int(vector_size * 1.5), int((vector_size + number_of_genres) / 2)),\n",
    "                (int(vector_size * 2), vector_size)\n",
    "            ],\n",
    "            'activation': ['tanh', 'relu'],\n",
    "            'solver': ['sgd'],  # ['adam']\n",
    "            'alpha': [0.05], # [0.0001]\n",
    "            'learning_rate': ['adaptive'], # ['constant']\n",
    "            'max_iter': [500]\n",
    "        }\n",
    "\n",
    "        # use grid search cross-validation to find the best hyperparameters\n",
    "        grid_search = GridSearchCV(\n",
    "            classifier, \n",
    "            param_grid = param_grid, \n",
    "            cv = 3,\n",
    "            scoring = make_scorer(f1_score, average = 'micro'),\n",
    "            n_jobs = -1, \n",
    "            verbose = 10,\n",
    "            refit = False\n",
    "        )\n",
    "\n",
    "        # run cross-validation\n",
    "        grid_search.fit(x_train.tolist(), y_train.tolist())\n",
    "\n",
    "        # print the best hyperparameters\n",
    "        print(f'Best hyperparameters for vector_size = \\\n",
    "            {vector_size}: {grid_search.best_params_} with score {grid_search.best_score_}')\n",
    "\n",
    "        if grid_search.best_score_ > best_score:\n",
    "            best_score = grid_search.best_score_\n",
    "            best_params = grid_search.best_params_\n",
    "        \n",
    "    return best_params\n",
    "    \n",
    "findBestClassifierHyperparameters()"
   ]
  },
  {
   "cell_type": "markdown",
   "metadata": {},
   "source": [
    "After finding the best hyperparameters we train the MLPClassifier using the training dataset."
   ]
  },
  {
   "cell_type": "code",
   "execution_count": null,
   "metadata": {},
   "outputs": [],
   "source": [
    "vector_size = 100\n",
    "\n",
    "classifier = MLPClassifier(\n",
    "    hidden_layer_sizes = (int(vector_size * 1.5), vector_size),\n",
    "    activation = 'tanh',\n",
    "    solver = 'sgd',\n",
    "    alpha = 0.05,\n",
    "    learning_rate = 'adaptive',\n",
    "    max_iter = 500\n",
    ")\n",
    "\n",
    "train_df = pd.read_pickle('data/preprocessed/train.pickle')\n",
    "x_train = train_df[f'vectorized_summary_{vector_size}'].tolist()\n",
    "y_train = train_df['vectorized_genres'].tolist()\n",
    "\n",
    "classifier.fit(x_train, y_train)"
   ]
  },
  {
   "cell_type": "markdown",
   "metadata": {},
   "source": [
    "Save the model built."
   ]
  },
  {
   "cell_type": "code",
   "execution_count": 13,
   "metadata": {},
   "outputs": [],
   "source": [
    "# save built model\n",
    "with open('data/models/mlp.pickle','wb') as file:\n",
    "    pickle.dump(classifier, file)"
   ]
  },
  {
   "cell_type": "markdown",
   "metadata": {},
   "source": [
    "## III. Conclusions\n",
    "### 9. Evaluation\n",
    "\n",
    "First we load the testing dataset and the model built on the previous steps."
   ]
  },
  {
   "cell_type": "code",
   "execution_count": 14,
   "metadata": {},
   "outputs": [],
   "source": [
    "# load testing dataset\n",
    "test_df = pd.read_pickle('data/preprocessed/train.pickle')\n",
    "x_test = test_df[f'vectorized_summary_100']\n",
    "y_test = test_df['vectorized_genres']\n",
    "\n",
    "# load model\n",
    "file = open('data/models/mlp.pickle', 'rb')\n",
    "classifier = pickle.load(file)\n",
    "file.close()"
   ]
  },
  {
   "cell_type": "markdown",
   "metadata": {},
   "source": [
    "Now let's find predictions for the testing dataset. After some experimenting it is found that after lowering the prediction threshold to 30% the model shows better scores."
   ]
  },
  {
   "cell_type": "code",
   "execution_count": 15,
   "metadata": {},
   "outputs": [],
   "source": [
    "y_pred = (classifier.predict_proba(x_test.tolist()) >= 0.3).astype(int)"
   ]
  },
  {
   "cell_type": "markdown",
   "metadata": {},
   "source": [
    "#### 1. Confusion matrix"
   ]
  },
  {
   "cell_type": "code",
   "execution_count": 16,
   "metadata": {},
   "outputs": [
    {
     "data": {
      "image/png": "[encoded data removed]",
      "text/plain": [
       "<Figure size 2500x3000 with 29 Axes>"
      ]
     },
     "metadata": {},
     "output_type": "display_data"
    }
   ],
   "source": [
    "confusion_matrices = multilabel_confusion_matrix(y_test.tolist(), y_pred)\n",
    "y_labels = pd.read_csv('data/preprocessed/binarization_classes.csv').Class.tolist()\n",
    "fig, axes = plt.subplots(7, 4, figsize = (25, 30))\n",
    "axes = axes.ravel()\n",
    "\n",
    "for i, genre_confusion_matrix in enumerate(confusion_matrices):\n",
    "    disp = ConfusionMatrixDisplay(genre_confusion_matrix, display_labels=['other genres', y_labels[i]])\n",
    "    disp.plot(ax = axes[i], colorbar = False)\n",
    "    disp.ax_.set_title(y_labels[i])\n",
    "    \n",
    "plt.subplots_adjust(hspace=0.3)\n",
    "fig.colorbar(disp.im_, ax=axes)\n",
    "plt.show()"
   ]
  },
  {
   "cell_type": "markdown",
   "metadata": {},
   "source": [
    "Confusion matrix for the multi-label classification problem does not look like a typical confusion matrix. Byt anyway we can see that some genres are predicted better than others. If we look at the bottom row for each subplot we can find that genres that are more often presented in the dataset are usually predicted better, for example, Drama, Documentary, Comedy. And some genres that are almost never presented in the dataset, like Reality-TV or Short, never predicted correctly."
   ]
  },
  {
   "cell_type": "markdown",
   "metadata": {},
   "source": [
    "#### 2. Metrics and comparison to the baseline."
   ]
  },
  {
   "cell_type": "code",
   "execution_count": 17,
   "metadata": {},
   "outputs": [
    {
     "name": "stderr",
     "output_type": "stream",
     "text": [
      "/home/jupyter-bastrich/venvs/uol-nlp/lib/python3.9/site-packages/sklearn/metrics/_classification.py:1344: UndefinedMetricWarning: Precision is ill-defined and being set to 0.0 in labels with no predicted samples. Use `zero_division` parameter to control this behavior.\n",
      "  _warn_prf(average, modifier, msg_start, len(result))\n"
     ]
    },
    {
     "data": {
      "image/png": "[encoded data removed]",
      "text/plain": [
       "<Figure size 1500x700 with 1 Axes>"
      ]
     },
     "metadata": {},
     "output_type": "display_data"
    }
   ],
   "source": [
    "metrics_df = pd.DataFrame([\n",
    "    {'Source': 'This work', 'Metrics': 'Accuracy', \n",
    "     'Score': accuracy_score(y_test.tolist(), y_pred.tolist())\n",
    "    },\n",
    "    {'Source': 'This work', 'Metrics': 'Hamming Loss', \n",
    "     'Score': hamming_loss(y_test.tolist(), y_pred.tolist())\n",
    "    },\n",
    "    {'Source': 'This work', 'Metrics': 'Precision-micro', \n",
    "     'Score': precision_score(y_test.tolist(), y_pred.tolist(), average = 'micro')\n",
    "    },\n",
    "    {'Source': 'This work', 'Metrics': 'Recall-micro', \n",
    "     'Score': recall_score(y_test.tolist(), y_pred.tolist(), average = 'micro')\n",
    "    },\n",
    "    {'Source': 'This work', 'Metrics': 'F1-micro', \n",
    "     'Score': f1_score(y_test.tolist(), y_pred.tolist(), average = 'micro')\n",
    "    },\n",
    "    {'Source': 'This work', 'Metrics': 'Precision-macro', \n",
    "     'Score': precision_score(y_test.tolist(), y_pred.tolist(), average = 'macro')\n",
    "    },\n",
    "    {'Source': 'This work', 'Metrics': 'Recall-macro', \n",
    "     'Score': recall_score(y_test.tolist(), y_pred.tolist(), average = 'macro')\n",
    "    },\n",
    "    {'Source': 'This work', 'Metrics': 'F1-macro', \n",
    "     'Score': f1_score(y_test.tolist(), y_pred.tolist(), average = 'macro')\n",
    "    },\n",
    "\n",
    "\n",
    "    {'Source': 'Reference 10', 'Metrics': 'Accuracy', 'Score': 0.32},\n",
    "    {'Source': 'Reference 10', 'Metrics': 'Hamming Loss', 'Score': 0.28},\n",
    "    {'Source': 'Reference 10', 'Metrics': 'Precision-micro', 'Score': 0.6},\n",
    "    {'Source': 'Reference 10', 'Metrics': 'Recall-micro', 'Score': 0.38},\n",
    "    {'Source': 'Reference 10', 'Metrics': 'F1-micro', 'Score': 0.42},\n",
    "    {'Source': 'Reference 10', 'Metrics': 'Precision-macro', 'Score': 0.55},\n",
    "    {'Source': 'Reference 10', 'Metrics': 'Recall-macro', 'Score': 0.35},\n",
    "    {'Source': 'Reference 10', 'Metrics': 'F1-macro', 'Score': 0.38},\n",
    "\n",
    "    # maximal score from each method\n",
    "    {'Source': 'Reference 11', 'Metrics': 'Precision-micro', 'Score': 0.67},\n",
    "    {'Source': 'Reference 11', 'Metrics': 'Recall-micro', 'Score': 0.56},\n",
    "    {'Source': 'Reference 11', 'Metrics': 'F1-micro', 'Score': 0.56},\n",
    "\n",
    "    {'Source': 'Reference 12', 'Metrics': 'Precision-macro', 'Score': 0.68},\n",
    "    {'Source': 'Reference 12', 'Metrics': 'Recall-macro', 'Score': 0.68},\n",
    "    {'Source': 'Reference 12', 'Metrics': 'F1-macro', 'Score': 0.68},\n",
    "    {'Source': 'Reference 12', 'Metrics': 'F1-micro', 'Score': 0.68},\n",
    "\n",
    "    {'Source': 'Reference 13', 'Metrics': 'F1-micro', 'Score': 0.31}\n",
    "])\n",
    "\n",
    "sns.set(rc={'figure.figsize':(15,7)})\n",
    "ax = sns.barplot(x='Source', y='Score', hue='Metrics', data=metrics_df, width = 0.8)\n",
    "ax.set(ylim=(0, 1))\n",
    "ax.relim()\n",
    "ax.autoscale_view()\n",
    "ax.legend(loc='best', fontsize=10)\n",
    "for container in ax.containers:\n",
    "    ax.bar_label(container, fmt='%.2f', size = 7)"
   ]
  },
  {
   "cell_type": "markdown",
   "metadata": {},
   "source": [
    "The only reference providing all the metrics we used in this work is Reference 10. Other references has less representation on the plot. We can see that we achieved pretty decent Hamming Loss comparing to Reference 10. Precision, Recall and F1-micro are comparable with baselines, though we use simpler classification methods."
   ]
  },
  {
   "cell_type": "markdown",
   "metadata": {},
   "source": [
    "#### 3. Metrics per genre"
   ]
  },
  {
   "cell_type": "code",
   "execution_count": 21,
   "metadata": {},
   "outputs": [
    {
     "name": "stderr",
     "output_type": "stream",
     "text": [
      "/home/jupyter-bastrich/venvs/uol-nlp/lib/python3.9/site-packages/sklearn/metrics/_classification.py:1344: UndefinedMetricWarning: Precision and F-score are ill-defined and being set to 0.0 in labels with no predicted samples. Use `zero_division` parameter to control this behavior.\n",
      "  _warn_prf(average, modifier, msg_start, len(result))\n",
      "/home/jupyter-bastrich/venvs/uol-nlp/lib/python3.9/site-packages/sklearn/metrics/_classification.py:1344: UndefinedMetricWarning: Precision and F-score are ill-defined and being set to 0.0 in samples with no predicted labels. Use `zero_division` parameter to control this behavior.\n",
      "  _warn_prf(average, modifier, msg_start, len(result))\n"
     ]
    },
    {
     "data": {
      "text/html": [
       "<div>\n",
       "<style scoped>\n",
       "    .dataframe tbody tr th:only-of-type {\n",
       "        vertical-align: middle;\n",
       "    }\n",
       "\n",
       "    .dataframe tbody tr th {\n",
       "        vertical-align: top;\n",
       "    }\n",
       "\n",
       "    .dataframe thead th {\n",
       "        text-align: right;\n",
       "    }\n",
       "</style>\n",
       "<table border=\"1\" class=\"dataframe\">\n",
       "  <thead>\n",
       "    <tr style=\"text-align: right;\">\n",
       "      <th></th>\n",
       "      <th>precision</th>\n",
       "      <th>recall</th>\n",
       "      <th>f1-score</th>\n",
       "      <th>support</th>\n",
       "    </tr>\n",
       "  </thead>\n",
       "  <tbody>\n",
       "    <tr>\n",
       "      <th>Documentary</th>\n",
       "      <td>0.710837</td>\n",
       "      <td>0.817805</td>\n",
       "      <td>0.760579</td>\n",
       "      <td>85233.0</td>\n",
       "    </tr>\n",
       "    <tr>\n",
       "      <th>Drama</th>\n",
       "      <td>0.581181</td>\n",
       "      <td>0.901804</td>\n",
       "      <td>0.706833</td>\n",
       "      <td>198532.0</td>\n",
       "    </tr>\n",
       "    <tr>\n",
       "      <th>Western</th>\n",
       "      <td>0.690517</td>\n",
       "      <td>0.647429</td>\n",
       "      <td>0.668279</td>\n",
       "      <td>8750.0</td>\n",
       "    </tr>\n",
       "    <tr>\n",
       "      <th>Horror</th>\n",
       "      <td>0.565376</td>\n",
       "      <td>0.597475</td>\n",
       "      <td>0.580982</td>\n",
       "      <td>35086.0</td>\n",
       "    </tr>\n",
       "    <tr>\n",
       "      <th>Comedy</th>\n",
       "      <td>0.521651</td>\n",
       "      <td>0.641042</td>\n",
       "      <td>0.575217</td>\n",
       "      <td>100201.0</td>\n",
       "    </tr>\n",
       "    <tr>\n",
       "      <th>samples avg</th>\n",
       "      <td>0.592334</td>\n",
       "      <td>0.633816</td>\n",
       "      <td>0.571101</td>\n",
       "      <td>780757.0</td>\n",
       "    </tr>\n",
       "    <tr>\n",
       "      <th>micro avg</th>\n",
       "      <td>0.550790</td>\n",
       "      <td>0.575488</td>\n",
       "      <td>0.562868</td>\n",
       "      <td>780757.0</td>\n",
       "    </tr>\n",
       "    <tr>\n",
       "      <th>weighted avg</th>\n",
       "      <td>0.525605</td>\n",
       "      <td>0.575488</td>\n",
       "      <td>0.529314</td>\n",
       "      <td>780757.0</td>\n",
       "    </tr>\n",
       "    <tr>\n",
       "      <th>Action</th>\n",
       "      <td>0.514083</td>\n",
       "      <td>0.494030</td>\n",
       "      <td>0.503857</td>\n",
       "      <td>48325.0</td>\n",
       "    </tr>\n",
       "    <tr>\n",
       "      <th>Crime</th>\n",
       "      <td>0.469863</td>\n",
       "      <td>0.429372</td>\n",
       "      <td>0.448706</td>\n",
       "      <td>39779.0</td>\n",
       "    </tr>\n",
       "    <tr>\n",
       "      <th>Sci-Fi</th>\n",
       "      <td>0.507110</td>\n",
       "      <td>0.384144</td>\n",
       "      <td>0.437144</td>\n",
       "      <td>12904.0</td>\n",
       "    </tr>\n",
       "    <tr>\n",
       "      <th>War</th>\n",
       "      <td>0.471069</td>\n",
       "      <td>0.351571</td>\n",
       "      <td>0.402641</td>\n",
       "      <td>8846.0</td>\n",
       "    </tr>\n",
       "    <tr>\n",
       "      <th>Romance</th>\n",
       "      <td>0.430840</td>\n",
       "      <td>0.377092</td>\n",
       "      <td>0.402178</td>\n",
       "      <td>47495.0</td>\n",
       "    </tr>\n",
       "    <tr>\n",
       "      <th>Adventure</th>\n",
       "      <td>0.464554</td>\n",
       "      <td>0.327853</td>\n",
       "      <td>0.384412</td>\n",
       "      <td>29562.0</td>\n",
       "    </tr>\n",
       "    <tr>\n",
       "      <th>Sport</th>\n",
       "      <td>0.438790</td>\n",
       "      <td>0.341780</td>\n",
       "      <td>0.384257</td>\n",
       "      <td>6156.0</td>\n",
       "    </tr>\n",
       "    <tr>\n",
       "      <th>Music</th>\n",
       "      <td>0.441073</td>\n",
       "      <td>0.301615</td>\n",
       "      <td>0.358250</td>\n",
       "      <td>13252.0</td>\n",
       "    </tr>\n",
       "    <tr>\n",
       "      <th>Thriller</th>\n",
       "      <td>0.404934</td>\n",
       "      <td>0.319925</td>\n",
       "      <td>0.357445</td>\n",
       "      <td>41094.0</td>\n",
       "    </tr>\n",
       "    <tr>\n",
       "      <th>Animation</th>\n",
       "      <td>0.478658</td>\n",
       "      <td>0.247784</td>\n",
       "      <td>0.326534</td>\n",
       "      <td>8463.0</td>\n",
       "    </tr>\n",
       "    <tr>\n",
       "      <th>macro avg</th>\n",
       "      <td>0.394368</td>\n",
       "      <td>0.290564</td>\n",
       "      <td>0.312790</td>\n",
       "      <td>780757.0</td>\n",
       "    </tr>\n",
       "    <tr>\n",
       "      <th>Adult</th>\n",
       "      <td>0.506951</td>\n",
       "      <td>0.191460</td>\n",
       "      <td>0.277947</td>\n",
       "      <td>2857.0</td>\n",
       "    </tr>\n",
       "    <tr>\n",
       "      <th>Family</th>\n",
       "      <td>0.440748</td>\n",
       "      <td>0.151766</td>\n",
       "      <td>0.225785</td>\n",
       "      <td>16934.0</td>\n",
       "    </tr>\n",
       "    <tr>\n",
       "      <th>Mystery</th>\n",
       "      <td>0.392470</td>\n",
       "      <td>0.155441</td>\n",
       "      <td>0.222686</td>\n",
       "      <td>19583.0</td>\n",
       "    </tr>\n",
       "    <tr>\n",
       "      <th>Fantasy</th>\n",
       "      <td>0.401350</td>\n",
       "      <td>0.126345</td>\n",
       "      <td>0.192189</td>\n",
       "      <td>14587.0</td>\n",
       "    </tr>\n",
       "    <tr>\n",
       "      <th>Biography</th>\n",
       "      <td>0.394376</td>\n",
       "      <td>0.100530</td>\n",
       "      <td>0.160219</td>\n",
       "      <td>17159.0</td>\n",
       "    </tr>\n",
       "    <tr>\n",
       "      <th>History</th>\n",
       "      <td>0.366535</td>\n",
       "      <td>0.099414</td>\n",
       "      <td>0.156406</td>\n",
       "      <td>13992.0</td>\n",
       "    </tr>\n",
       "    <tr>\n",
       "      <th>Film-Noir</th>\n",
       "      <td>0.434211</td>\n",
       "      <td>0.069878</td>\n",
       "      <td>0.120383</td>\n",
       "      <td>1889.0</td>\n",
       "    </tr>\n",
       "    <tr>\n",
       "      <th>Musical</th>\n",
       "      <td>0.415126</td>\n",
       "      <td>0.060229</td>\n",
       "      <td>0.105196</td>\n",
       "      <td>8202.0</td>\n",
       "    </tr>\n",
       "    <tr>\n",
       "      <th>Short</th>\n",
       "      <td>0.000000</td>\n",
       "      <td>0.000000</td>\n",
       "      <td>0.000000</td>\n",
       "      <td>40.0</td>\n",
       "    </tr>\n",
       "    <tr>\n",
       "      <th>Reality-TV</th>\n",
       "      <td>0.000000</td>\n",
       "      <td>0.000000</td>\n",
       "      <td>0.000000</td>\n",
       "      <td>192.0</td>\n",
       "    </tr>\n",
       "    <tr>\n",
       "      <th>Talk-Show</th>\n",
       "      <td>0.000000</td>\n",
       "      <td>0.000000</td>\n",
       "      <td>0.000000</td>\n",
       "      <td>71.0</td>\n",
       "    </tr>\n",
       "    <tr>\n",
       "      <th>News</th>\n",
       "      <td>0.000000</td>\n",
       "      <td>0.000000</td>\n",
       "      <td>0.000000</td>\n",
       "      <td>1560.0</td>\n",
       "    </tr>\n",
       "    <tr>\n",
       "      <th>Game-Show</th>\n",
       "      <td>0.000000</td>\n",
       "      <td>0.000000</td>\n",
       "      <td>0.000000</td>\n",
       "      <td>13.0</td>\n",
       "    </tr>\n",
       "  </tbody>\n",
       "</table>\n",
       "</div>"
      ],
      "text/plain": [
       "              precision    recall  f1-score   support\n",
       "Documentary    0.710837  0.817805  0.760579   85233.0\n",
       "Drama          0.581181  0.901804  0.706833  198532.0\n",
       "Western        0.690517  0.647429  0.668279    8750.0\n",
       "Horror         0.565376  0.597475  0.580982   35086.0\n",
       "Comedy         0.521651  0.641042  0.575217  100201.0\n",
       "samples avg    0.592334  0.633816  0.571101  780757.0\n",
       "micro avg      0.550790  0.575488  0.562868  780757.0\n",
       "weighted avg   0.525605  0.575488  0.529314  780757.0\n",
       "Action         0.514083  0.494030  0.503857   48325.0\n",
       "Crime          0.469863  0.429372  0.448706   39779.0\n",
       "Sci-Fi         0.507110  0.384144  0.437144   12904.0\n",
       "War            0.471069  0.351571  0.402641    8846.0\n",
       "Romance        0.430840  0.377092  0.402178   47495.0\n",
       "Adventure      0.464554  0.327853  0.384412   29562.0\n",
       "Sport          0.438790  0.341780  0.384257    6156.0\n",
       "Music          0.441073  0.301615  0.358250   13252.0\n",
       "Thriller       0.404934  0.319925  0.357445   41094.0\n",
       "Animation      0.478658  0.247784  0.326534    8463.0\n",
       "macro avg      0.394368  0.290564  0.312790  780757.0\n",
       "Adult          0.506951  0.191460  0.277947    2857.0\n",
       "Family         0.440748  0.151766  0.225785   16934.0\n",
       "Mystery        0.392470  0.155441  0.222686   19583.0\n",
       "Fantasy        0.401350  0.126345  0.192189   14587.0\n",
       "Biography      0.394376  0.100530  0.160219   17159.0\n",
       "History        0.366535  0.099414  0.156406   13992.0\n",
       "Film-Noir      0.434211  0.069878  0.120383    1889.0\n",
       "Musical        0.415126  0.060229  0.105196    8202.0\n",
       "Short          0.000000  0.000000  0.000000      40.0\n",
       "Reality-TV     0.000000  0.000000  0.000000     192.0\n",
       "Talk-Show      0.000000  0.000000  0.000000      71.0\n",
       "News           0.000000  0.000000  0.000000    1560.0\n",
       "Game-Show      0.000000  0.000000  0.000000      13.0"
      ]
     },
     "execution_count": 21,
     "metadata": {},
     "output_type": "execute_result"
    }
   ],
   "source": [
    "report = pd.DataFrame(\n",
    "    classification_report(\n",
    "        y_test.tolist(), \n",
    "        y_pred.tolist(), \n",
    "        target_names = \\\n",
    "            pd.read_csv('data/preprocessed/binarization_classes.csv')\\\n",
    "            .Class.tolist(), \n",
    "        output_dict = True\n",
    "    )\n",
    ")\n",
    "report.T.sort_values('f1-score', ascending = False)"
   ]
  },
  {
   "cell_type": "markdown",
   "metadata": {},
   "source": [
    "The top prediction results are achieved for Documentary, Drama, Western, Horror, Comedy and Action. All of those have a big number of samples in the dataset except Western and Horror. Perhpas the reason is that Western and Horror have more genre-specific words that uniquely identify them."
   ]
  },
  {
   "cell_type": "markdown",
   "metadata": {},
   "source": [
    "### 10. Summary and conclusions\n",
    "\n",
    "The overall results do not look good globally. But in the context of the multi-label classification problem and comparing with other research papers in that directions the results seems to be not bad.\n",
    "Espsecially considering the following factors:\n",
    "1. The simpler model is used than in other worksю\n",
    "2. Label imbalance was not considered and processed while other works usually reduce a number of genres to 5-10 of the most popular.\n",
    "\n",
    "Hypothetically such a result has been achieved through not ideal but careful preprocessing. It can be improved if we process label imbalance, for example with manual filtering out a rare genres, or with approaches like SMOTE.\n",
    "\n",
    "The results of this project can be used:\n",
    "1. As a baseline for other projects.\n",
    "2. For real contributions discussed in the Introduction section, or as a hepler tool for the same purposes. Though for lower real-time latency it has to be productionalized.\n",
    "\n",
    "If we consider other domain-specific areas where we can benefit from text classification either from Mutliclass or from Multilabel classification, the ideas presented in this project are universal. They can be transfered and applied to any text classification problem while there are some text documents and predefined classes.\n",
    "\n",
    "The Jypiter notebook can be easily run by anyone. All the data, initial and preserved on each step ara available by the reference [[14]](#14). AS long as Doc2Vec and MLP is supported or can be implemnted in a specific programming language and evironment, this project can be reproduced. For example, it may be Spark or R.\n",
    "\n",
    "The alternative approaches worth consideration might be using BERT or GPT for vectorization, XGBoost or LSTM for classification. Perhaps One-Vs-Rest approach instead of native support fro Multilabel classification problem. Those are more modern approaches that can potentially show better performance but require deeper knowledge and more computational resources."
   ]
  },
  {
   "cell_type": "markdown",
   "metadata": {
    "pycharm": {
     "name": "#%% md\n"
    }
   },
   "source": [
    "### IV. References\n",
    "<a name=\"1\" style=\"color: blue; font-size: 1.15em\">[1] </a>IMDb Non-Commercial Datasets [Online]. Visited 2023, May 26. Available: [https://developer.imdb.com/non-commercial-datasets/](https://developer.imdb.com/non-commercial-datasets/)<br/>\n",
    "<a name=\"2\" style=\"color: blue; font-size: 1.15em\">[2] </a>IMDb Title Basics Dataset [Online]. Visited 2023, May 26. Available: [https://datasets.imdbws.com/title.basics.tsv.gz](https://datasets.imdbws.com/title.basics.tsv.gz)<br/>\n",
    "<a name=\"3\" style=\"color: blue; font-size: 1.15em\">[3] </a>IMDb Plot Summary Pages [Online]. Visited 2023, May 26. Available: [https://www.imdb.com/title/<title_id>/plotsummary/](https://www.imdb.com/title/<title_id>/plotsummary/)<br/>\n",
    "<a name=\"4\" style=\"color: blue; font-size: 1.15em\">[4] </a>Pandas Documentation [Online]. Visited 2023, May 29. Available: [https://pandas.pydata.org/docs/](https://pandas.pydata.org/docs/)<br/>\n",
    "<a name=\"5\" style=\"color: blue; font-size: 1.15em\">[5] </a>NumPy Documentation [Online]. Visited 2023, May 29. Available: [https://numpy.org/doc/](https://numpy.org/doc/)<br/>\n",
    "<a name=\"6\" style=\"color: blue; font-size: 1.15em\">[6] </a>Matplotlib Documentation [Online]. Visited 2023, May 29. Available: [https://matplotlib.org/stable/index.html](https://matplotlib.org/stable/index.html)<br/>\n",
    "<a name=\"7\" style=\"color: blue; font-size: 1.15em\">[7] </a>Seaborn Documentation [Online]. Visited 2023, May 29. Available: [https://seaborn.pydata.org/api.html](https://seaborn.pydata.org/api.html)<br/>\n",
    "<a name=\"8\" style=\"color: blue; font-size: 1.15em\">[8] </a>Scikit-learn Documentation [Online]. Visited 2023, May 29. Available: [https://scikit-learn.org/stable/modules/classes.html](https://scikit-learn.org/stable/modules/classes.html)<br/>\n",
    "<a name=\"9\" style=\"color: blue; font-size: 1.15em\">[9] </a>Doc2Vec Model [Online]. Visited 2023, June 3. Available: [https://radimrehurek.com/gensim/auto_examples/tutorials/run_doc2vec_lee.html](https://radimrehurek.com/gensim/auto_examples/tutorials/run_doc2vec_lee.html)<br/>\n",
    "<a name=\"10\" style=\"color: blue; font-size: 1.15em\">[10] </a>Predicting Movie Genres Based on Plot Summaries [Online]. Visited 2023, May 27. Available: [https://medium.com/@kunalgupta4595/predicting-movie-genres-based-on-plot-summaries-bae646e70e04](https://medium.com/@kunalgupta4595/predicting-movie-genres-based-on-plot-summaries-bae646e70e04)<br/>\n",
    "<a name=\"11\" style=\"color: blue; font-size: 1.15em\">[11] </a>Predicting Movie Genres Based on Plot Summaries [Online]. Visited 2023, May 27. Available: [https://arxiv.org/abs/1801.04813](https://arxiv.org/abs/1801.04813)<br/>\n",
    "<a name=\"12\" style=\"color: blue; font-size: 1.15em\">[12] </a>Movie Genre Classification from Plot Summaries Using Bidirectional LSTM [Online]. Visited 2023, May 27. Available: [https://www.researchgate.net/publication/322929271_Movie_Genre_Classification_from_Plot_Summaries_Using_Bidirectional_LSTM](https://www.researchgate.net/publication/322929271_Movie_Genre_Classification_from_Plot_Summaries_Using_Bidirectional_LSTM)<br/>\n",
    "<a name=\"13\" style=\"color: blue; font-size: 1.15em\">[13] </a>Movie Genre Prediction Based on Plot Synopsis [Online]. Visited 2023, May 27. Available: [https://www.academia.edu/44569535/Movie_Genre_Prediction_Based_on_Plot_Synopsis](https://www.academia.edu/44569535/Movie_Genre_Prediction_Based_on_Plot_Synopsis)<br/>"
   ]
  }
 ],
 "metadata": {
  "kernelspec": {
   "display_name": "uol-nlp",
   "language": "python",
   "name": "uol-nlp"
  },
  "language_info": {
   "codemirror_mode": {
    "name": "ipython",
    "version": 3
   },
   "file_extension": ".py",
   "mimetype": "text/x-python",
   "name": "python",
   "nbconvert_exporter": "python",
   "pygments_lexer": "ipython3",
   "version": "3.9.7"
  },
  "widgets": {
   "application/vnd.jupyter.widget-state+json": {
    "state": {
     "005e68b65178454b8d65f837a828f675": {
      "model_module": "@jupyter-widgets/base",
      "model_module_version": "2.0.0",
      "model_name": "LayoutModel",
      "state": {}
     },
     "0097ce66ea14480b93b15089a68ecd75": {
      "model_module": "@jupyter-widgets/controls",
      "model_module_version": "2.0.0",
      "model_name": "ProgressStyleModel",
      "state": {
       "description_width": ""
      }
     },
     "00f31b5fbff84f169ead9f9b8945e682": {
      "model_module": "@jupyter-widgets/controls",
      "model_module_version": "2.0.0",
      "model_name": "IntProgressModel",
      "state": {
       "bar_style": "success",
       "description": "100.00%",
       "layout": "IPY_MODEL_675673dccf724a598d44fbc50a4848cc",
       "max": 15092,
       "style": "IPY_MODEL_482c8a0447e74161a33dba6b682c5093",
       "value": 15092
      }
     },
     "015c95c626cf40ed8a1f8684d641505e": {
      "model_module": "@jupyter-widgets/base",
      "model_module_version": "2.0.0",
      "model_name": "LayoutModel",
      "state": {}
     },
     "0212587dedd64fd3aacb618e5e3f2ed7": {
      "model_module": "@jupyter-widgets/base",
      "model_module_version": "2.0.0",
      "model_name": "LayoutModel",
      "state": {}
     },
     "024892ec9ac44f2e855125590e9e29f4": {
      "model_module": "@jupyter-widgets/base",
      "model_module_version": "2.0.0",
      "model_name": "LayoutModel",
      "state": {}
     },
     "030964b3e4a64130b9bb8314b4b192c6": {
      "model_module": "@jupyter-widgets/base",
      "model_module_version": "2.0.0",
      "model_name": "LayoutModel",
      "state": {}
     },
     "035e5b4440af43278b709f5570142026": {
      "model_module": "@jupyter-widgets/base",
      "model_module_version": "2.0.0",
      "model_name": "LayoutModel",
      "state": {}
     },
     "0423f321701e4c3695c9978a5c7bdc87": {
      "model_module": "@jupyter-widgets/controls",
      "model_module_version": "2.0.0",
      "model_name": "LabelStyleModel",
      "state": {
       "description_width": "",
       "font_family": null,
       "font_size": null,
       "font_style": null,
       "font_variant": null,
       "font_weight": null,
       "text_color": null,
       "text_decoration": null
      }
     },
     "049e28692d0547efa2fafe024bbbe1f0": {
      "model_module": "@jupyter-widgets/base",
      "model_module_version": "2.0.0",
      "model_name": "LayoutModel",
      "state": {}
     },
     "056e61d7ade54d9095ec451417bf47d5": {
      "model_module": "@jupyter-widgets/controls",
      "model_module_version": "2.0.0",
      "model_name": "IntProgressModel",
      "state": {
       "bar_style": "danger",
       "description": "0.00%",
       "layout": "IPY_MODEL_cee64257f98e4b59bdfa3d1466a185f2",
       "max": 15092,
       "style": "IPY_MODEL_faa06d89b6414d0aa0fb21d809631a55"
      }
     },
     "059287d6003e46068ccdceb30976641e": {
      "model_module": "@jupyter-widgets/controls",
      "model_module_version": "2.0.0",
      "model_name": "LabelModel",
      "state": {
       "layout": "IPY_MODEL_0a9401cbd58c45a5acb3c207f08f6238",
       "style": "IPY_MODEL_8be6643a84714435bb2b92b3ff0ebe60",
       "value": "15093 / 15093"
      }
     },
     "063a0b8d154e4dd781a9a5717397453a": {
      "model_module": "@jupyter-widgets/controls",
      "model_module_version": "2.0.0",
      "model_name": "IntProgressModel",
      "state": {
       "bar_style": "success",
       "description": "100.00%",
       "layout": "IPY_MODEL_b161e86cc97445a98b81a4dcaf7c2730",
       "max": 15092,
       "style": "IPY_MODEL_fcad75a9d7e04010b4feecca0aa17f09",
       "value": 15092
      }
     },
     "073d6ff6ca244388ae176e7725417a6b": {
      "model_module": "@jupyter-widgets/base",
      "model_module_version": "2.0.0",
      "model_name": "LayoutModel",
      "state": {}
     },
     "07d4d03a599244c185b0986bf5476de9": {
      "model_module": "@jupyter-widgets/controls",
      "model_module_version": "2.0.0",
      "model_name": "HBoxModel",
      "state": {
       "children": [
        "IPY_MODEL_38fe836b080740c0bff31eee0e44ceba",
        "IPY_MODEL_ae3da64da0284b5b97c8e5d4bdd55c2b"
       ],
       "layout": "IPY_MODEL_c0434cf810424aec9026aef167884076"
      }
     },
     "08c102eef6f54eefb1428e2474d7877e": {
      "model_module": "@jupyter-widgets/controls",
      "model_module_version": "2.0.0",
      "model_name": "ProgressStyleModel",
      "state": {
       "description_width": ""
      }
     },
     "08cbf500bf2b452ca4d97911c2c5ded8": {
      "model_module": "@jupyter-widgets/controls",
      "model_module_version": "2.0.0",
      "model_name": "IntProgressModel",
      "state": {
       "bar_style": "success",
       "description": "100.00%",
       "layout": "IPY_MODEL_478d9f1c242c4df2b49cd0b9a076c925",
       "max": 15093,
       "style": "IPY_MODEL_11061f8969624758bd10f75a2f0cb7d9",
       "value": 15093
      }
     },
     "08ce844e69af48b9bd3eb4ba7f7551aa": {
      "model_module": "@jupyter-widgets/controls",
      "model_module_version": "2.0.0",
      "model_name": "LabelStyleModel",
      "state": {
       "description_width": "",
       "font_family": null,
       "font_size": null,
       "font_style": null,
       "font_variant": null,
       "font_weight": null,
       "text_color": null,
       "text_decoration": null
      }
     },
     "09041503d3e14fce92f56b9093d796c0": {
      "model_module": "@jupyter-widgets/controls",
      "model_module_version": "2.0.0",
      "model_name": "LabelModel",
      "state": {
       "layout": "IPY_MODEL_d50c178e0f1045efbebec2f076e52f29",
       "style": "IPY_MODEL_aee20c505137479197664048fc16b2c6",
       "value": "15093 / 15093"
      }
     },
     "0918daec695b4d2497c29f5440ec21e5": {
      "model_module": "@jupyter-widgets/base",
      "model_module_version": "2.0.0",
      "model_name": "LayoutModel",
      "state": {}
     },
     "0972b56294b14ede92e5f2bf4d00c050": {
      "model_module": "@jupyter-widgets/controls",
      "model_module_version": "2.0.0",
      "model_name": "LabelModel",
      "state": {
       "layout": "IPY_MODEL_79895a5857fb4fe69bf262b8cfde6a60",
       "style": "IPY_MODEL_87265d5a754a44fc927d7faaa3152fa6",
       "value": "15093 / 15093"
      }
     },
     "0a9401cbd58c45a5acb3c207f08f6238": {
      "model_module": "@jupyter-widgets/base",
      "model_module_version": "2.0.0",
      "model_name": "LayoutModel",
      "state": {}
     },
     "0ad5c6d6ad47445b916cce127d595637": {
      "model_module": "@jupyter-widgets/controls",
      "model_module_version": "2.0.0",
      "model_name": "HBoxModel",
      "state": {
       "children": [
        "IPY_MODEL_6d9485e4be5b4517ab88fb07799aa46e",
        "IPY_MODEL_73a75d62732d4e77bb589aad0f9c9617"
       ],
       "layout": "IPY_MODEL_82c5288b2b184b7abe489f96903771b1"
      }
     },
     "0c579479c2bd4179930edfe2f653a7c7": {
      "model_module": "@jupyter-widgets/controls",
      "model_module_version": "2.0.0",
      "model_name": "LabelModel",
      "state": {
       "layout": "IPY_MODEL_84a91cc74544483ca4cd7e873892b0d5",
       "style": "IPY_MODEL_e4ab177b049e45b4b34e29686389a710",
       "value": "15092 / 15092"
      }
     },
     "0c9957dace1948a296739c28a5fd8dda": {
      "model_module": "@jupyter-widgets/base",
      "model_module_version": "2.0.0",
      "model_name": "LayoutModel",
      "state": {}
     },
     "0d280f5f0dc14248b8910f96f45e152a": {
      "model_module": "@jupyter-widgets/controls",
      "model_module_version": "2.0.0",
      "model_name": "LabelStyleModel",
      "state": {
       "description_width": "",
       "font_family": null,
       "font_size": null,
       "font_style": null,
       "font_variant": null,
       "font_weight": null,
       "text_color": null,
       "text_decoration": null
      }
     },
     "0d478f23b8d146c8b1c8beb914dcce1e": {
      "model_module": "@jupyter-widgets/base",
      "model_module_version": "2.0.0",
      "model_name": "LayoutModel",
      "state": {}
     },
     "0e590371f7374556bcd107a745eee7c9": {
      "model_module": "@jupyter-widgets/base",
      "model_module_version": "2.0.0",
      "model_name": "LayoutModel",
      "state": {}
     },
     "0f5a5a3380664e5796cd198e2fa761d3": {
      "model_module": "@jupyter-widgets/controls",
      "model_module_version": "2.0.0",
      "model_name": "ProgressStyleModel",
      "state": {
       "description_width": ""
      }
     },
     "0ff61a8f7f4d4276b16f1ec9c73ccb78": {
      "model_module": "@jupyter-widgets/controls",
      "model_module_version": "2.0.0",
      "model_name": "HBoxModel",
      "state": {
       "children": [
        "IPY_MODEL_320dd1b6647e486e9ee28698faa86b01",
        "IPY_MODEL_c1c1aa2d724a41f8892f3ed99b5cf08e"
       ],
       "layout": "IPY_MODEL_1a0bbc2f74364bb09b327bc618303c15"
      }
     },
     "1021d6e0d419486d9d962a22e2fa0b83": {
      "model_module": "@jupyter-widgets/controls",
      "model_module_version": "2.0.0",
      "model_name": "HBoxModel",
      "state": {
       "children": [
        "IPY_MODEL_bdf0fce973de4bcdaf22953977f8dae8",
        "IPY_MODEL_aa625ca6d4bb4cb7960908bfdfd1bb3b"
       ],
       "layout": "IPY_MODEL_d8e3df08f9124a34a92f9d0c50fc558c"
      }
     },
     "104e137f9ce24ad5b1c729b98e3b4e78": {
      "model_module": "@jupyter-widgets/base",
      "model_module_version": "2.0.0",
      "model_name": "LayoutModel",
      "state": {}
     },
     "11061f8969624758bd10f75a2f0cb7d9": {
      "model_module": "@jupyter-widgets/controls",
      "model_module_version": "2.0.0",
      "model_name": "ProgressStyleModel",
      "state": {
       "description_width": ""
      }
     },
     "12cd4c1a02b34580a6c4a48a84b0d547": {
      "model_module": "@jupyter-widgets/base",
      "model_module_version": "2.0.0",
      "model_name": "LayoutModel",
      "state": {}
     },
     "1333fdc534954c029e9fe051b3cbc6ed": {
      "model_module": "@jupyter-widgets/controls",
      "model_module_version": "2.0.0",
      "model_name": "ProgressStyleModel",
      "state": {
       "description_width": ""
      }
     },
     "135a2e8dad2345adb98d1bf6bc3d4333": {
      "model_module": "@jupyter-widgets/base",
      "model_module_version": "2.0.0",
      "model_name": "LayoutModel",
      "state": {}
     },
     "13ef125d8b8a47bfabc5ab9c4dd82b6f": {
      "model_module": "@jupyter-widgets/controls",
      "model_module_version": "2.0.0",
      "model_name": "ProgressStyleModel",
      "state": {
       "description_width": ""
      }
     },
     "13f53c0a46334c0caea3ea3e64b6957a": {
      "model_module": "@jupyter-widgets/base",
      "model_module_version": "2.0.0",
      "model_name": "LayoutModel",
      "state": {}
     },
     "140026f73d294ff2bcdb28eacc41ea38": {
      "model_module": "@jupyter-widgets/base",
      "model_module_version": "2.0.0",
      "model_name": "LayoutModel",
      "state": {}
     },
     "1414890d77c54915b22e1ff0c2b49a1e": {
      "model_module": "@jupyter-widgets/controls",
      "model_module_version": "2.0.0",
      "model_name": "IntProgressModel",
      "state": {
       "bar_style": "success",
       "description": "100.00%",
       "layout": "IPY_MODEL_c559c9d5ed544610a9185a40ef980519",
       "max": 15092,
       "style": "IPY_MODEL_fdffe05fdded4293a18d13b50194f9c3",
       "value": 15092
      }
     },
     "1535739bfab943ab8894b9ca639989f7": {
      "model_module": "@jupyter-widgets/controls",
      "model_module_version": "2.0.0",
      "model_name": "IntProgressModel",
      "state": {
       "bar_style": "danger",
       "description": "0.00%",
       "layout": "IPY_MODEL_daf3543380954ac69391c93337193bd9",
       "max": 15093,
       "style": "IPY_MODEL_dd87bdb43bfb416099f7c9f079133930"
      }
     },
     "15a32f212ac54775b3528882e65dcb89": {
      "model_module": "@jupyter-widgets/controls",
      "model_module_version": "2.0.0",
      "model_name": "ProgressStyleModel",
      "state": {
       "description_width": ""
      }
     },
     "15d476e688304eedbf1585af428ca680": {
      "model_module": "@jupyter-widgets/base",
      "model_module_version": "2.0.0",
      "model_name": "LayoutModel",
      "state": {}
     },
     "15da9cc0c6384946866ad05fb7676780": {
      "model_module": "@jupyter-widgets/base",
      "model_module_version": "2.0.0",
      "model_name": "LayoutModel",
      "state": {}
     },
     "169a266e6b9e43079dcbb3e44590532b": {
      "model_module": "@jupyter-widgets/controls",
      "model_module_version": "2.0.0",
      "model_name": "IntProgressModel",
      "state": {
       "bar_style": "success",
       "description": "100.00%",
       "layout": "IPY_MODEL_aa42080ad8974c8db0282faeb02606c3",
       "max": 15093,
       "style": "IPY_MODEL_2d2bed3344af40f286614c62d768f72c",
       "value": 15093
      }
     },
     "16a141c9d0194b28ba8b7be2931aea61": {
      "model_module": "@jupyter-widgets/controls",
      "model_module_version": "2.0.0",
      "model_name": "IntProgressModel",
      "state": {
       "bar_style": "danger",
       "description": "0.00%",
       "layout": "IPY_MODEL_936335a9db164f53b87536056becca8a",
       "max": 15093,
       "style": "IPY_MODEL_476c968892f843f9a1e2549a9634f66e"
      }
     },
     "16fa5e8071bc4191b58bb14eb15fb0bb": {
      "model_module": "@jupyter-widgets/base",
      "model_module_version": "2.0.0",
      "model_name": "LayoutModel",
      "state": {}
     },
     "170e2c8e8e4a4639ab76c0c41f1ca83f": {
      "model_module": "@jupyter-widgets/controls",
      "model_module_version": "2.0.0",
      "model_name": "LabelModel",
      "state": {
       "layout": "IPY_MODEL_d78c02dce4a54b19a3815853fcc7e3f0",
       "style": "IPY_MODEL_0423f321701e4c3695c9978a5c7bdc87",
       "value": "0 / 15093"
      }
     },
     "1724902c98c7487e8ec73c5e0972c5d9": {
      "model_module": "@jupyter-widgets/base",
      "model_module_version": "2.0.0",
      "model_name": "LayoutModel",
      "state": {}
     },
     "17476fb942a044a296e1c7eb4d06fd9d": {
      "model_module": "@jupyter-widgets/controls",
      "model_module_version": "2.0.0",
      "model_name": "LabelStyleModel",
      "state": {
       "description_width": "",
       "font_family": null,
       "font_size": null,
       "font_style": null,
       "font_variant": null,
       "font_weight": null,
       "text_color": null,
       "text_decoration": null
      }
     },
     "178b8eb00d4941aaafbf082e0d3cc8a0": {
      "model_module": "@jupyter-widgets/controls",
      "model_module_version": "2.0.0",
      "model_name": "IntProgressModel",
      "state": {
       "bar_style": "success",
       "description": "100.00%",
       "layout": "IPY_MODEL_2bd18d324e4b4412aa2d50f664b47059",
       "max": 15092,
       "style": "IPY_MODEL_13ef125d8b8a47bfabc5ab9c4dd82b6f",
       "value": 15092
      }
     },
     "179769a7c7064f69b804000d6d65d9a4": {
      "model_module": "@jupyter-widgets/controls",
      "model_module_version": "2.0.0",
      "model_name": "LabelStyleModel",
      "state": {
       "description_width": "",
       "font_family": null,
       "font_size": null,
       "font_style": null,
       "font_variant": null,
       "font_weight": null,
       "text_color": null,
       "text_decoration": null
      }
     },
     "19229179931645bba36731f5ca2b0a06": {
      "model_module": "@jupyter-widgets/controls",
      "model_module_version": "2.0.0",
      "model_name": "LabelModel",
      "state": {
       "layout": "IPY_MODEL_36015a5399f747bbb42cbd9a504f05f7",
       "style": "IPY_MODEL_8ad83e5c26c4401985ddc4bbe3409e9a",
       "value": "15092 / 15092"
      }
     },
     "19848871459344a1aef47c9544e01dad": {
      "model_module": "@jupyter-widgets/base",
      "model_module_version": "2.0.0",
      "model_name": "LayoutModel",
      "state": {}
     },
     "19b9bf0e13824951bb8f293f2c9a4dbe": {
      "model_module": "@jupyter-widgets/base",
      "model_module_version": "2.0.0",
      "model_name": "LayoutModel",
      "state": {}
     },
     "19f75453b86c4f658b7d903bfbb6a29b": {
      "model_module": "@jupyter-widgets/controls",
      "model_module_version": "2.0.0",
      "model_name": "LabelStyleModel",
      "state": {
       "description_width": "",
       "font_family": null,
       "font_size": null,
       "font_style": null,
       "font_variant": null,
       "font_weight": null,
       "text_color": null,
       "text_decoration": null
      }
     },
     "1a0bbc2f74364bb09b327bc618303c15": {
      "model_module": "@jupyter-widgets/base",
      "model_module_version": "2.0.0",
      "model_name": "LayoutModel",
      "state": {}
     },
     "1ab391475aae45dc906b704e9b39ab5c": {
      "model_module": "@jupyter-widgets/base",
      "model_module_version": "2.0.0",
      "model_name": "LayoutModel",
      "state": {}
     },
     "1b9d6d8ded544e0099167f31570d976f": {
      "model_module": "@jupyter-widgets/controls",
      "model_module_version": "2.0.0",
      "model_name": "IntProgressModel",
      "state": {
       "bar_style": "success",
       "description": "100.00%",
       "layout": "IPY_MODEL_fbfc22e43c614d8c8c138f058862b2dd",
       "max": 15093,
       "style": "IPY_MODEL_08c102eef6f54eefb1428e2474d7877e",
       "value": 15093
      }
     },
     "1cd5a4eff31c4978a828748dd45a6cf3": {
      "model_module": "@jupyter-widgets/base",
      "model_module_version": "2.0.0",
      "model_name": "LayoutModel",
      "state": {}
     },
     "1d70b5f8aca1495d83a88ce39e02b52e": {
      "model_module": "@jupyter-widgets/base",
      "model_module_version": "2.0.0",
      "model_name": "LayoutModel",
      "state": {}
     },
     "1e762759beea41b4b31980783f39256a": {
      "model_module": "@jupyter-widgets/controls",
      "model_module_version": "2.0.0",
      "model_name": "LabelStyleModel",
      "state": {
       "description_width": "",
       "font_family": null,
       "font_size": null,
       "font_style": null,
       "font_variant": null,
       "font_weight": null,
       "text_color": null,
       "text_decoration": null
      }
     },
     "2011dcf3130e47f6908f54b7b36b6666": {
      "model_module": "@jupyter-widgets/controls",
      "model_module_version": "2.0.0",
      "model_name": "HBoxModel",
      "state": {
       "children": [
        "IPY_MODEL_71cc04e1481f4a31a65fa14bc9446803",
        "IPY_MODEL_826eeb5ac8d04e28acbae870b298b166"
       ],
       "layout": "IPY_MODEL_89d85c0f57724ff89b1de164066720aa"
      }
     },
     "20e5cd7eb39b4693ac91b16d50ab4b29": {
      "model_module": "@jupyter-widgets/controls",
      "model_module_version": "2.0.0",
      "model_name": "HBoxModel",
      "state": {
       "children": [
        "IPY_MODEL_056e61d7ade54d9095ec451417bf47d5",
        "IPY_MODEL_9b43d594b5f842ff898bd2a508bdbca1"
       ],
       "layout": "IPY_MODEL_53cc1e2d806d4b60b027c3fd9fd23030"
      }
     },
     "22b6634e9fcf4784aa9c12197f140f8d": {
      "model_module": "@jupyter-widgets/base",
      "model_module_version": "2.0.0",
      "model_name": "LayoutModel",
      "state": {}
     },
     "22c8e9cc9d8d462b9996fc7648d46cca": {
      "model_module": "@jupyter-widgets/base",
      "model_module_version": "2.0.0",
      "model_name": "LayoutModel",
      "state": {}
     },
     "22eea01829a7429282b480f5a4cb1487": {
      "model_module": "@jupyter-widgets/base",
      "model_module_version": "2.0.0",
      "model_name": "LayoutModel",
      "state": {}
     },
     "23abad76396045e5b8606b947149e356": {
      "model_module": "@jupyter-widgets/base",
      "model_module_version": "2.0.0",
      "model_name": "LayoutModel",
      "state": {}
     },
     "24ac70aa880648e4a4b08e5f5161db94": {
      "model_module": "@jupyter-widgets/base",
      "model_module_version": "2.0.0",
      "model_name": "LayoutModel",
      "state": {}
     },
     "251b121ce3384bd284d20d6464738bee": {
      "model_module": "@jupyter-widgets/controls",
      "model_module_version": "2.0.0",
      "model_name": "LabelStyleModel",
      "state": {
       "description_width": "",
       "font_family": null,
       "font_size": null,
       "font_style": null,
       "font_variant": null,
       "font_weight": null,
       "text_color": null,
       "text_decoration": null
      }
     },
     "257620725c7241a69900a93b696c4367": {
      "model_module": "@jupyter-widgets/base",
      "model_module_version": "2.0.0",
      "model_name": "LayoutModel",
      "state": {}
     },
     "26386535c00c46cab40e79ba7162e5fe": {
      "model_module": "@jupyter-widgets/controls",
      "model_module_version": "2.0.0",
      "model_name": "HBoxModel",
      "state": {
       "children": [
        "IPY_MODEL_69aba361e1d445c5987488f39ff86628",
        "IPY_MODEL_8938f7cb8b2c43f292b9508ab650e3ab"
       ],
       "layout": "IPY_MODEL_60b43244dc36424898910f034d4ae22d"
      }
     },
     "266c21bc456b491b95ab1efdfb5df538": {
      "model_module": "@jupyter-widgets/controls",
      "model_module_version": "2.0.0",
      "model_name": "HTMLModel",
      "state": {
       "layout": "IPY_MODEL_b70ec53f67014b83904ff2f736d18936",
       "style": "IPY_MODEL_5a5a82698fea4976bcf35018e191c26f",
       "value": "Epochs:   2%"
      }
     },
     "271d64e4d77541d198c4e694122a35e5": {
      "model_module": "@jupyter-widgets/controls",
      "model_module_version": "2.0.0",
      "model_name": "LabelModel",
      "state": {
       "layout": "IPY_MODEL_2cbcda775ad3446e9d37be9eb4c27eb1",
       "style": "IPY_MODEL_37e40f38b4314e1f971e4defc0c657da",
       "value": "15092 / 15092"
      }
     },
     "27bd707411cc43e086090265154f400b": {
      "model_module": "@jupyter-widgets/controls",
      "model_module_version": "2.0.0",
      "model_name": "LabelModel",
      "state": {
       "layout": "IPY_MODEL_8a0fcc3c708e4670ba8ec4b12a348b4a",
       "style": "IPY_MODEL_85bb71887ea34a2ca69e47c50e3ff157",
       "value": "15093 / 15093"
      }
     },
     "28371e96fb354ef6ac274b3e1486b326": {
      "model_module": "@jupyter-widgets/controls",
      "model_module_version": "2.0.0",
      "model_name": "HBoxModel",
      "state": {
       "children": [
        "IPY_MODEL_266c21bc456b491b95ab1efdfb5df538",
        "IPY_MODEL_62594a07aa164e45be795254f8dd5cab",
        "IPY_MODEL_c09778cbdee24c958b24248d35f6a88b"
       ],
       "layout": "IPY_MODEL_4e464b649ec24acaae536d9ef7876a68"
      }
     },
     "2998c56e961f43738eda0817b8b95f84": {
      "model_module": "@jupyter-widgets/base",
      "model_module_version": "2.0.0",
      "model_name": "LayoutModel",
      "state": {}
     },
     "29f148c06c3645829327eed5cbd0ee8c": {
      "model_module": "@jupyter-widgets/base",
      "model_module_version": "2.0.0",
      "model_name": "LayoutModel",
      "state": {}
     },
     "2b270e074af640e4b4751e7fac825999": {
      "model_module": "@jupyter-widgets/controls",
      "model_module_version": "2.0.0",
      "model_name": "HBoxModel",
      "state": {
       "children": [
        "IPY_MODEL_ae70337b6d734f6cbf405bf57cae1ae4",
        "IPY_MODEL_f0de40316a0c4c67b483cc0663f5a57b"
       ],
       "layout": "IPY_MODEL_dc8179968a624442830e2592589693f8"
      }
     },
     "2ba71747982c4ad0b9eec26c1efbedbe": {
      "model_module": "@jupyter-widgets/controls",
      "model_module_version": "2.0.0",
      "model_name": "ProgressStyleModel",
      "state": {
       "description_width": ""
      }
     },
     "2bb403facf9c4f1989bb1911c37cb824": {
      "model_module": "@jupyter-widgets/controls",
      "model_module_version": "2.0.0",
      "model_name": "HBoxModel",
      "state": {
       "children": [
        "IPY_MODEL_9bfa0ea76ac5434e850ce70fc7fe0c5f",
        "IPY_MODEL_3e791f3cc36a40c7a28d366839707bf6"
       ],
       "layout": "IPY_MODEL_15d476e688304eedbf1585af428ca680"
      }
     },
     "2bd18d324e4b4412aa2d50f664b47059": {
      "model_module": "@jupyter-widgets/base",
      "model_module_version": "2.0.0",
      "model_name": "LayoutModel",
      "state": {}
     },
     "2c4373dbd83a491d874981d5d66f7bee": {
      "model_module": "@jupyter-widgets/controls",
      "model_module_version": "2.0.0",
      "model_name": "LabelStyleModel",
      "state": {
       "description_width": "",
       "font_family": null,
       "font_size": null,
       "font_style": null,
       "font_variant": null,
       "font_weight": null,
       "text_color": null,
       "text_decoration": null
      }
     },
     "2c91e82929e740eb9087c0ca4db53c64": {
      "model_module": "@jupyter-widgets/controls",
      "model_module_version": "2.0.0",
      "model_name": "LabelStyleModel",
      "state": {
       "description_width": "",
       "font_family": null,
       "font_size": null,
       "font_style": null,
       "font_variant": null,
       "font_weight": null,
       "text_color": null,
       "text_decoration": null
      }
     },
     "2cbcda775ad3446e9d37be9eb4c27eb1": {
      "model_module": "@jupyter-widgets/base",
      "model_module_version": "2.0.0",
      "model_name": "LayoutModel",
      "state": {}
     },
     "2d1e408ac70a46eea1103064c2360277": {
      "model_module": "@jupyter-widgets/controls",
      "model_module_version": "2.0.0",
      "model_name": "LabelStyleModel",
      "state": {
       "description_width": "",
       "font_family": null,
       "font_size": null,
       "font_style": null,
       "font_variant": null,
       "font_weight": null,
       "text_color": null,
       "text_decoration": null
      }
     },
     "2d25376b9a2c43eebd22901fc1ebd206": {
      "model_module": "@jupyter-widgets/controls",
      "model_module_version": "2.0.0",
      "model_name": "LabelModel",
      "state": {
       "layout": "IPY_MODEL_035e5b4440af43278b709f5570142026",
       "style": "IPY_MODEL_2d1e408ac70a46eea1103064c2360277",
       "value": "0 / 15092"
      }
     },
     "2d2bed3344af40f286614c62d768f72c": {
      "model_module": "@jupyter-widgets/controls",
      "model_module_version": "2.0.0",
      "model_name": "ProgressStyleModel",
      "state": {
       "description_width": ""
      }
     },
     "2dd0a8652dbb411082ffd4267debc76d": {
      "model_module": "@jupyter-widgets/base",
      "model_module_version": "2.0.0",
      "model_name": "LayoutModel",
      "state": {}
     },
     "2e2897311f1441ddb1e3dae9ceb6b7df": {
      "model_module": "@jupyter-widgets/base",
      "model_module_version": "2.0.0",
      "model_name": "LayoutModel",
      "state": {}
     },
     "2e6b77f6286543a78685875e11b5a6c1": {
      "model_module": "@jupyter-widgets/base",
      "model_module_version": "2.0.0",
      "model_name": "LayoutModel",
      "state": {}
     },
     "2ece6450ccb54227a8c6ed8df39e5ff7": {
      "model_module": "@jupyter-widgets/base",
      "model_module_version": "2.0.0",
      "model_name": "LayoutModel",
      "state": {}
     },
     "2fd1fe906bbf4e2aa1d6c403314921f3": {
      "model_module": "@jupyter-widgets/controls",
      "model_module_version": "2.0.0",
      "model_name": "IntProgressModel",
      "state": {
       "bar_style": "danger",
       "description": "0.00%",
       "layout": "IPY_MODEL_f5b533fb65fa4aaf91c4f76ee451162a",
       "max": 15092,
       "style": "IPY_MODEL_30590c3bfd05429797b6ddf2ca8e72af"
      }
     },
     "30590c3bfd05429797b6ddf2ca8e72af": {
      "model_module": "@jupyter-widgets/controls",
      "model_module_version": "2.0.0",
      "model_name": "ProgressStyleModel",
      "state": {
       "description_width": ""
      }
     },
     "305c15c4e1c74bf3a5347896bec16e3e": {
      "model_module": "@jupyter-widgets/base",
      "model_module_version": "2.0.0",
      "model_name": "LayoutModel",
      "state": {}
     },
     "320dd1b6647e486e9ee28698faa86b01": {
      "model_module": "@jupyter-widgets/controls",
      "model_module_version": "2.0.0",
      "model_name": "IntProgressModel",
      "state": {
       "bar_style": "danger",
       "description": "0.00%",
       "layout": "IPY_MODEL_67cfcc377ad84054b7f4b6cba721fae8",
       "max": 15093,
       "style": "IPY_MODEL_498513e8fa41452a9f0818ca870c5176"
      }
     },
     "32323cd4cda542a7b69bff869a08668d": {
      "model_module": "@jupyter-widgets/controls",
      "model_module_version": "2.0.0",
      "model_name": "LabelStyleModel",
      "state": {
       "description_width": "",
       "font_family": null,
       "font_size": null,
       "font_style": null,
       "font_variant": null,
       "font_weight": null,
       "text_color": null,
       "text_decoration": null
      }
     },
     "32b17bb76f834ddba84560d88b44517e": {
      "model_module": "@jupyter-widgets/base",
      "model_module_version": "2.0.0",
      "model_name": "LayoutModel",
      "state": {}
     },
     "33409e9410334f8aa00fde09d9e1e29a": {
      "model_module": "@jupyter-widgets/controls",
      "model_module_version": "2.0.0",
      "model_name": "HBoxModel",
      "state": {
       "children": [
        "IPY_MODEL_f36c469fa14b4d1e8bf699983bf2dfe5",
        "IPY_MODEL_cbc4c6157c6c4156b8821babf61a4ed8"
       ],
       "layout": "IPY_MODEL_4d8c7a2c3ccb47e4bc065b8f821333ce"
      }
     },
     "3531ba8746ae4dbdac8edfe8153c6de7": {
      "model_module": "@jupyter-widgets/controls",
      "model_module_version": "2.0.0",
      "model_name": "VBoxModel",
      "state": {
       "children": [
        "IPY_MODEL_fd4e23d0d8aa495fb32bcd37aeff4dd6",
        "IPY_MODEL_acf6d7b5110e497497d1fada900d71d8",
        "IPY_MODEL_5f5464d880274a14a74e659f81f9d672",
        "IPY_MODEL_5adb4e96dd0240acbb6a75261d1e5184",
        "IPY_MODEL_2bb403facf9c4f1989bb1911c37cb824",
        "IPY_MODEL_6c51043ba3f541329c8c413d5263dec4",
        "IPY_MODEL_2b270e074af640e4b4751e7fac825999",
        "IPY_MODEL_df38a1642553433f951ea0b152a0bfc8",
        "IPY_MODEL_3c9739223f334800b23abc2a405e1973",
        "IPY_MODEL_1021d6e0d419486d9d962a22e2fa0b83",
        "IPY_MODEL_9724fa1c8fe14def8db86c2a77733883",
        "IPY_MODEL_5f50d3c597c647c0bdb081980056ccd5",
        "IPY_MODEL_aaa88fd58ec2448d9f7e3008d80e836e",
        "IPY_MODEL_adcf29b9e47b48b5b412b0fc62ac6ac5",
        "IPY_MODEL_ba4d94da8a7d40f6ac53f0e142342e3a",
        "IPY_MODEL_d5102bb2cca44744a112699c31095958",
        "IPY_MODEL_8005a5607c264493bbef7c9d711a7178",
        "IPY_MODEL_9502b9f1d8604f2ea8a99e2d66893be2",
        "IPY_MODEL_c039c4741263433294838ec8663699d3",
        "IPY_MODEL_a94bd50fb18240c7aea527c496291b2b",
        "IPY_MODEL_81c0620edcc5464589084edc0fb088c3",
        "IPY_MODEL_87e5689cf25c4132846a75c141997343",
        "IPY_MODEL_4514f75bf5e74bde91c1579a86a3158e",
        "IPY_MODEL_a206ca1961ab4f3eae58f8099ab3d2b2",
        "IPY_MODEL_f71e92d4a09a411f88762828e4b0a1f6",
        "IPY_MODEL_33409e9410334f8aa00fde09d9e1e29a",
        "IPY_MODEL_07d4d03a599244c185b0986bf5476de9",
        "IPY_MODEL_6895412ab7554eb8bb9b627f4c370293",
        "IPY_MODEL_d0b063dc39fb4f2a8fc318735ab8dd54",
        "IPY_MODEL_c5f4a7ac13fe4098a74b1bb0464c6d67",
        "IPY_MODEL_6ac18ec877914901afb5e3423a82e49c",
        "IPY_MODEL_3acb54cf1b08476ba796cf007fa2b680"
       ],
       "layout": "IPY_MODEL_61a5cd4c485d40ec82f6f1c20c530fac"
      }
     },
     "36015a5399f747bbb42cbd9a504f05f7": {
      "model_module": "@jupyter-widgets/base",
      "model_module_version": "2.0.0",
      "model_name": "LayoutModel",
      "state": {}
     },
     "37ac0dd8ce15431683ea32ad7e36e2c5": {
      "model_module": "@jupyter-widgets/base",
      "model_module_version": "2.0.0",
      "model_name": "LayoutModel",
      "state": {}
     },
     "37e40f38b4314e1f971e4defc0c657da": {
      "model_module": "@jupyter-widgets/controls",
      "model_module_version": "2.0.0",
      "model_name": "LabelStyleModel",
      "state": {
       "description_width": "",
       "font_family": null,
       "font_size": null,
       "font_style": null,
       "font_variant": null,
       "font_weight": null,
       "text_color": null,
       "text_decoration": null
      }
     },
     "38fe836b080740c0bff31eee0e44ceba": {
      "model_module": "@jupyter-widgets/controls",
      "model_module_version": "2.0.0",
      "model_name": "IntProgressModel",
      "state": {
       "bar_style": "success",
       "description": "100.00%",
       "layout": "IPY_MODEL_2ece6450ccb54227a8c6ed8df39e5ff7",
       "max": 15092,
       "style": "IPY_MODEL_a6d30a666d3c4898abf965288c6de06e",
       "value": 15092
      }
     },
     "399c0fc2c18547ed85bebb59ea193b7b": {
      "model_module": "@jupyter-widgets/base",
      "model_module_version": "2.0.0",
      "model_name": "LayoutModel",
      "state": {}
     },
     "39abd17f4ee34aefba6c73a471515eee": {
      "model_module": "@jupyter-widgets/controls",
      "model_module_version": "2.0.0",
      "model_name": "LabelStyleModel",
      "state": {
       "description_width": "",
       "font_family": null,
       "font_size": null,
       "font_style": null,
       "font_variant": null,
       "font_weight": null,
       "text_color": null,
       "text_decoration": null
      }
     },
     "3acb54cf1b08476ba796cf007fa2b680": {
      "model_module": "@jupyter-widgets/controls",
      "model_module_version": "2.0.0",
      "model_name": "HBoxModel",
      "state": {
       "children": [
        "IPY_MODEL_00f31b5fbff84f169ead9f9b8945e682",
        "IPY_MODEL_cc4117f175c14379a3c0da188bb41537"
       ],
       "layout": "IPY_MODEL_140026f73d294ff2bcdb28eacc41ea38"
      }
     },
     "3b1bcb39b9ea4fdaad9502c6dd066b15": {
      "model_module": "@jupyter-widgets/controls",
      "model_module_version": "2.0.0",
      "model_name": "HBoxModel",
      "state": {
       "children": [
        "IPY_MODEL_b36121cbaac54b589be799e387909939",
        "IPY_MODEL_8eebc402f5e84bc7bbbf9af07e68e935"
       ],
       "layout": "IPY_MODEL_af6c095657e441498cd2e571e696fa54"
      }
     },
     "3b5343462e06408ea101fc1b364044b0": {
      "model_module": "@jupyter-widgets/base",
      "model_module_version": "2.0.0",
      "model_name": "LayoutModel",
      "state": {}
     },
     "3be1dbba1ac540359f1cdec830d4c15e": {
      "model_module": "@jupyter-widgets/controls",
      "model_module_version": "2.0.0",
      "model_name": "HBoxModel",
      "state": {
       "children": [
        "IPY_MODEL_5ab6a2c919f849a8956c290f28012513",
        "IPY_MODEL_ead99d5267c644d487a035667152bddf"
       ],
       "layout": "IPY_MODEL_ab3dd0629453436aae2bc7c6925ba35d"
      }
     },
     "3c549589f7c3413987f0c4948a0a91c8": {
      "model_module": "@jupyter-widgets/controls",
      "model_module_version": "2.0.0",
      "model_name": "LabelModel",
      "state": {
       "layout": "IPY_MODEL_22eea01829a7429282b480f5a4cb1487",
       "style": "IPY_MODEL_def60fa62ea74b6fa492782a793540ce",
       "value": "0 / 15093"
      }
     },
     "3c6c5d0948f3489e8c407b4ec67fc0af": {
      "model_module": "@jupyter-widgets/base",
      "model_module_version": "2.0.0",
      "model_name": "LayoutModel",
      "state": {}
     },
     "3c9739223f334800b23abc2a405e1973": {
      "model_module": "@jupyter-widgets/controls",
      "model_module_version": "2.0.0",
      "model_name": "HBoxModel",
      "state": {
       "children": [
        "IPY_MODEL_d0b4b2ca79004da887ee5ee0c6392e43",
        "IPY_MODEL_0972b56294b14ede92e5f2bf4d00c050"
       ],
       "layout": "IPY_MODEL_535071f783b84827a939ca148b1112de"
      }
     },
     "3d5beb462ac442c884fc45f598e76a4c": {
      "model_module": "@jupyter-widgets/base",
      "model_module_version": "2.0.0",
      "model_name": "LayoutModel",
      "state": {}
     },
     "3e6908ca9e694b728df3f7e649807411": {
      "model_module": "@jupyter-widgets/base",
      "model_module_version": "2.0.0",
      "model_name": "LayoutModel",
      "state": {}
     },
     "3e791f3cc36a40c7a28d366839707bf6": {
      "model_module": "@jupyter-widgets/controls",
      "model_module_version": "2.0.0",
      "model_name": "LabelModel",
      "state": {
       "layout": "IPY_MODEL_d58c977944a64ed5aa913538a80bde04",
       "style": "IPY_MODEL_85dd0838f09040a784a3abdfe9ae9a5c",
       "value": "15093 / 15093"
      }
     },
     "3eb5bef4d3f5451e9d56bb67a21f6eee": {
      "model_module": "@jupyter-widgets/controls",
      "model_module_version": "2.0.0",
      "model_name": "LabelModel",
      "state": {
       "layout": "IPY_MODEL_6e987067f278415f9626e9cd50e3fcf6",
       "style": "IPY_MODEL_1e762759beea41b4b31980783f39256a",
       "value": "15093 / 15093"
      }
     },
     "3f79b43aa5914399892ce50f89c3ccb4": {
      "model_module": "@jupyter-widgets/base",
      "model_module_version": "2.0.0",
      "model_name": "LayoutModel",
      "state": {}
     },
     "4031b74ee4ba4c31a3b06c73c9828ec1": {
      "model_module": "@jupyter-widgets/controls",
      "model_module_version": "2.0.0",
      "model_name": "HBoxModel",
      "state": {
       "children": [
        "IPY_MODEL_8313630403964a9fb210ded3696149e5",
        "IPY_MODEL_170e2c8e8e4a4639ab76c0c41f1ca83f"
       ],
       "layout": "IPY_MODEL_c1c5698e3cab4536aa4375c46bb2b53d"
      }
     },
     "4074ba9c0cdc42beac50a53b9ef87d15": {
      "model_module": "@jupyter-widgets/base",
      "model_module_version": "2.0.0",
      "model_name": "LayoutModel",
      "state": {}
     },
     "408e7b2e1d7448968c67e2d5a44eb04e": {
      "model_module": "@jupyter-widgets/controls",
      "model_module_version": "2.0.0",
      "model_name": "ProgressStyleModel",
      "state": {
       "description_width": ""
      }
     },
     "412816c628d04e0c9a8e75e701703c04": {
      "model_module": "@jupyter-widgets/controls",
      "model_module_version": "2.0.0",
      "model_name": "ProgressStyleModel",
      "state": {
       "description_width": ""
      }
     },
     "4163504e17f94447a8d06d4eaa419200": {
      "model_module": "@jupyter-widgets/controls",
      "model_module_version": "2.0.0",
      "model_name": "IntProgressModel",
      "state": {
       "bar_style": "success",
       "description": "100.00%",
       "layout": "IPY_MODEL_94f2549df3a14120a1fab8ee4d73ac56",
       "max": 15093,
       "style": "IPY_MODEL_5facc220e8624a74a42c9dafe03e4416",
       "value": 15093
      }
     },
     "420bc21e75fb43c58ca1819b0ae785ad": {
      "model_module": "@jupyter-widgets/base",
      "model_module_version": "2.0.0",
      "model_name": "LayoutModel",
      "state": {}
     },
     "4234ad13f8e04d759c604b84cc4eaa75": {
      "model_module": "@jupyter-widgets/base",
      "model_module_version": "2.0.0",
      "model_name": "LayoutModel",
      "state": {}
     },
     "43063e68dd704f91be087543fccf2c7d": {
      "model_module": "@jupyter-widgets/controls",
      "model_module_version": "2.0.0",
      "model_name": "ProgressStyleModel",
      "state": {
       "description_width": ""
      }
     },
     "434cb19bf3594a80a19a7fa5b99fbc5f": {
      "model_module": "@jupyter-widgets/base",
      "model_module_version": "2.0.0",
      "model_name": "LayoutModel",
      "state": {}
     },
     "43bb7ee2a50e454784ca36064f4b483d": {
      "model_module": "@jupyter-widgets/base",
      "model_module_version": "2.0.0",
      "model_name": "LayoutModel",
      "state": {}
     },
     "444461bdd39c42109f631b88449810a6": {
      "model_module": "@jupyter-widgets/controls",
      "model_module_version": "2.0.0",
      "model_name": "LabelStyleModel",
      "state": {
       "description_width": "",
       "font_family": null,
       "font_size": null,
       "font_style": null,
       "font_variant": null,
       "font_weight": null,
       "text_color": null,
       "text_decoration": null
      }
     },
     "4451233232b04a10bc039e48cf59abae": {
      "model_module": "@jupyter-widgets/controls",
      "model_module_version": "2.0.0",
      "model_name": "IntProgressModel",
      "state": {
       "bar_style": "danger",
       "description": "0.00%",
       "layout": "IPY_MODEL_c3d21f99246d4e5cb01253b7d5363eb6",
       "max": 15093,
       "style": "IPY_MODEL_a0fc108cb4c8422281da4c793b3d11ce"
      }
     },
     "4514f75bf5e74bde91c1579a86a3158e": {
      "model_module": "@jupyter-widgets/controls",
      "model_module_version": "2.0.0",
      "model_name": "HBoxModel",
      "state": {
       "children": [
        "IPY_MODEL_1414890d77c54915b22e1ff0c2b49a1e",
        "IPY_MODEL_e77962603684475280727679589eb4d9"
       ],
       "layout": "IPY_MODEL_455f26ed9beb4357a36b378b90f27e82"
      }
     },
     "455f26ed9beb4357a36b378b90f27e82": {
      "model_module": "@jupyter-widgets/base",
      "model_module_version": "2.0.0",
      "model_name": "LayoutModel",
      "state": {}
     },
     "476c968892f843f9a1e2549a9634f66e": {
      "model_module": "@jupyter-widgets/controls",
      "model_module_version": "2.0.0",
      "model_name": "ProgressStyleModel",
      "state": {
       "description_width": ""
      }
     },
     "478d9f1c242c4df2b49cd0b9a076c925": {
      "model_module": "@jupyter-widgets/base",
      "model_module_version": "2.0.0",
      "model_name": "LayoutModel",
      "state": {}
     },
     "48041dc396a64ef2be895dfab253bc20": {
      "model_module": "@jupyter-widgets/base",
      "model_module_version": "2.0.0",
      "model_name": "LayoutModel",
      "state": {}
     },
     "482c8a0447e74161a33dba6b682c5093": {
      "model_module": "@jupyter-widgets/controls",
      "model_module_version": "2.0.0",
      "model_name": "ProgressStyleModel",
      "state": {
       "description_width": ""
      }
     },
     "485082d9893d49668c4f015dffab3dad": {
      "model_module": "@jupyter-widgets/controls",
      "model_module_version": "2.0.0",
      "model_name": "IntProgressModel",
      "state": {
       "bar_style": "success",
       "description": "100.00%",
       "layout": "IPY_MODEL_dd65becdd7e14fe5b1a704c185adb3ad",
       "max": 15093,
       "style": "IPY_MODEL_43063e68dd704f91be087543fccf2c7d",
       "value": 15093
      }
     },
     "4873e19ee6d84ca38d7f96425eb672a2": {
      "model_module": "@jupyter-widgets/controls",
      "model_module_version": "2.0.0",
      "model_name": "ProgressStyleModel",
      "state": {
       "description_width": ""
      }
     },
     "494e446b717544a0a88579130995598e": {
      "model_module": "@jupyter-widgets/base",
      "model_module_version": "2.0.0",
      "model_name": "LayoutModel",
      "state": {}
     },
     "498513e8fa41452a9f0818ca870c5176": {
      "model_module": "@jupyter-widgets/controls",
      "model_module_version": "2.0.0",
      "model_name": "ProgressStyleModel",
      "state": {
       "description_width": ""
      }
     },
     "4b679214708046c5bbe654122d754400": {
      "model_module": "@jupyter-widgets/controls",
      "model_module_version": "2.0.0",
      "model_name": "HBoxModel",
      "state": {
       "children": [
        "IPY_MODEL_2fd1fe906bbf4e2aa1d6c403314921f3",
        "IPY_MODEL_b247faf0a5874f18b7fc70da5860f364"
       ],
       "layout": "IPY_MODEL_7fe8ef5259ed4a97bac3fa9734634366"
      }
     },
     "4b7ecbedbe35445eb040b5d1270dffe1": {
      "model_module": "@jupyter-widgets/base",
      "model_module_version": "2.0.0",
      "model_name": "LayoutModel",
      "state": {}
     },
     "4d357eefc9e34126bfcce5b2edfe0d87": {
      "model_module": "@jupyter-widgets/base",
      "model_module_version": "2.0.0",
      "model_name": "LayoutModel",
      "state": {}
     },
     "4d8c7a2c3ccb47e4bc065b8f821333ce": {
      "model_module": "@jupyter-widgets/base",
      "model_module_version": "2.0.0",
      "model_name": "LayoutModel",
      "state": {}
     },
     "4df761d04cd64dfb9dbf9bf2d4320aae": {
      "model_module": "@jupyter-widgets/controls",
      "model_module_version": "2.0.0",
      "model_name": "IntProgressModel",
      "state": {
       "bar_style": "danger",
       "description": "0.00%",
       "layout": "IPY_MODEL_257620725c7241a69900a93b696c4367",
       "max": 15092,
       "style": "IPY_MODEL_bc63e3b3e99e4eeebb01aecce0c3e427"
      }
     },
     "4e464b649ec24acaae536d9ef7876a68": {
      "model_module": "@jupyter-widgets/base",
      "model_module_version": "2.0.0",
      "model_name": "LayoutModel",
      "state": {}
     },
     "4f032da96558469eb542a498f603108b": {
      "model_module": "@jupyter-widgets/controls",
      "model_module_version": "2.0.0",
      "model_name": "HBoxModel",
      "state": {
       "children": [
        "IPY_MODEL_93c96b7110f24eee814c809a20f06523",
        "IPY_MODEL_c1b93b7f11b54d578d33c675e46378a0"
       ],
       "layout": "IPY_MODEL_4234ad13f8e04d759c604b84cc4eaa75"
      }
     },
     "502ea46c458a4abebc3be06cb66b00db": {
      "model_module": "@jupyter-widgets/base",
      "model_module_version": "2.0.0",
      "model_name": "LayoutModel",
      "state": {}
     },
     "521e1c29ab1f4404b323d0273d16835f": {
      "model_module": "@jupyter-widgets/controls",
      "model_module_version": "2.0.0",
      "model_name": "LabelStyleModel",
      "state": {
       "description_width": "",
       "font_family": null,
       "font_size": null,
       "font_style": null,
       "font_variant": null,
       "font_weight": null,
       "text_color": null,
       "text_decoration": null
      }
     },
     "5343407600c74cccb6ebeddd8a64c310": {
      "model_module": "@jupyter-widgets/controls",
      "model_module_version": "2.0.0",
      "model_name": "ProgressStyleModel",
      "state": {
       "description_width": ""
      }
     },
     "535071f783b84827a939ca148b1112de": {
      "model_module": "@jupyter-widgets/base",
      "model_module_version": "2.0.0",
      "model_name": "LayoutModel",
      "state": {}
     },
     "53cc1e2d806d4b60b027c3fd9fd23030": {
      "model_module": "@jupyter-widgets/base",
      "model_module_version": "2.0.0",
      "model_name": "LayoutModel",
      "state": {}
     },
     "54cfb1f4b1d24ad9a1df559fd54dbc3c": {
      "model_module": "@jupyter-widgets/base",
      "model_module_version": "2.0.0",
      "model_name": "LayoutModel",
      "state": {}
     },
     "553a55889e6d4f76a558118e740ab3fb": {
      "model_module": "@jupyter-widgets/controls",
      "model_module_version": "2.0.0",
      "model_name": "LabelStyleModel",
      "state": {
       "description_width": "",
       "font_family": null,
       "font_size": null,
       "font_style": null,
       "font_variant": null,
       "font_weight": null,
       "text_color": null,
       "text_decoration": null
      }
     },
     "5626eda61a2646b0834306281f972b3a": {
      "model_module": "@jupyter-widgets/base",
      "model_module_version": "2.0.0",
      "model_name": "LayoutModel",
      "state": {}
     },
     "587bf87ba6974f3a97bc4d0668ccf645": {
      "model_module": "@jupyter-widgets/controls",
      "model_module_version": "2.0.0",
      "model_name": "LabelStyleModel",
      "state": {
       "description_width": "",
       "font_family": null,
       "font_size": null,
       "font_style": null,
       "font_variant": null,
       "font_weight": null,
       "text_color": null,
       "text_decoration": null
      }
     },
     "58a132dc1d864a57bdb79428e86a35a7": {
      "model_module": "@jupyter-widgets/base",
      "model_module_version": "2.0.0",
      "model_name": "LayoutModel",
      "state": {}
     },
     "59a950d255af4e2daa1b4dfc3e39cb93": {
      "model_module": "@jupyter-widgets/base",
      "model_module_version": "2.0.0",
      "model_name": "LayoutModel",
      "state": {}
     },
     "5a5a82698fea4976bcf35018e191c26f": {
      "model_module": "@jupyter-widgets/controls",
      "model_module_version": "2.0.0",
      "model_name": "HTMLStyleModel",
      "state": {
       "description_width": "",
       "font_size": null,
       "text_color": null
      }
     },
     "5a86c1da77d94ecb8186586417a6bb4f": {
      "model_module": "@jupyter-widgets/controls",
      "model_module_version": "2.0.0",
      "model_name": "IntProgressModel",
      "state": {
       "bar_style": "danger",
       "description": "0.00%",
       "layout": "IPY_MODEL_5626eda61a2646b0834306281f972b3a",
       "max": 15092,
       "style": "IPY_MODEL_15a32f212ac54775b3528882e65dcb89"
      }
     },
     "5ab6a2c919f849a8956c290f28012513": {
      "model_module": "@jupyter-widgets/controls",
      "model_module_version": "2.0.0",
      "model_name": "IntProgressModel",
      "state": {
       "bar_style": "danger",
       "description": "0.00%",
       "layout": "IPY_MODEL_627c9d9d691c426bac7178b5271a2ad0",
       "max": 15093,
       "style": "IPY_MODEL_da2efcc65f664e94b6f3c241cc220130"
      }
     },
     "5adb4e96dd0240acbb6a75261d1e5184": {
      "model_module": "@jupyter-widgets/controls",
      "model_module_version": "2.0.0",
      "model_name": "HBoxModel",
      "state": {
       "children": [
        "IPY_MODEL_1b9d6d8ded544e0099167f31570d976f",
        "IPY_MODEL_f715e1d200f14169aef6c57bd63e772f"
       ],
       "layout": "IPY_MODEL_502ea46c458a4abebc3be06cb66b00db"
      }
     },
     "5b18c77662b848e1a63872006dfa03bc": {
      "model_module": "@jupyter-widgets/controls",
      "model_module_version": "2.0.0",
      "model_name": "LabelStyleModel",
      "state": {
       "description_width": "",
       "font_family": null,
       "font_size": null,
       "font_style": null,
       "font_variant": null,
       "font_weight": null,
       "text_color": null,
       "text_decoration": null
      }
     },
     "5c30f253f87f4eff9cdea706ae4128f3": {
      "model_module": "@jupyter-widgets/controls",
      "model_module_version": "2.0.0",
      "model_name": "VBoxModel",
      "state": {
       "children": [
        "IPY_MODEL_f9aeb600d31d481a92aeae7b7ad7279d",
        "IPY_MODEL_71a4f7d186704a818d76bed1190db3d4",
        "IPY_MODEL_0ff61a8f7f4d4276b16f1ec9c73ccb78",
        "IPY_MODEL_0ad5c6d6ad47445b916cce127d595637",
        "IPY_MODEL_4031b74ee4ba4c31a3b06c73c9828ec1",
        "IPY_MODEL_d269ef0bc1b74200a2ad5c2f901635ee",
        "IPY_MODEL_2011dcf3130e47f6908f54b7b36b6666",
        "IPY_MODEL_e2740fd7d6df4ce094fc53d410dde72a",
        "IPY_MODEL_cc7773ffd47d430c9e1dc52647350e62",
        "IPY_MODEL_63dfb41d2bf340019a140072953011a6",
        "IPY_MODEL_8dd6751a58b54a68a5fd92aafd264203",
        "IPY_MODEL_b33f3fd2042b4f8c9009773083374ab7",
        "IPY_MODEL_4f032da96558469eb542a498f603108b",
        "IPY_MODEL_b32c9fc0aead464a91de3c11a421102b",
        "IPY_MODEL_d5288d2d07c343c3842b8bdaad05438a",
        "IPY_MODEL_3be1dbba1ac540359f1cdec830d4c15e",
        "IPY_MODEL_8c6c9f5e3505476ebf56e969fffdadcb",
        "IPY_MODEL_600bd79611a0464a8a286f4bc17538cd",
        "IPY_MODEL_26386535c00c46cab40e79ba7162e5fe",
        "IPY_MODEL_9a8bea0df064406983fc1237aad8abc9",
        "IPY_MODEL_b25d03ada93142aa80b1967dab1283c9",
        "IPY_MODEL_840002660da846ccbe285a128d776bae",
        "IPY_MODEL_dc00e55af47544cda7066409647b2727",
        "IPY_MODEL_c296512088164349a2be35a4fa842620",
        "IPY_MODEL_4b679214708046c5bbe654122d754400",
        "IPY_MODEL_8ace724044284f16b9c5c00bcf1dbaf6",
        "IPY_MODEL_eee52dd38e344c49bf4bfcb1bb63271c",
        "IPY_MODEL_f8a9a32a16724bc38ec0af1570878c75",
        "IPY_MODEL_c226080b662044da86c253a26f091b1e",
        "IPY_MODEL_3b1bcb39b9ea4fdaad9502c6dd066b15",
        "IPY_MODEL_20e5cd7eb39b4693ac91b16d50ab4b29",
        "IPY_MODEL_d2e208ec2a1b4e67ba34604c3d66b394"
       ],
       "layout": "IPY_MODEL_641f42e570b348be9be752285109dae8"
      }
     },
     "5c6210dc20d84bd78534d81e32144580": {
      "model_module": "@jupyter-widgets/controls",
      "model_module_version": "2.0.0",
      "model_name": "LabelStyleModel",
      "state": {
       "description_width": "",
       "font_family": null,
       "font_size": null,
       "font_style": null,
       "font_variant": null,
       "font_weight": null,
       "text_color": null,
       "text_decoration": null
      }
     },
     "5d538f5410c44c7bb14176d41928c065": {
      "model_module": "@jupyter-widgets/controls",
      "model_module_version": "2.0.0",
      "model_name": "IntProgressModel",
      "state": {
       "bar_style": "danger",
       "description": "0.00%",
       "layout": "IPY_MODEL_822d6c0a707b4bc2a1c4329778297f36",
       "max": 15092,
       "style": "IPY_MODEL_c38341b7b4a94c0482322e7e45dc32c7"
      }
     },
     "5eefc5ed646341d0b3b779aad0fe94b1": {
      "model_module": "@jupyter-widgets/controls",
      "model_module_version": "2.0.0",
      "model_name": "ProgressStyleModel",
      "state": {
       "description_width": ""
      }
     },
     "5f0332d8b3a14565a59c16a784dc2794": {
      "model_module": "@jupyter-widgets/base",
      "model_module_version": "2.0.0",
      "model_name": "LayoutModel",
      "state": {}
     },
     "5f49f4d8180f4881aae91b0d070c5e77": {
      "model_module": "@jupyter-widgets/base",
      "model_module_version": "2.0.0",
      "model_name": "LayoutModel",
      "state": {}
     },
     "5f50d3c597c647c0bdb081980056ccd5": {
      "model_module": "@jupyter-widgets/controls",
      "model_module_version": "2.0.0",
      "model_name": "HBoxModel",
      "state": {
       "children": [
        "IPY_MODEL_485082d9893d49668c4f015dffab3dad",
        "IPY_MODEL_e90ba6a34f7b425f8f4801ca95050cf3"
       ],
       "layout": "IPY_MODEL_ed781e25f86e400080ab1ee83f1b9caa"
      }
     },
     "5f5464d880274a14a74e659f81f9d672": {
      "model_module": "@jupyter-widgets/controls",
      "model_module_version": "2.0.0",
      "model_name": "HBoxModel",
      "state": {
       "children": [
        "IPY_MODEL_788d2db106c54d3880625f224b28a09d",
        "IPY_MODEL_b08dfd724e5b4e67a84bab306d8df025"
       ],
       "layout": "IPY_MODEL_63e29b1dbfd344a4ae1f226bb4533b05"
      }
     },
     "5facc220e8624a74a42c9dafe03e4416": {
      "model_module": "@jupyter-widgets/controls",
      "model_module_version": "2.0.0",
      "model_name": "ProgressStyleModel",
      "state": {
       "description_width": ""
      }
     },
     "600bd79611a0464a8a286f4bc17538cd": {
      "model_module": "@jupyter-widgets/controls",
      "model_module_version": "2.0.0",
      "model_name": "HBoxModel",
      "state": {
       "children": [
        "IPY_MODEL_16a141c9d0194b28ba8b7be2931aea61",
        "IPY_MODEL_3c549589f7c3413987f0c4948a0a91c8"
       ],
       "layout": "IPY_MODEL_59a950d255af4e2daa1b4dfc3e39cb93"
      }
     },
     "601b39c2b3e444808243bc44149b3821": {
      "model_module": "@jupyter-widgets/controls",
      "model_module_version": "2.0.0",
      "model_name": "LabelModel",
      "state": {
       "layout": "IPY_MODEL_54cfb1f4b1d24ad9a1df559fd54dbc3c",
       "style": "IPY_MODEL_82ac7705974f4d4d9f461f9d39ff6a05",
       "value": "0 / 15092"
      }
     },
     "60b43244dc36424898910f034d4ae22d": {
      "model_module": "@jupyter-widgets/base",
      "model_module_version": "2.0.0",
      "model_name": "LayoutModel",
      "state": {}
     },
     "61a5cd4c485d40ec82f6f1c20c530fac": {
      "model_module": "@jupyter-widgets/base",
      "model_module_version": "2.0.0",
      "model_name": "LayoutModel",
      "state": {}
     },
     "61f62e00b5aa486ba5ecfc4afbc22759": {
      "model_module": "@jupyter-widgets/base",
      "model_module_version": "2.0.0",
      "model_name": "LayoutModel",
      "state": {}
     },
     "6257d479218c494eaf1c50201ab01f93": {
      "model_module": "@jupyter-widgets/base",
      "model_module_version": "2.0.0",
      "model_name": "LayoutModel",
      "state": {}
     },
     "62594a07aa164e45be795254f8dd5cab": {
      "model_module": "@jupyter-widgets/controls",
      "model_module_version": "2.0.0",
      "model_name": "FloatProgressModel",
      "state": {
       "layout": "IPY_MODEL_104e137f9ce24ad5b1c729b98e3b4e78",
       "max": 50,
       "style": "IPY_MODEL_412816c628d04e0c9a8e75e701703c04",
       "value": 1
      }
     },
     "627695e19c554f409182aeee79d48891": {
      "model_module": "@jupyter-widgets/base",
      "model_module_version": "2.0.0",
      "model_name": "LayoutModel",
      "state": {}
     },
     "627c9d9d691c426bac7178b5271a2ad0": {
      "model_module": "@jupyter-widgets/base",
      "model_module_version": "2.0.0",
      "model_name": "LayoutModel",
      "state": {}
     },
     "6305109798154f3e95b4b2250dda02c7": {
      "model_module": "@jupyter-widgets/base",
      "model_module_version": "2.0.0",
      "model_name": "LayoutModel",
      "state": {}
     },
     "63dfb41d2bf340019a140072953011a6": {
      "model_module": "@jupyter-widgets/controls",
      "model_module_version": "2.0.0",
      "model_name": "HBoxModel",
      "state": {
       "children": [
        "IPY_MODEL_9f5dda419c4c433a9cb4d99ff248c191",
        "IPY_MODEL_78c659fa034647dbb97b67012e17b219"
       ],
       "layout": "IPY_MODEL_88792eae564646a5a3e99db2f5e8c630"
      }
     },
     "63e29b1dbfd344a4ae1f226bb4533b05": {
      "model_module": "@jupyter-widgets/base",
      "model_module_version": "2.0.0",
      "model_name": "LayoutModel",
      "state": {}
     },
     "641f42e570b348be9be752285109dae8": {
      "model_module": "@jupyter-widgets/base",
      "model_module_version": "2.0.0",
      "model_name": "LayoutModel",
      "state": {}
     },
     "651d5a597ca548d69a2b520693662be9": {
      "model_module": "@jupyter-widgets/controls",
      "model_module_version": "2.0.0",
      "model_name": "LabelModel",
      "state": {
       "layout": "IPY_MODEL_135a2e8dad2345adb98d1bf6bc3d4333",
       "style": "IPY_MODEL_2c4373dbd83a491d874981d5d66f7bee",
       "value": "15092 / 15092"
      }
     },
     "6624892b50914ebbb91878c8e682be45": {
      "model_module": "@jupyter-widgets/controls",
      "model_module_version": "2.0.0",
      "model_name": "LabelStyleModel",
      "state": {
       "description_width": "",
       "font_family": null,
       "font_size": null,
       "font_style": null,
       "font_variant": null,
       "font_weight": null,
       "text_color": null,
       "text_decoration": null
      }
     },
     "6666be30d87148db909d4d41c037ee13": {
      "model_module": "@jupyter-widgets/controls",
      "model_module_version": "2.0.0",
      "model_name": "IntProgressModel",
      "state": {
       "bar_style": "danger",
       "description": "0.00%",
       "layout": "IPY_MODEL_1cd5a4eff31c4978a828748dd45a6cf3",
       "max": 15092,
       "style": "IPY_MODEL_c07b9f18e83e4058a6fe19ab7793df52"
      }
     },
     "675673dccf724a598d44fbc50a4848cc": {
      "model_module": "@jupyter-widgets/base",
      "model_module_version": "2.0.0",
      "model_name": "LayoutModel",
      "state": {}
     },
     "67cfcc377ad84054b7f4b6cba721fae8": {
      "model_module": "@jupyter-widgets/base",
      "model_module_version": "2.0.0",
      "model_name": "LayoutModel",
      "state": {}
     },
     "67fa255bd7624b37a675a64edc2dc920": {
      "model_module": "@jupyter-widgets/base",
      "model_module_version": "2.0.0",
      "model_name": "LayoutModel",
      "state": {}
     },
     "6895412ab7554eb8bb9b627f4c370293": {
      "model_module": "@jupyter-widgets/controls",
      "model_module_version": "2.0.0",
      "model_name": "HBoxModel",
      "state": {
       "children": [
        "IPY_MODEL_f2a09f8108f54f078c5078a02e3170ca",
        "IPY_MODEL_651d5a597ca548d69a2b520693662be9"
       ],
       "layout": "IPY_MODEL_d78f1602a0cd4454a7f227be1b136b60"
      }
     },
     "68e2439300744a77988cbd001b86ccb8": {
      "model_module": "@jupyter-widgets/controls",
      "model_module_version": "2.0.0",
      "model_name": "LabelModel",
      "state": {
       "layout": "IPY_MODEL_37ac0dd8ce15431683ea32ad7e36e2c5",
       "style": "IPY_MODEL_f460701ee2084f1797d1b2068748d72c",
       "value": "15092 / 15092"
      }
     },
     "68ef9b8759aa4673b45878f069ff7243": {
      "model_module": "@jupyter-widgets/controls",
      "model_module_version": "2.0.0",
      "model_name": "LabelStyleModel",
      "state": {
       "description_width": "",
       "font_family": null,
       "font_size": null,
       "font_style": null,
       "font_variant": null,
       "font_weight": null,
       "text_color": null,
       "text_decoration": null
      }
     },
     "69278e9c2f164240b0355f4e249542d8": {
      "model_module": "@jupyter-widgets/controls",
      "model_module_version": "2.0.0",
      "model_name": "LabelModel",
      "state": {
       "layout": "IPY_MODEL_caf74217e9c0443fa6901160e278415f",
       "style": "IPY_MODEL_c306ba80bcc146fa8863be026b7135fc",
       "value": "0 / 15093"
      }
     },
     "69392d74bfba452882d06fbb7f88f368": {
      "model_module": "@jupyter-widgets/base",
      "model_module_version": "2.0.0",
      "model_name": "LayoutModel",
      "state": {}
     },
     "698845d445c9413a92c24302a518f353": {
      "model_module": "@jupyter-widgets/controls",
      "model_module_version": "2.0.0",
      "model_name": "LabelStyleModel",
      "state": {
       "description_width": "",
       "font_family": null,
       "font_size": null,
       "font_style": null,
       "font_variant": null,
       "font_weight": null,
       "text_color": null,
       "text_decoration": null
      }
     },
     "69aba361e1d445c5987488f39ff86628": {
      "model_module": "@jupyter-widgets/controls",
      "model_module_version": "2.0.0",
      "model_name": "IntProgressModel",
      "state": {
       "bar_style": "danger",
       "description": "0.00%",
       "layout": "IPY_MODEL_ac7c5d43a1cf4ff087303c8277bfad66",
       "max": 15093,
       "style": "IPY_MODEL_8c0dc222192d422b812a8b1f22b3f24c"
      }
     },
     "69b29443de174d6b88648a0b2e3f9bac": {
      "model_module": "@jupyter-widgets/base",
      "model_module_version": "2.0.0",
      "model_name": "LayoutModel",
      "state": {}
     },
     "6a2a54f1ba694946900e17f46f256a27": {
      "model_module": "@jupyter-widgets/controls",
      "model_module_version": "2.0.0",
      "model_name": "IntProgressModel",
      "state": {
       "bar_style": "success",
       "description": "100.00%",
       "layout": "IPY_MODEL_3f79b43aa5914399892ce50f89c3ccb4",
       "max": 15092,
       "style": "IPY_MODEL_6e1a0bd996a34648bd0ebdba8ef8b993",
       "value": 15092
      }
     },
     "6a3d73f438224acdb57333031c2d7297": {
      "model_module": "@jupyter-widgets/base",
      "model_module_version": "2.0.0",
      "model_name": "LayoutModel",
      "state": {}
     },
     "6ac18ec877914901afb5e3423a82e49c": {
      "model_module": "@jupyter-widgets/controls",
      "model_module_version": "2.0.0",
      "model_name": "HBoxModel",
      "state": {
       "children": [
        "IPY_MODEL_84d7e2bfa5d54d12aaf8bca216c20930",
        "IPY_MODEL_86fe2574c4ed4d7db4141879808ed559"
       ],
       "layout": "IPY_MODEL_b6bfb6da17ef48beaf2d3d40d8900036"
      }
     },
     "6acd7f334d7346e6a1d4d9580bf2baad": {
      "model_module": "@jupyter-widgets/base",
      "model_module_version": "2.0.0",
      "model_name": "LayoutModel",
      "state": {}
     },
     "6b2f3737005e4cbdb2fb083ce3fbd0b8": {
      "model_module": "@jupyter-widgets/base",
      "model_module_version": "2.0.0",
      "model_name": "LayoutModel",
      "state": {}
     },
     "6b6223632f13484caa654b358400e646": {
      "model_module": "@jupyter-widgets/base",
      "model_module_version": "2.0.0",
      "model_name": "LayoutModel",
      "state": {}
     },
     "6ba387d188d948fcb1e865080ca7cc98": {
      "model_module": "@jupyter-widgets/controls",
      "model_module_version": "2.0.0",
      "model_name": "ProgressStyleModel",
      "state": {
       "description_width": ""
      }
     },
     "6c51043ba3f541329c8c413d5263dec4": {
      "model_module": "@jupyter-widgets/controls",
      "model_module_version": "2.0.0",
      "model_name": "HBoxModel",
      "state": {
       "children": [
        "IPY_MODEL_d4a2716ed9144f6fa95de188723e47f9",
        "IPY_MODEL_27bd707411cc43e086090265154f400b"
       ],
       "layout": "IPY_MODEL_43bb7ee2a50e454784ca36064f4b483d"
      }
     },
     "6d4e2de79fa94be4b3764bcb443a5633": {
      "model_module": "@jupyter-widgets/base",
      "model_module_version": "2.0.0",
      "model_name": "LayoutModel",
      "state": {}
     },
     "6d9485e4be5b4517ab88fb07799aa46e": {
      "model_module": "@jupyter-widgets/controls",
      "model_module_version": "2.0.0",
      "model_name": "IntProgressModel",
      "state": {
       "bar_style": "danger",
       "description": "0.00%",
       "layout": "IPY_MODEL_0d478f23b8d146c8b1c8beb914dcce1e",
       "max": 15093,
       "style": "IPY_MODEL_c89035a417a64970aba618cd7e64d34d"
      }
     },
     "6dac11c0cc994ee18aec3caae9c5bd11": {
      "model_module": "@jupyter-widgets/controls",
      "model_module_version": "2.0.0",
      "model_name": "ProgressStyleModel",
      "state": {
       "description_width": ""
      }
     },
     "6e1a0bd996a34648bd0ebdba8ef8b993": {
      "model_module": "@jupyter-widgets/controls",
      "model_module_version": "2.0.0",
      "model_name": "ProgressStyleModel",
      "state": {
       "description_width": ""
      }
     },
     "6e987067f278415f9626e9cd50e3fcf6": {
      "model_module": "@jupyter-widgets/base",
      "model_module_version": "2.0.0",
      "model_name": "LayoutModel",
      "state": {}
     },
     "71a4f7d186704a818d76bed1190db3d4": {
      "model_module": "@jupyter-widgets/controls",
      "model_module_version": "2.0.0",
      "model_name": "HBoxModel",
      "state": {
       "children": [
        "IPY_MODEL_4451233232b04a10bc039e48cf59abae",
        "IPY_MODEL_acca4061529d49a5ae04b57da5c00234"
       ],
       "layout": "IPY_MODEL_627695e19c554f409182aeee79d48891"
      }
     },
     "71cc04e1481f4a31a65fa14bc9446803": {
      "model_module": "@jupyter-widgets/controls",
      "model_module_version": "2.0.0",
      "model_name": "IntProgressModel",
      "state": {
       "bar_style": "danger",
       "description": "0.00%",
       "layout": "IPY_MODEL_434cb19bf3594a80a19a7fa5b99fbc5f",
       "max": 15093,
       "style": "IPY_MODEL_1333fdc534954c029e9fe051b3cbc6ed"
      }
     },
     "7261686aa4f94eba8f298f113c362865": {
      "model_module": "@jupyter-widgets/controls",
      "model_module_version": "2.0.0",
      "model_name": "ProgressStyleModel",
      "state": {
       "description_width": ""
      }
     },
     "7276e305840745bda70fee0c2c7a452f": {
      "model_module": "@jupyter-widgets/controls",
      "model_module_version": "2.0.0",
      "model_name": "IntProgressModel",
      "state": {
       "bar_style": "danger",
       "description": "0.00%",
       "layout": "IPY_MODEL_cca1dcc1b74548f2979fd29bb6f3b0c4",
       "max": 15093,
       "style": "IPY_MODEL_6ba387d188d948fcb1e865080ca7cc98"
      }
     },
     "73393d7050cb417384309685a828a682": {
      "model_module": "@jupyter-widgets/base",
      "model_module_version": "2.0.0",
      "model_name": "LayoutModel",
      "state": {}
     },
     "73a75d62732d4e77bb589aad0f9c9617": {
      "model_module": "@jupyter-widgets/controls",
      "model_module_version": "2.0.0",
      "model_name": "LabelModel",
      "state": {
       "layout": "IPY_MODEL_1724902c98c7487e8ec73c5e0972c5d9",
       "style": "IPY_MODEL_e9e1496d370345b79e0100527e5a4e31",
       "value": "0 / 15093"
      }
     },
     "73b8925c64c64352807c787444466e2d": {
      "model_module": "@jupyter-widgets/base",
      "model_module_version": "2.0.0",
      "model_name": "LayoutModel",
      "state": {}
     },
     "756c8d64e7e440a0bdaeec9afb0f3156": {
      "model_module": "@jupyter-widgets/base",
      "model_module_version": "2.0.0",
      "model_name": "LayoutModel",
      "state": {}
     },
     "76b95605d7334f23bff1add613ed059c": {
      "model_module": "@jupyter-widgets/controls",
      "model_module_version": "2.0.0",
      "model_name": "ProgressStyleModel",
      "state": {
       "description_width": ""
      }
     },
     "76be07dbf62f4cfea37f98e0b873d5f5": {
      "model_module": "@jupyter-widgets/controls",
      "model_module_version": "2.0.0",
      "model_name": "LabelStyleModel",
      "state": {
       "description_width": "",
       "font_family": null,
       "font_size": null,
       "font_style": null,
       "font_variant": null,
       "font_weight": null,
       "text_color": null,
       "text_decoration": null
      }
     },
     "77ed2185dff64a00a42f9d7d80169fce": {
      "model_module": "@jupyter-widgets/controls",
      "model_module_version": "2.0.0",
      "model_name": "LabelModel",
      "state": {
       "layout": "IPY_MODEL_f476cdc3c3344587be2bcdedeaa414c4",
       "style": "IPY_MODEL_444461bdd39c42109f631b88449810a6",
       "value": "0 / 15092"
      }
     },
     "788d2db106c54d3880625f224b28a09d": {
      "model_module": "@jupyter-widgets/controls",
      "model_module_version": "2.0.0",
      "model_name": "IntProgressModel",
      "state": {
       "bar_style": "success",
       "description": "100.00%",
       "layout": "IPY_MODEL_cfd1f9edd5fc4e4ead24e7df8344406a",
       "max": 15093,
       "style": "IPY_MODEL_b16a093084d7493ca9dd869165bf9998",
       "value": 15093
      }
     },
     "78c659fa034647dbb97b67012e17b219": {
      "model_module": "@jupyter-widgets/controls",
      "model_module_version": "2.0.0",
      "model_name": "LabelModel",
      "state": {
       "layout": "IPY_MODEL_d48e56e0f6f249e6b4c8ed788fa2544f",
       "style": "IPY_MODEL_853f0ddbd7e048eda48faa8156fa0ce3",
       "value": "0 / 15093"
      }
     },
     "79895a5857fb4fe69bf262b8cfde6a60": {
      "model_module": "@jupyter-widgets/base",
      "model_module_version": "2.0.0",
      "model_name": "LayoutModel",
      "state": {}
     },
     "7b7cf5a53ea64fb3952860e5e992446b": {
      "model_module": "@jupyter-widgets/controls",
      "model_module_version": "2.0.0",
      "model_name": "LabelModel",
      "state": {
       "layout": "IPY_MODEL_e4f6788671c54bb2b6940426026cd4cc",
       "style": "IPY_MODEL_521e1c29ab1f4404b323d0273d16835f",
       "value": "0 / 15093"
      }
     },
     "7b83565d84594bf2a82bdc1be1adbf87": {
      "model_module": "@jupyter-widgets/controls",
      "model_module_version": "2.0.0",
      "model_name": "ProgressStyleModel",
      "state": {
       "description_width": ""
      }
     },
     "7c3a267bdcb2464cb299db68aeb6cf2b": {
      "model_module": "@jupyter-widgets/base",
      "model_module_version": "2.0.0",
      "model_name": "LayoutModel",
      "state": {}
     },
     "7c40a2432a50475cb9456193a29c4bd9": {
      "model_module": "@jupyter-widgets/controls",
      "model_module_version": "2.0.0",
      "model_name": "LabelStyleModel",
      "state": {
       "description_width": "",
       "font_family": null,
       "font_size": null,
       "font_style": null,
       "font_variant": null,
       "font_weight": null,
       "text_color": null,
       "text_decoration": null
      }
     },
     "7cb65ddec31e40e89c3901c822050a4d": {
      "model_module": "@jupyter-widgets/controls",
      "model_module_version": "2.0.0",
      "model_name": "IntProgressModel",
      "state": {
       "bar_style": "danger",
       "description": "0.00%",
       "layout": "IPY_MODEL_0e590371f7374556bcd107a745eee7c9",
       "max": 15093,
       "style": "IPY_MODEL_2ba71747982c4ad0b9eec26c1efbedbe"
      }
     },
     "7d8989a1ec814492920ce500f8efd2f6": {
      "model_module": "@jupyter-widgets/base",
      "model_module_version": "2.0.0",
      "model_name": "LayoutModel",
      "state": {}
     },
     "7df3584b769d453492da0e56ef1444c2": {
      "model_module": "@jupyter-widgets/controls",
      "model_module_version": "2.0.0",
      "model_name": "ProgressStyleModel",
      "state": {
       "description_width": ""
      }
     },
     "7dfa6c5894114ed5a0f2a902de6601e8": {
      "model_module": "@jupyter-widgets/base",
      "model_module_version": "2.0.0",
      "model_name": "LayoutModel",
      "state": {}
     },
     "7fe8ef5259ed4a97bac3fa9734634366": {
      "model_module": "@jupyter-widgets/base",
      "model_module_version": "2.0.0",
      "model_name": "LayoutModel",
      "state": {}
     },
     "8005a5607c264493bbef7c9d711a7178": {
      "model_module": "@jupyter-widgets/controls",
      "model_module_version": "2.0.0",
      "model_name": "HBoxModel",
      "state": {
       "children": [
        "IPY_MODEL_4163504e17f94447a8d06d4eaa419200",
        "IPY_MODEL_dda77c1ecc594f27bcd281afae919e1f"
       ],
       "layout": "IPY_MODEL_f67bd2ca75244b4e88c2ce1d5abd4583"
      }
     },
     "81c0620edcc5464589084edc0fb088c3": {
      "model_module": "@jupyter-widgets/controls",
      "model_module_version": "2.0.0",
      "model_name": "HBoxModel",
      "state": {
       "children": [
        "IPY_MODEL_c72adf06f7604b5cb4b81c4f747380d1",
        "IPY_MODEL_68e2439300744a77988cbd001b86ccb8"
       ],
       "layout": "IPY_MODEL_e7aed8e8df1f4dc4abc4637708aee64a"
      }
     },
     "822d6c0a707b4bc2a1c4329778297f36": {
      "model_module": "@jupyter-widgets/base",
      "model_module_version": "2.0.0",
      "model_name": "LayoutModel",
      "state": {}
     },
     "82670f8e53c3493897968d0a38c06784": {
      "model_module": "@jupyter-widgets/base",
      "model_module_version": "2.0.0",
      "model_name": "LayoutModel",
      "state": {}
     },
     "826eeb5ac8d04e28acbae870b298b166": {
      "model_module": "@jupyter-widgets/controls",
      "model_module_version": "2.0.0",
      "model_name": "LabelModel",
      "state": {
       "layout": "IPY_MODEL_ce0c37314ed849be9cab2b4c40e4a262",
       "style": "IPY_MODEL_ec20330512a446c18631f86f14c706d3",
       "value": "0 / 15093"
      }
     },
     "82755f2a45444cd7941e655952128047": {
      "model_module": "@jupyter-widgets/base",
      "model_module_version": "2.0.0",
      "model_name": "LayoutModel",
      "state": {}
     },
     "82ac7705974f4d4d9f461f9d39ff6a05": {
      "model_module": "@jupyter-widgets/controls",
      "model_module_version": "2.0.0",
      "model_name": "LabelStyleModel",
      "state": {
       "description_width": "",
       "font_family": null,
       "font_size": null,
       "font_style": null,
       "font_variant": null,
       "font_weight": null,
       "text_color": null,
       "text_decoration": null
      }
     },
     "82c5288b2b184b7abe489f96903771b1": {
      "model_module": "@jupyter-widgets/base",
      "model_module_version": "2.0.0",
      "model_name": "LayoutModel",
      "state": {}
     },
     "830f485077544def96f974794fcee019": {
      "model_module": "@jupyter-widgets/controls",
      "model_module_version": "2.0.0",
      "model_name": "LabelModel",
      "state": {
       "layout": "IPY_MODEL_6d4e2de79fa94be4b3764bcb443a5633",
       "style": "IPY_MODEL_587bf87ba6974f3a97bc4d0668ccf645",
       "value": "15093 / 15093"
      }
     },
     "8313630403964a9fb210ded3696149e5": {
      "model_module": "@jupyter-widgets/controls",
      "model_module_version": "2.0.0",
      "model_name": "IntProgressModel",
      "state": {
       "bar_style": "danger",
       "description": "0.00%",
       "layout": "IPY_MODEL_a2316063eaa74aaaa70ba1f7a408e658",
       "max": 15093,
       "style": "IPY_MODEL_d2d0c06b4c0449d38995b80bf0fbda32"
      }
     },
     "840002660da846ccbe285a128d776bae": {
      "model_module": "@jupyter-widgets/controls",
      "model_module_version": "2.0.0",
      "model_name": "HBoxModel",
      "state": {
       "children": [
        "IPY_MODEL_c93bf09415cc4058a9d64019784874c5",
        "IPY_MODEL_8dd3e5b8a21e439db0acfead02ffd587"
       ],
       "layout": "IPY_MODEL_e9d8e611e56d450ca4ac3d1bf3f94e2d"
      }
     },
     "84a91cc74544483ca4cd7e873892b0d5": {
      "model_module": "@jupyter-widgets/base",
      "model_module_version": "2.0.0",
      "model_name": "LayoutModel",
      "state": {}
     },
     "84d7e2bfa5d54d12aaf8bca216c20930": {
      "model_module": "@jupyter-widgets/controls",
      "model_module_version": "2.0.0",
      "model_name": "IntProgressModel",
      "state": {
       "bar_style": "success",
       "description": "100.00%",
       "layout": "IPY_MODEL_be083003ba6f40e5a769dc7dab4e8ff0",
       "max": 15092,
       "style": "IPY_MODEL_fe773c7219f74bf68c0fe563b7a4f997",
       "value": 15092
      }
     },
     "853f0ddbd7e048eda48faa8156fa0ce3": {
      "model_module": "@jupyter-widgets/controls",
      "model_module_version": "2.0.0",
      "model_name": "LabelStyleModel",
      "state": {
       "description_width": "",
       "font_family": null,
       "font_size": null,
       "font_style": null,
       "font_variant": null,
       "font_weight": null,
       "text_color": null,
       "text_decoration": null
      }
     },
     "85bb71887ea34a2ca69e47c50e3ff157": {
      "model_module": "@jupyter-widgets/controls",
      "model_module_version": "2.0.0",
      "model_name": "LabelStyleModel",
      "state": {
       "description_width": "",
       "font_family": null,
       "font_size": null,
       "font_style": null,
       "font_variant": null,
       "font_weight": null,
       "text_color": null,
       "text_decoration": null
      }
     },
     "85d8a5d7be0647a285f33b906eed3473": {
      "model_module": "@jupyter-widgets/controls",
      "model_module_version": "2.0.0",
      "model_name": "ProgressStyleModel",
      "state": {
       "description_width": ""
      }
     },
     "85dd0838f09040a784a3abdfe9ae9a5c": {
      "model_module": "@jupyter-widgets/controls",
      "model_module_version": "2.0.0",
      "model_name": "LabelStyleModel",
      "state": {
       "description_width": "",
       "font_family": null,
       "font_size": null,
       "font_style": null,
       "font_variant": null,
       "font_weight": null,
       "text_color": null,
       "text_decoration": null
      }
     },
     "86fe2574c4ed4d7db4141879808ed559": {
      "model_module": "@jupyter-widgets/controls",
      "model_module_version": "2.0.0",
      "model_name": "LabelModel",
      "state": {
       "layout": "IPY_MODEL_305c15c4e1c74bf3a5347896bec16e3e",
       "style": "IPY_MODEL_a351657a7bc5437b98d5e007d1c59ac0",
       "value": "15092 / 15092"
      }
     },
     "87265d5a754a44fc927d7faaa3152fa6": {
      "model_module": "@jupyter-widgets/controls",
      "model_module_version": "2.0.0",
      "model_name": "LabelStyleModel",
      "state": {
       "description_width": "",
       "font_family": null,
       "font_size": null,
       "font_style": null,
       "font_variant": null,
       "font_weight": null,
       "text_color": null,
       "text_decoration": null
      }
     },
     "87e5689cf25c4132846a75c141997343": {
      "model_module": "@jupyter-widgets/controls",
      "model_module_version": "2.0.0",
      "model_name": "HBoxModel",
      "state": {
       "children": [
        "IPY_MODEL_063a0b8d154e4dd781a9a5717397453a",
        "IPY_MODEL_19229179931645bba36731f5ca2b0a06"
       ],
       "layout": "IPY_MODEL_69392d74bfba452882d06fbb7f88f368"
      }
     },
     "8812154390f24299964254d130c06b97": {
      "model_module": "@jupyter-widgets/controls",
      "model_module_version": "2.0.0",
      "model_name": "ProgressStyleModel",
      "state": {
       "description_width": ""
      }
     },
     "88162f26abc14494a3311a6d3fb11887": {
      "model_module": "@jupyter-widgets/base",
      "model_module_version": "2.0.0",
      "model_name": "LayoutModel",
      "state": {}
     },
     "88792eae564646a5a3e99db2f5e8c630": {
      "model_module": "@jupyter-widgets/base",
      "model_module_version": "2.0.0",
      "model_name": "LayoutModel",
      "state": {}
     },
     "889d3a91c09c4defbd178703e50deac1": {
      "model_module": "@jupyter-widgets/base",
      "model_module_version": "2.0.0",
      "model_name": "LayoutModel",
      "state": {}
     },
     "8938f7cb8b2c43f292b9508ab650e3ab": {
      "model_module": "@jupyter-widgets/controls",
      "model_module_version": "2.0.0",
      "model_name": "LabelModel",
      "state": {
       "layout": "IPY_MODEL_15da9cc0c6384946866ad05fb7676780",
       "style": "IPY_MODEL_0d280f5f0dc14248b8910f96f45e152a",
       "value": "0 / 15093"
      }
     },
     "894a69f3dfd347338e96efc88216ea44": {
      "model_module": "@jupyter-widgets/controls",
      "model_module_version": "2.0.0",
      "model_name": "LabelModel",
      "state": {
       "layout": "IPY_MODEL_19b9bf0e13824951bb8f293f2c9a4dbe",
       "style": "IPY_MODEL_08ce844e69af48b9bd3eb4ba7f7551aa",
       "value": "0 / 15093"
      }
     },
     "89d85c0f57724ff89b1de164066720aa": {
      "model_module": "@jupyter-widgets/base",
      "model_module_version": "2.0.0",
      "model_name": "LayoutModel",
      "state": {}
     },
     "8a0fcc3c708e4670ba8ec4b12a348b4a": {
      "model_module": "@jupyter-widgets/base",
      "model_module_version": "2.0.0",
      "model_name": "LayoutModel",
      "state": {}
     },
     "8ace724044284f16b9c5c00bcf1dbaf6": {
      "model_module": "@jupyter-widgets/controls",
      "model_module_version": "2.0.0",
      "model_name": "HBoxModel",
      "state": {
       "children": [
        "IPY_MODEL_d73635fd9d614e3da3d42ef97949c2dc",
        "IPY_MODEL_9681b55bf612420cb06f0ab32d819bde"
       ],
       "layout": "IPY_MODEL_91a7536d1cdd4dbeb3e5ce44308ff9d2"
      }
     },
     "8ad83e5c26c4401985ddc4bbe3409e9a": {
      "model_module": "@jupyter-widgets/controls",
      "model_module_version": "2.0.0",
      "model_name": "LabelStyleModel",
      "state": {
       "description_width": "",
       "font_family": null,
       "font_size": null,
       "font_style": null,
       "font_variant": null,
       "font_weight": null,
       "text_color": null,
       "text_decoration": null
      }
     },
     "8be6643a84714435bb2b92b3ff0ebe60": {
      "model_module": "@jupyter-widgets/controls",
      "model_module_version": "2.0.0",
      "model_name": "LabelStyleModel",
      "state": {
       "description_width": "",
       "font_family": null,
       "font_size": null,
       "font_style": null,
       "font_variant": null,
       "font_weight": null,
       "text_color": null,
       "text_decoration": null
      }
     },
     "8c0dc222192d422b812a8b1f22b3f24c": {
      "model_module": "@jupyter-widgets/controls",
      "model_module_version": "2.0.0",
      "model_name": "ProgressStyleModel",
      "state": {
       "description_width": ""
      }
     },
     "8c4ad5b41f6f4afa913dc4e737295982": {
      "model_module": "@jupyter-widgets/base",
      "model_module_version": "2.0.0",
      "model_name": "LayoutModel",
      "state": {}
     },
     "8c6c9f5e3505476ebf56e969fffdadcb": {
      "model_module": "@jupyter-widgets/controls",
      "model_module_version": "2.0.0",
      "model_name": "HBoxModel",
      "state": {
       "children": [
        "IPY_MODEL_9e42bf21a54f43f2b7579cf7c24a5984",
        "IPY_MODEL_d9606c1460b74376b3c3268c8429ffdb"
       ],
       "layout": "IPY_MODEL_049e28692d0547efa2fafe024bbbe1f0"
      }
     },
     "8d1fa710c52849c9bb3c39372e877df6": {
      "model_module": "@jupyter-widgets/controls",
      "model_module_version": "2.0.0",
      "model_name": "ProgressStyleModel",
      "state": {
       "description_width": ""
      }
     },
     "8d911e1c525a4904bc52849e6ea84b93": {
      "model_module": "@jupyter-widgets/base",
      "model_module_version": "2.0.0",
      "model_name": "LayoutModel",
      "state": {}
     },
     "8dd3e5b8a21e439db0acfead02ffd587": {
      "model_module": "@jupyter-widgets/controls",
      "model_module_version": "2.0.0",
      "model_name": "LabelModel",
      "state": {
       "layout": "IPY_MODEL_005e68b65178454b8d65f837a828f675",
       "style": "IPY_MODEL_d0ba53b976e549ac80b882adf76313ae",
       "value": "0 / 15092"
      }
     },
     "8dd6751a58b54a68a5fd92aafd264203": {
      "model_module": "@jupyter-widgets/controls",
      "model_module_version": "2.0.0",
      "model_name": "HBoxModel",
      "state": {
       "children": [
        "IPY_MODEL_1535739bfab943ab8894b9ca639989f7",
        "IPY_MODEL_7b7cf5a53ea64fb3952860e5e992446b"
       ],
       "layout": "IPY_MODEL_23abad76396045e5b8606b947149e356"
      }
     },
     "8e9ac46d30e74478b47151f8d14f8095": {
      "model_module": "@jupyter-widgets/controls",
      "model_module_version": "2.0.0",
      "model_name": "LabelModel",
      "state": {
       "layout": "IPY_MODEL_420bc21e75fb43c58ca1819b0ae785ad",
       "style": "IPY_MODEL_977b187751d044fa8afe011aa3e4c0cf",
       "value": "0 / 15093"
      }
     },
     "8eebc402f5e84bc7bbbf9af07e68e935": {
      "model_module": "@jupyter-widgets/controls",
      "model_module_version": "2.0.0",
      "model_name": "LabelModel",
      "state": {
       "layout": "IPY_MODEL_756c8d64e7e440a0bdaeec9afb0f3156",
       "style": "IPY_MODEL_698845d445c9413a92c24302a518f353",
       "value": "0 / 15092"
      }
     },
     "900a5e2d370842d99b3a4e5fc7b0c091": {
      "model_module": "@jupyter-widgets/controls",
      "model_module_version": "2.0.0",
      "model_name": "LabelModel",
      "state": {
       "layout": "IPY_MODEL_6305109798154f3e95b4b2250dda02c7",
       "style": "IPY_MODEL_ece29d45a7ef448ab8f2aa72a8d02db5",
       "value": "15093 / 15093"
      }
     },
     "913000b490eb4908a3cde9238c7bbceb": {
      "model_module": "@jupyter-widgets/base",
      "model_module_version": "2.0.0",
      "model_name": "LayoutModel",
      "state": {}
     },
     "91a7536d1cdd4dbeb3e5ce44308ff9d2": {
      "model_module": "@jupyter-widgets/base",
      "model_module_version": "2.0.0",
      "model_name": "LayoutModel",
      "state": {}
     },
     "933c0e7858c84d6bb3fc309e2dd725d4": {
      "model_module": "@jupyter-widgets/controls",
      "model_module_version": "2.0.0",
      "model_name": "IntProgressModel",
      "state": {
       "bar_style": "danger",
       "description": "0.00%",
       "layout": "IPY_MODEL_7c3a267bdcb2464cb299db68aeb6cf2b",
       "max": 15092,
       "style": "IPY_MODEL_c4f2f2e9a90b43d98d86ea853a0c12b4"
      }
     },
     "936335a9db164f53b87536056becca8a": {
      "model_module": "@jupyter-widgets/base",
      "model_module_version": "2.0.0",
      "model_name": "LayoutModel",
      "state": {}
     },
     "93c96b7110f24eee814c809a20f06523": {
      "model_module": "@jupyter-widgets/controls",
      "model_module_version": "2.0.0",
      "model_name": "IntProgressModel",
      "state": {
       "bar_style": "danger",
       "description": "0.00%",
       "layout": "IPY_MODEL_88162f26abc14494a3311a6d3fb11887",
       "max": 15093,
       "style": "IPY_MODEL_e53b706a592342f0a6c121f76b4aa8af"
      }
     },
     "947ea32e8e66480db8cec929e767de58": {
      "model_module": "@jupyter-widgets/base",
      "model_module_version": "2.0.0",
      "model_name": "LayoutModel",
      "state": {}
     },
     "94e500af7ce348bba1b04659145b72f5": {
      "model_module": "@jupyter-widgets/controls",
      "model_module_version": "2.0.0",
      "model_name": "LabelModel",
      "state": {
       "layout": "IPY_MODEL_024892ec9ac44f2e855125590e9e29f4",
       "style": "IPY_MODEL_aedcde014be34a97a1390e541f4b9d6b",
       "value": "15092 / 15092"
      }
     },
     "94f2549df3a14120a1fab8ee4d73ac56": {
      "model_module": "@jupyter-widgets/base",
      "model_module_version": "2.0.0",
      "model_name": "LayoutModel",
      "state": {}
     },
     "9502b9f1d8604f2ea8a99e2d66893be2": {
      "model_module": "@jupyter-widgets/controls",
      "model_module_version": "2.0.0",
      "model_name": "HBoxModel",
      "state": {
       "children": [
        "IPY_MODEL_edab4977f2ec425c8478c4721c068573",
        "IPY_MODEL_09041503d3e14fce92f56b9093d796c0"
       ],
       "layout": "IPY_MODEL_b51ba5bf4bc340b4a6c601f3c23eac79"
      }
     },
     "9681b55bf612420cb06f0ab32d819bde": {
      "model_module": "@jupyter-widgets/controls",
      "model_module_version": "2.0.0",
      "model_name": "LabelModel",
      "state": {
       "layout": "IPY_MODEL_f263a718491145ce8c4c87b065e8806d",
       "style": "IPY_MODEL_2c91e82929e740eb9087c0ca4db53c64",
       "value": "0 / 15092"
      }
     },
     "9724fa1c8fe14def8db86c2a77733883": {
      "model_module": "@jupyter-widgets/controls",
      "model_module_version": "2.0.0",
      "model_name": "HBoxModel",
      "state": {
       "children": [
        "IPY_MODEL_9892b930c0994e74a3e75bdec0cf5c5c",
        "IPY_MODEL_bcbc53a593e74c04a34e0efa578ca2cb"
       ],
       "layout": "IPY_MODEL_2e2897311f1441ddb1e3dae9ceb6b7df"
      }
     },
     "977b187751d044fa8afe011aa3e4c0cf": {
      "model_module": "@jupyter-widgets/controls",
      "model_module_version": "2.0.0",
      "model_name": "LabelStyleModel",
      "state": {
       "description_width": "",
       "font_family": null,
       "font_size": null,
       "font_style": null,
       "font_variant": null,
       "font_weight": null,
       "text_color": null,
       "text_decoration": null
      }
     },
     "97a821e01b634e71ad7abfe468e99a74": {
      "model_module": "@jupyter-widgets/base",
      "model_module_version": "2.0.0",
      "model_name": "LayoutModel",
      "state": {}
     },
     "9892b930c0994e74a3e75bdec0cf5c5c": {
      "model_module": "@jupyter-widgets/controls",
      "model_module_version": "2.0.0",
      "model_name": "IntProgressModel",
      "state": {
       "bar_style": "success",
       "description": "100.00%",
       "layout": "IPY_MODEL_c7937d94bbec4a5b970aa2c0c9db9636",
       "max": 15093,
       "style": "IPY_MODEL_6dac11c0cc994ee18aec3caae9c5bd11",
       "value": 15093
      }
     },
     "9920b5d29fe6408fad2d52091b9228a9": {
      "model_module": "@jupyter-widgets/controls",
      "model_module_version": "2.0.0",
      "model_name": "ProgressStyleModel",
      "state": {
       "description_width": ""
      }
     },
     "99954d6638b943df8b95c75ef005490e": {
      "model_module": "@jupyter-widgets/controls",
      "model_module_version": "2.0.0",
      "model_name": "ProgressStyleModel",
      "state": {
       "description_width": ""
      }
     },
     "9a8bea0df064406983fc1237aad8abc9": {
      "model_module": "@jupyter-widgets/controls",
      "model_module_version": "2.0.0",
      "model_name": "HBoxModel",
      "state": {
       "children": [
        "IPY_MODEL_6666be30d87148db909d4d41c037ee13",
        "IPY_MODEL_cac84f7aaab441fc9c51ab3b581b69e0"
       ],
       "layout": "IPY_MODEL_015c95c626cf40ed8a1f8684d641505e"
      }
     },
     "9aa1ac42cc81483db241168cce0756b0": {
      "model_module": "@jupyter-widgets/controls",
      "model_module_version": "2.0.0",
      "model_name": "IntProgressModel",
      "state": {
       "bar_style": "danger",
       "description": "0.00%",
       "layout": "IPY_MODEL_58a132dc1d864a57bdb79428e86a35a7",
       "max": 15093,
       "style": "IPY_MODEL_8d1fa710c52849c9bb3c39372e877df6"
      }
     },
     "9b43d594b5f842ff898bd2a508bdbca1": {
      "model_module": "@jupyter-widgets/controls",
      "model_module_version": "2.0.0",
      "model_name": "LabelModel",
      "state": {
       "layout": "IPY_MODEL_e4786200eff64c2f8e3fd6f0ddb01961",
       "style": "IPY_MODEL_a4ecc4e70449455694d28c7bbeaf4a9a",
       "value": "0 / 15092"
      }
     },
     "9bfa0ea76ac5434e850ce70fc7fe0c5f": {
      "model_module": "@jupyter-widgets/controls",
      "model_module_version": "2.0.0",
      "model_name": "IntProgressModel",
      "state": {
       "bar_style": "success",
       "description": "100.00%",
       "layout": "IPY_MODEL_5f49f4d8180f4881aae91b0d070c5e77",
       "max": 15093,
       "style": "IPY_MODEL_c424d65a0b154b41b654f6b8522d722e",
       "value": 15093
      }
     },
     "9e04b5cba5ef46aba983ee5833b0bd59": {
      "model_module": "@jupyter-widgets/controls",
      "model_module_version": "2.0.0",
      "model_name": "IntProgressModel",
      "state": {
       "bar_style": "danger",
       "description": "0.00%",
       "layout": "IPY_MODEL_8c4ad5b41f6f4afa913dc4e737295982",
       "max": 15093,
       "style": "IPY_MODEL_4873e19ee6d84ca38d7f96425eb672a2"
      }
     },
     "9e42bf21a54f43f2b7579cf7c24a5984": {
      "model_module": "@jupyter-widgets/controls",
      "model_module_version": "2.0.0",
      "model_name": "IntProgressModel",
      "state": {
       "bar_style": "danger",
       "description": "0.00%",
       "layout": "IPY_MODEL_19848871459344a1aef47c9544e01dad",
       "max": 15093,
       "style": "IPY_MODEL_76b95605d7334f23bff1add613ed059c"
      }
     },
     "9f5dda419c4c433a9cb4d99ff248c191": {
      "model_module": "@jupyter-widgets/controls",
      "model_module_version": "2.0.0",
      "model_name": "IntProgressModel",
      "state": {
       "bar_style": "danger",
       "description": "0.00%",
       "layout": "IPY_MODEL_cef61d99a74c4ed387d2f19e30a5402a",
       "max": 15093,
       "style": "IPY_MODEL_bc97e1461d0546899b714093dc1da335"
      }
     },
     "a0f6bf6153344bddbf68f8ac2fb6730d": {
      "model_module": "@jupyter-widgets/controls",
      "model_module_version": "2.0.0",
      "model_name": "ProgressStyleModel",
      "state": {
       "description_width": ""
      }
     },
     "a0fc108cb4c8422281da4c793b3d11ce": {
      "model_module": "@jupyter-widgets/controls",
      "model_module_version": "2.0.0",
      "model_name": "ProgressStyleModel",
      "state": {
       "description_width": ""
      }
     },
     "a15f6cf97fdf4d31aa2c88d2ecec22c5": {
      "model_module": "@jupyter-widgets/controls",
      "model_module_version": "2.0.0",
      "model_name": "LabelStyleModel",
      "state": {
       "description_width": "",
       "font_family": null,
       "font_size": null,
       "font_style": null,
       "font_variant": null,
       "font_weight": null,
       "text_color": null,
       "text_decoration": null
      }
     },
     "a206ca1961ab4f3eae58f8099ab3d2b2": {
      "model_module": "@jupyter-widgets/controls",
      "model_module_version": "2.0.0",
      "model_name": "HBoxModel",
      "state": {
       "children": [
        "IPY_MODEL_af12593f726448e1a02c374d96c4e343",
        "IPY_MODEL_a6d453b2a6d0417a91955049abf2bafa"
       ],
       "layout": "IPY_MODEL_82755f2a45444cd7941e655952128047"
      }
     },
     "a2316063eaa74aaaa70ba1f7a408e658": {
      "model_module": "@jupyter-widgets/base",
      "model_module_version": "2.0.0",
      "model_name": "LayoutModel",
      "state": {}
     },
     "a25a71628e304b9c881cfb260548076e": {
      "model_module": "@jupyter-widgets/controls",
      "model_module_version": "2.0.0",
      "model_name": "LabelModel",
      "state": {
       "layout": "IPY_MODEL_afea23e00268467e97d0a598845a1601",
       "style": "IPY_MODEL_a27205e6a49044e796bb5e55747e5fa2",
       "value": "0 / 15093"
      }
     },
     "a27205e6a49044e796bb5e55747e5fa2": {
      "model_module": "@jupyter-widgets/controls",
      "model_module_version": "2.0.0",
      "model_name": "LabelStyleModel",
      "state": {
       "description_width": "",
       "font_family": null,
       "font_size": null,
       "font_style": null,
       "font_variant": null,
       "font_weight": null,
       "text_color": null,
       "text_decoration": null
      }
     },
     "a30184f757be413d801eff59da9002f5": {
      "model_module": "@jupyter-widgets/base",
      "model_module_version": "2.0.0",
      "model_name": "LayoutModel",
      "state": {}
     },
     "a3091e2bd7654790b0efd2eb58576d7a": {
      "model_module": "@jupyter-widgets/controls",
      "model_module_version": "2.0.0",
      "model_name": "LabelModel",
      "state": {
       "layout": "IPY_MODEL_f84004c20676477ca0ee44a0e8c038af",
       "style": "IPY_MODEL_5c6210dc20d84bd78534d81e32144580",
       "value": "0 / 15092"
      }
     },
     "a351657a7bc5437b98d5e007d1c59ac0": {
      "model_module": "@jupyter-widgets/controls",
      "model_module_version": "2.0.0",
      "model_name": "LabelStyleModel",
      "state": {
       "description_width": "",
       "font_family": null,
       "font_size": null,
       "font_style": null,
       "font_variant": null,
       "font_weight": null,
       "text_color": null,
       "text_decoration": null
      }
     },
     "a38a657858c448bf82464d884188533c": {
      "model_module": "@jupyter-widgets/controls",
      "model_module_version": "2.0.0",
      "model_name": "IntProgressModel",
      "state": {
       "bar_style": "success",
       "description": "100.00%",
       "layout": "IPY_MODEL_3d5beb462ac442c884fc45f598e76a4c",
       "max": 15093,
       "style": "IPY_MODEL_408e7b2e1d7448968c67e2d5a44eb04e",
       "value": 15093
      }
     },
     "a4ecc4e70449455694d28c7bbeaf4a9a": {
      "model_module": "@jupyter-widgets/controls",
      "model_module_version": "2.0.0",
      "model_name": "LabelStyleModel",
      "state": {
       "description_width": "",
       "font_family": null,
       "font_size": null,
       "font_style": null,
       "font_variant": null,
       "font_weight": null,
       "text_color": null,
       "text_decoration": null
      }
     },
     "a57d33c3e79b46238ba845d8a7551aae": {
      "model_module": "@jupyter-widgets/base",
      "model_module_version": "2.0.0",
      "model_name": "LayoutModel",
      "state": {}
     },
     "a5a6c7e491df4868ace422f2963d0566": {
      "model_module": "@jupyter-widgets/base",
      "model_module_version": "2.0.0",
      "model_name": "LayoutModel",
      "state": {}
     },
     "a64afc85a30a46ab93a7c5f1830e32d5": {
      "model_module": "@jupyter-widgets/base",
      "model_module_version": "2.0.0",
      "model_name": "LayoutModel",
      "state": {}
     },
     "a6d30a666d3c4898abf965288c6de06e": {
      "model_module": "@jupyter-widgets/controls",
      "model_module_version": "2.0.0",
      "model_name": "ProgressStyleModel",
      "state": {
       "description_width": ""
      }
     },
     "a6d453b2a6d0417a91955049abf2bafa": {
      "model_module": "@jupyter-widgets/controls",
      "model_module_version": "2.0.0",
      "model_name": "LabelModel",
      "state": {
       "layout": "IPY_MODEL_de9bfe572ffe4b4cb49dad37f0cb2edc",
       "style": "IPY_MODEL_b54404d0a1044149b24f845c3e007b95",
       "value": "15092 / 15092"
      }
     },
     "a800e8d18d8b404aaff22bd32911d97f": {
      "model_module": "@jupyter-widgets/base",
      "model_module_version": "2.0.0",
      "model_name": "LayoutModel",
      "state": {}
     },
     "a893c590cac24b509a9838c04310dd8c": {
      "model_module": "@jupyter-widgets/controls",
      "model_module_version": "2.0.0",
      "model_name": "HTMLStyleModel",
      "state": {
       "description_width": "",
       "font_size": null,
       "text_color": null
      }
     },
     "a94bd50fb18240c7aea527c496291b2b": {
      "model_module": "@jupyter-widgets/controls",
      "model_module_version": "2.0.0",
      "model_name": "HBoxModel",
      "state": {
       "children": [
        "IPY_MODEL_e436e32a81a549c7aade3f4dd0e127fe",
        "IPY_MODEL_271d64e4d77541d198c4e694122a35e5"
       ],
       "layout": "IPY_MODEL_6b6223632f13484caa654b358400e646"
      }
     },
     "a9682cbcdfc049afabf87ca11ce4882e": {
      "model_module": "@jupyter-widgets/controls",
      "model_module_version": "2.0.0",
      "model_name": "LabelModel",
      "state": {
       "layout": "IPY_MODEL_913000b490eb4908a3cde9238c7bbceb",
       "style": "IPY_MODEL_b59899c4fefd4192afa0dfa116e36946",
       "value": "0 / 15092"
      }
     },
     "a9afec60c8de4995ac0f8f288317d765": {
      "model_module": "@jupyter-widgets/controls",
      "model_module_version": "2.0.0",
      "model_name": "LabelModel",
      "state": {
       "layout": "IPY_MODEL_030964b3e4a64130b9bb8314b4b192c6",
       "style": "IPY_MODEL_c725051a1ee7429886976705bd7046c2",
       "value": "15093 / 15093"
      }
     },
     "aa0c9be3c6e24422beecc8e410e1d49b": {
      "model_module": "@jupyter-widgets/controls",
      "model_module_version": "2.0.0",
      "model_name": "ProgressStyleModel",
      "state": {
       "description_width": ""
      }
     },
     "aa42080ad8974c8db0282faeb02606c3": {
      "model_module": "@jupyter-widgets/base",
      "model_module_version": "2.0.0",
      "model_name": "LayoutModel",
      "state": {}
     },
     "aa625ca6d4bb4cb7960908bfdfd1bb3b": {
      "model_module": "@jupyter-widgets/controls",
      "model_module_version": "2.0.0",
      "model_name": "LabelModel",
      "state": {
       "layout": "IPY_MODEL_3b5343462e06408ea101fc1b364044b0",
       "style": "IPY_MODEL_e29876b303de42729ad2c0282d70d3eb",
       "value": "15093 / 15093"
      }
     },
     "aaa88fd58ec2448d9f7e3008d80e836e": {
      "model_module": "@jupyter-widgets/controls",
      "model_module_version": "2.0.0",
      "model_name": "HBoxModel",
      "state": {
       "children": [
        "IPY_MODEL_08cbf500bf2b452ca4d97911c2c5ded8",
        "IPY_MODEL_b0969df57a9843c2ab67f817c91b8eea"
       ],
       "layout": "IPY_MODEL_0c9957dace1948a296739c28a5fd8dda"
      }
     },
     "ab3dd0629453436aae2bc7c6925ba35d": {
      "model_module": "@jupyter-widgets/base",
      "model_module_version": "2.0.0",
      "model_name": "LayoutModel",
      "state": {}
     },
     "ab6fe89919ee432cab279f87f9923363": {
      "model_module": "@jupyter-widgets/controls",
      "model_module_version": "2.0.0",
      "model_name": "LabelStyleModel",
      "state": {
       "description_width": "",
       "font_family": null,
       "font_size": null,
       "font_style": null,
       "font_variant": null,
       "font_weight": null,
       "text_color": null,
       "text_decoration": null
      }
     },
     "abe59104be684e3eb778cbe583adaad2": {
      "model_module": "@jupyter-widgets/controls",
      "model_module_version": "2.0.0",
      "model_name": "ProgressStyleModel",
      "state": {
       "description_width": ""
      }
     },
     "ac44527a308242b4b11c9ed3d07fc371": {
      "model_module": "@jupyter-widgets/base",
      "model_module_version": "2.0.0",
      "model_name": "LayoutModel",
      "state": {}
     },
     "ac7c5d43a1cf4ff087303c8277bfad66": {
      "model_module": "@jupyter-widgets/base",
      "model_module_version": "2.0.0",
      "model_name": "LayoutModel",
      "state": {}
     },
     "acca4061529d49a5ae04b57da5c00234": {
      "model_module": "@jupyter-widgets/controls",
      "model_module_version": "2.0.0",
      "model_name": "LabelModel",
      "state": {
       "layout": "IPY_MODEL_ffd893c630ef4504a88c117488fa6f3f",
       "style": "IPY_MODEL_39abd17f4ee34aefba6c73a471515eee",
       "value": "0 / 15093"
      }
     },
     "acf6d7b5110e497497d1fada900d71d8": {
      "model_module": "@jupyter-widgets/controls",
      "model_module_version": "2.0.0",
      "model_name": "HBoxModel",
      "state": {
       "children": [
        "IPY_MODEL_f3e356df4b4f418fb82050184e063049",
        "IPY_MODEL_fffe2c880a484007a7fb76becf97eb5c"
       ],
       "layout": "IPY_MODEL_12cd4c1a02b34580a6c4a48a84b0d547"
      }
     },
     "adcf29b9e47b48b5b412b0fc62ac6ac5": {
      "model_module": "@jupyter-widgets/controls",
      "model_module_version": "2.0.0",
      "model_name": "HBoxModel",
      "state": {
       "children": [
        "IPY_MODEL_adecdcc42bee4148811ada88e3afe178",
        "IPY_MODEL_900a5e2d370842d99b3a4e5fc7b0c091"
       ],
       "layout": "IPY_MODEL_494e446b717544a0a88579130995598e"
      }
     },
     "adecdcc42bee4148811ada88e3afe178": {
      "model_module": "@jupyter-widgets/controls",
      "model_module_version": "2.0.0",
      "model_name": "IntProgressModel",
      "state": {
       "bar_style": "success",
       "description": "100.00%",
       "layout": "IPY_MODEL_4b7ecbedbe35445eb040b5d1270dffe1",
       "max": 15093,
       "style": "IPY_MODEL_85d8a5d7be0647a285f33b906eed3473",
       "value": 15093
      }
     },
     "ae3da64da0284b5b97c8e5d4bdd55c2b": {
      "model_module": "@jupyter-widgets/controls",
      "model_module_version": "2.0.0",
      "model_name": "LabelModel",
      "state": {
       "layout": "IPY_MODEL_c191110e46984c71a65eb50a808ffc0a",
       "style": "IPY_MODEL_d50c09cc5dd24adc85278ab32a02e6d3",
       "value": "15092 / 15092"
      }
     },
     "ae6bda6cb5a046268f7d619e09396ce5": {
      "model_module": "@jupyter-widgets/controls",
      "model_module_version": "2.0.0",
      "model_name": "LabelStyleModel",
      "state": {
       "description_width": "",
       "font_family": null,
       "font_size": null,
       "font_style": null,
       "font_variant": null,
       "font_weight": null,
       "text_color": null,
       "text_decoration": null
      }
     },
     "ae70337b6d734f6cbf405bf57cae1ae4": {
      "model_module": "@jupyter-widgets/controls",
      "model_module_version": "2.0.0",
      "model_name": "IntProgressModel",
      "state": {
       "bar_style": "success",
       "description": "100.00%",
       "layout": "IPY_MODEL_3e6908ca9e694b728df3f7e649807411",
       "max": 15093,
       "style": "IPY_MODEL_d8557439e59843a98e73891318a62fda",
       "value": 15093
      }
     },
     "aebdc79736bb4b5fb9f26833356e60f2": {
      "model_module": "@jupyter-widgets/base",
      "model_module_version": "2.0.0",
      "model_name": "LayoutModel",
      "state": {}
     },
     "aedcde014be34a97a1390e541f4b9d6b": {
      "model_module": "@jupyter-widgets/controls",
      "model_module_version": "2.0.0",
      "model_name": "LabelStyleModel",
      "state": {
       "description_width": "",
       "font_family": null,
       "font_size": null,
       "font_style": null,
       "font_variant": null,
       "font_weight": null,
       "text_color": null,
       "text_decoration": null
      }
     },
     "aee20c505137479197664048fc16b2c6": {
      "model_module": "@jupyter-widgets/controls",
      "model_module_version": "2.0.0",
      "model_name": "LabelStyleModel",
      "state": {
       "description_width": "",
       "font_family": null,
       "font_size": null,
       "font_style": null,
       "font_variant": null,
       "font_weight": null,
       "text_color": null,
       "text_decoration": null
      }
     },
     "af12593f726448e1a02c374d96c4e343": {
      "model_module": "@jupyter-widgets/controls",
      "model_module_version": "2.0.0",
      "model_name": "IntProgressModel",
      "state": {
       "bar_style": "success",
       "description": "100.00%",
       "layout": "IPY_MODEL_0212587dedd64fd3aacb618e5e3f2ed7",
       "max": 15092,
       "style": "IPY_MODEL_abe59104be684e3eb778cbe583adaad2",
       "value": 15092
      }
     },
     "af391192f21f422ba0f3a2895d704a1a": {
      "model_module": "@jupyter-widgets/controls",
      "model_module_version": "2.0.0",
      "model_name": "ProgressStyleModel",
      "state": {
       "description_width": ""
      }
     },
     "af6c095657e441498cd2e571e696fa54": {
      "model_module": "@jupyter-widgets/base",
      "model_module_version": "2.0.0",
      "model_name": "LayoutModel",
      "state": {}
     },
     "afea23e00268467e97d0a598845a1601": {
      "model_module": "@jupyter-widgets/base",
      "model_module_version": "2.0.0",
      "model_name": "LayoutModel",
      "state": {}
     },
     "b08dfd724e5b4e67a84bab306d8df025": {
      "model_module": "@jupyter-widgets/controls",
      "model_module_version": "2.0.0",
      "model_name": "LabelModel",
      "state": {
       "layout": "IPY_MODEL_73b8925c64c64352807c787444466e2d",
       "style": "IPY_MODEL_fc7113b6df3043ce92ad436fa943e818",
       "value": "15093 / 15093"
      }
     },
     "b0969df57a9843c2ab67f817c91b8eea": {
      "model_module": "@jupyter-widgets/controls",
      "model_module_version": "2.0.0",
      "model_name": "LabelModel",
      "state": {
       "layout": "IPY_MODEL_e35b50add29749f58dbe8b4108277662",
       "style": "IPY_MODEL_f3542a023acf4926880db56d7e0f9899",
       "value": "15093 / 15093"
      }
     },
     "b0a36bac42c346988f842879154d6098": {
      "model_module": "@jupyter-widgets/controls",
      "model_module_version": "2.0.0",
      "model_name": "LabelStyleModel",
      "state": {
       "description_width": "",
       "font_family": null,
       "font_size": null,
       "font_style": null,
       "font_variant": null,
       "font_weight": null,
       "text_color": null,
       "text_decoration": null
      }
     },
     "b161e86cc97445a98b81a4dcaf7c2730": {
      "model_module": "@jupyter-widgets/base",
      "model_module_version": "2.0.0",
      "model_name": "LayoutModel",
      "state": {}
     },
     "b16a093084d7493ca9dd869165bf9998": {
      "model_module": "@jupyter-widgets/controls",
      "model_module_version": "2.0.0",
      "model_name": "ProgressStyleModel",
      "state": {
       "description_width": ""
      }
     },
     "b19ae75b84af40f58166d2883260835d": {
      "model_module": "@jupyter-widgets/base",
      "model_module_version": "2.0.0",
      "model_name": "LayoutModel",
      "state": {}
     },
     "b24464f99bee45c7b1d81c0be24a2cee": {
      "model_module": "@jupyter-widgets/controls",
      "model_module_version": "2.0.0",
      "model_name": "IntProgressModel",
      "state": {
       "bar_style": "success",
       "description": "100.00%",
       "layout": "IPY_MODEL_2e6b77f6286543a78685875e11b5a6c1",
       "max": 15092,
       "style": "IPY_MODEL_7261686aa4f94eba8f298f113c362865",
       "value": 15092
      }
     },
     "b247faf0a5874f18b7fc70da5860f364": {
      "model_module": "@jupyter-widgets/controls",
      "model_module_version": "2.0.0",
      "model_name": "LabelModel",
      "state": {
       "layout": "IPY_MODEL_16fa5e8071bc4191b58bb14eb15fb0bb",
       "style": "IPY_MODEL_bc0cb94f506643e39b06f76e42e9802d",
       "value": "0 / 15092"
      }
     },
     "b25d03ada93142aa80b1967dab1283c9": {
      "model_module": "@jupyter-widgets/controls",
      "model_module_version": "2.0.0",
      "model_name": "HBoxModel",
      "state": {
       "children": [
        "IPY_MODEL_5a86c1da77d94ecb8186586417a6bb4f",
        "IPY_MODEL_c4c6a68c770e49dc86523b71b5d8e9c3"
       ],
       "layout": "IPY_MODEL_5f0332d8b3a14565a59c16a784dc2794"
      }
     },
     "b32c9fc0aead464a91de3c11a421102b": {
      "model_module": "@jupyter-widgets/controls",
      "model_module_version": "2.0.0",
      "model_name": "HBoxModel",
      "state": {
       "children": [
        "IPY_MODEL_7cb65ddec31e40e89c3901c822050a4d",
        "IPY_MODEL_a25a71628e304b9c881cfb260548076e"
       ],
       "layout": "IPY_MODEL_24ac70aa880648e4a4b08e5f5161db94"
      }
     },
     "b33f3fd2042b4f8c9009773083374ab7": {
      "model_module": "@jupyter-widgets/controls",
      "model_module_version": "2.0.0",
      "model_name": "HBoxModel",
      "state": {
       "children": [
        "IPY_MODEL_f4a4186d69d449caa032ec246d39e40a",
        "IPY_MODEL_bc7a9ab62e95478aa31d8776ac2523aa"
       ],
       "layout": "IPY_MODEL_e7374d852b584cb0bfbc5f284e4037e3"
      }
     },
     "b36121cbaac54b589be799e387909939": {
      "model_module": "@jupyter-widgets/controls",
      "model_module_version": "2.0.0",
      "model_name": "IntProgressModel",
      "state": {
       "bar_style": "danger",
       "description": "0.00%",
       "layout": "IPY_MODEL_b8d34fb123af47039ee0627ac62932c5",
       "max": 15092,
       "style": "IPY_MODEL_af391192f21f422ba0f3a2895d704a1a"
      }
     },
     "b4d637a86809432b86c5b7f2e61ea7ba": {
      "model_module": "@jupyter-widgets/base",
      "model_module_version": "2.0.0",
      "model_name": "LayoutModel",
      "state": {}
     },
     "b51ba5bf4bc340b4a6c601f3c23eac79": {
      "model_module": "@jupyter-widgets/base",
      "model_module_version": "2.0.0",
      "model_name": "LayoutModel",
      "state": {}
     },
     "b54404d0a1044149b24f845c3e007b95": {
      "model_module": "@jupyter-widgets/controls",
      "model_module_version": "2.0.0",
      "model_name": "LabelStyleModel",
      "state": {
       "description_width": "",
       "font_family": null,
       "font_size": null,
       "font_style": null,
       "font_variant": null,
       "font_weight": null,
       "text_color": null,
       "text_decoration": null
      }
     },
     "b59899c4fefd4192afa0dfa116e36946": {
      "model_module": "@jupyter-widgets/controls",
      "model_module_version": "2.0.0",
      "model_name": "LabelStyleModel",
      "state": {
       "description_width": "",
       "font_family": null,
       "font_size": null,
       "font_style": null,
       "font_variant": null,
       "font_weight": null,
       "text_color": null,
       "text_decoration": null
      }
     },
     "b6bfb6da17ef48beaf2d3d40d8900036": {
      "model_module": "@jupyter-widgets/base",
      "model_module_version": "2.0.0",
      "model_name": "LayoutModel",
      "state": {}
     },
     "b70ec53f67014b83904ff2f736d18936": {
      "model_module": "@jupyter-widgets/base",
      "model_module_version": "2.0.0",
      "model_name": "LayoutModel",
      "state": {}
     },
     "b8b86380c05649f29a1a4c81d2164ca8": {
      "model_module": "@jupyter-widgets/controls",
      "model_module_version": "2.0.0",
      "model_name": "IntProgressModel",
      "state": {
       "bar_style": "success",
       "description": "100.00%",
       "layout": "IPY_MODEL_b19ae75b84af40f58166d2883260835d",
       "max": 15093,
       "style": "IPY_MODEL_a0f6bf6153344bddbf68f8ac2fb6730d",
       "value": 15093
      }
     },
     "b8d34fb123af47039ee0627ac62932c5": {
      "model_module": "@jupyter-widgets/base",
      "model_module_version": "2.0.0",
      "model_name": "LayoutModel",
      "state": {}
     },
     "ba4d94da8a7d40f6ac53f0e142342e3a": {
      "model_module": "@jupyter-widgets/controls",
      "model_module_version": "2.0.0",
      "model_name": "HBoxModel",
      "state": {
       "children": [
        "IPY_MODEL_fa7c714c9abb4e0c80ab2e821c977290",
        "IPY_MODEL_059287d6003e46068ccdceb30976641e"
       ],
       "layout": "IPY_MODEL_ac44527a308242b4b11c9ed3d07fc371"
      }
     },
     "bc0cb94f506643e39b06f76e42e9802d": {
      "model_module": "@jupyter-widgets/controls",
      "model_module_version": "2.0.0",
      "model_name": "LabelStyleModel",
      "state": {
       "description_width": "",
       "font_family": null,
       "font_size": null,
       "font_style": null,
       "font_variant": null,
       "font_weight": null,
       "text_color": null,
       "text_decoration": null
      }
     },
     "bc63e3b3e99e4eeebb01aecce0c3e427": {
      "model_module": "@jupyter-widgets/controls",
      "model_module_version": "2.0.0",
      "model_name": "ProgressStyleModel",
      "state": {
       "description_width": ""
      }
     },
     "bc7a9ab62e95478aa31d8776ac2523aa": {
      "model_module": "@jupyter-widgets/controls",
      "model_module_version": "2.0.0",
      "model_name": "LabelModel",
      "state": {
       "layout": "IPY_MODEL_f0f724f0dd6849659569e270be95566a",
       "style": "IPY_MODEL_ab6fe89919ee432cab279f87f9923363",
       "value": "0 / 15093"
      }
     },
     "bc97e1461d0546899b714093dc1da335": {
      "model_module": "@jupyter-widgets/controls",
      "model_module_version": "2.0.0",
      "model_name": "ProgressStyleModel",
      "state": {
       "description_width": ""
      }
     },
     "bcbc53a593e74c04a34e0efa578ca2cb": {
      "model_module": "@jupyter-widgets/controls",
      "model_module_version": "2.0.0",
      "model_name": "LabelModel",
      "state": {
       "layout": "IPY_MODEL_48041dc396a64ef2be895dfab253bc20",
       "style": "IPY_MODEL_553a55889e6d4f76a558118e740ab3fb",
       "value": "15093 / 15093"
      }
     },
     "bd8546ebe6bb490cb4f1f066313dc383": {
      "model_module": "@jupyter-widgets/controls",
      "model_module_version": "2.0.0",
      "model_name": "ProgressStyleModel",
      "state": {
       "description_width": ""
      }
     },
     "bdf0fce973de4bcdaf22953977f8dae8": {
      "model_module": "@jupyter-widgets/controls",
      "model_module_version": "2.0.0",
      "model_name": "IntProgressModel",
      "state": {
       "bar_style": "success",
       "description": "100.00%",
       "layout": "IPY_MODEL_1ab391475aae45dc906b704e9b39ab5c",
       "max": 15093,
       "style": "IPY_MODEL_7b83565d84594bf2a82bdc1be1adbf87",
       "value": 15093
      }
     },
     "be083003ba6f40e5a769dc7dab4e8ff0": {
      "model_module": "@jupyter-widgets/base",
      "model_module_version": "2.0.0",
      "model_name": "LayoutModel",
      "state": {}
     },
     "be2875c3900f48f789f3daadc35e151d": {
      "model_module": "@jupyter-widgets/controls",
      "model_module_version": "2.0.0",
      "model_name": "ProgressStyleModel",
      "state": {
       "description_width": ""
      }
     },
     "bf5ac320a116496db95fde4620915ca7": {
      "model_module": "@jupyter-widgets/controls",
      "model_module_version": "2.0.0",
      "model_name": "LabelModel",
      "state": {
       "layout": "IPY_MODEL_b4d637a86809432b86c5b7f2e61ea7ba",
       "style": "IPY_MODEL_b0a36bac42c346988f842879154d6098",
       "value": "0 / 15093"
      }
     },
     "bf950fe6ff7a424699a1336b0b0431ef": {
      "model_module": "@jupyter-widgets/base",
      "model_module_version": "2.0.0",
      "model_name": "LayoutModel",
      "state": {}
     },
     "c0191ffb339e4189865160561504bd37": {
      "model_module": "@jupyter-widgets/base",
      "model_module_version": "2.0.0",
      "model_name": "LayoutModel",
      "state": {}
     },
     "c039c4741263433294838ec8663699d3": {
      "model_module": "@jupyter-widgets/controls",
      "model_module_version": "2.0.0",
      "model_name": "HBoxModel",
      "state": {
       "children": [
        "IPY_MODEL_a38a657858c448bf82464d884188533c",
        "IPY_MODEL_a9afec60c8de4995ac0f8f288317d765"
       ],
       "layout": "IPY_MODEL_4d357eefc9e34126bfcce5b2edfe0d87"
      }
     },
     "c0434cf810424aec9026aef167884076": {
      "model_module": "@jupyter-widgets/base",
      "model_module_version": "2.0.0",
      "model_name": "LayoutModel",
      "state": {}
     },
     "c07b9f18e83e4058a6fe19ab7793df52": {
      "model_module": "@jupyter-widgets/controls",
      "model_module_version": "2.0.0",
      "model_name": "ProgressStyleModel",
      "state": {
       "description_width": ""
      }
     },
     "c09778cbdee24c958b24248d35f6a88b": {
      "model_module": "@jupyter-widgets/controls",
      "model_module_version": "2.0.0",
      "model_name": "HTMLModel",
      "state": {
       "layout": "IPY_MODEL_dd0c7686fc48421ba7716d5bc30cfee8",
       "style": "IPY_MODEL_a893c590cac24b509a9838c04310dd8c",
       "value": " 1/50 [00:34&lt;27:48, 34.06s/it]"
      }
     },
     "c0f192032bb747d98e3e9946558b28a8": {
      "model_module": "@jupyter-widgets/controls",
      "model_module_version": "2.0.0",
      "model_name": "LabelModel",
      "state": {
       "layout": "IPY_MODEL_13f53c0a46334c0caea3ea3e64b6957a",
       "style": "IPY_MODEL_68ef9b8759aa4673b45878f069ff7243",
       "value": "0 / 15093"
      }
     },
     "c15b0385fac94d8183881d7d98e9d003": {
      "model_module": "@jupyter-widgets/base",
      "model_module_version": "2.0.0",
      "model_name": "LayoutModel",
      "state": {}
     },
     "c191110e46984c71a65eb50a808ffc0a": {
      "model_module": "@jupyter-widgets/base",
      "model_module_version": "2.0.0",
      "model_name": "LayoutModel",
      "state": {}
     },
     "c1b93b7f11b54d578d33c675e46378a0": {
      "model_module": "@jupyter-widgets/controls",
      "model_module_version": "2.0.0",
      "model_name": "LabelModel",
      "state": {
       "layout": "IPY_MODEL_69b29443de174d6b88648a0b2e3f9bac",
       "style": "IPY_MODEL_251b121ce3384bd284d20d6464738bee",
       "value": "0 / 15093"
      }
     },
     "c1c1aa2d724a41f8892f3ed99b5cf08e": {
      "model_module": "@jupyter-widgets/controls",
      "model_module_version": "2.0.0",
      "model_name": "LabelModel",
      "state": {
       "layout": "IPY_MODEL_bf950fe6ff7a424699a1336b0b0431ef",
       "style": "IPY_MODEL_c46df670924f42f5b536a9bb617d4111",
       "value": "0 / 15093"
      }
     },
     "c1c5698e3cab4536aa4375c46bb2b53d": {
      "model_module": "@jupyter-widgets/base",
      "model_module_version": "2.0.0",
      "model_name": "LayoutModel",
      "state": {}
     },
     "c226080b662044da86c253a26f091b1e": {
      "model_module": "@jupyter-widgets/controls",
      "model_module_version": "2.0.0",
      "model_name": "HBoxModel",
      "state": {
       "children": [
        "IPY_MODEL_f5e264ba01374e91b8b6d771499b697c",
        "IPY_MODEL_77ed2185dff64a00a42f9d7d80169fce"
       ],
       "layout": "IPY_MODEL_a30184f757be413d801eff59da9002f5"
      }
     },
     "c296512088164349a2be35a4fa842620": {
      "model_module": "@jupyter-widgets/controls",
      "model_module_version": "2.0.0",
      "model_name": "HBoxModel",
      "state": {
       "children": [
        "IPY_MODEL_c82c096b7b0140d7849f129e245446db",
        "IPY_MODEL_d492ea03eef94b699a4e8a444b790c6d"
       ],
       "layout": "IPY_MODEL_7dfa6c5894114ed5a0f2a902de6601e8"
      }
     },
     "c2ba22052ce94f5d8578e4fc874146d2": {
      "model_module": "@jupyter-widgets/controls",
      "model_module_version": "2.0.0",
      "model_name": "IntProgressModel",
      "state": {
       "bar_style": "danger",
       "description": "0.00%",
       "layout": "IPY_MODEL_6a3d73f438224acdb57333031c2d7297",
       "max": 15093,
       "style": "IPY_MODEL_99954d6638b943df8b95c75ef005490e"
      }
     },
     "c306ba80bcc146fa8863be026b7135fc": {
      "model_module": "@jupyter-widgets/controls",
      "model_module_version": "2.0.0",
      "model_name": "LabelStyleModel",
      "state": {
       "description_width": "",
       "font_family": null,
       "font_size": null,
       "font_style": null,
       "font_variant": null,
       "font_weight": null,
       "text_color": null,
       "text_decoration": null
      }
     },
     "c38341b7b4a94c0482322e7e45dc32c7": {
      "model_module": "@jupyter-widgets/controls",
      "model_module_version": "2.0.0",
      "model_name": "ProgressStyleModel",
      "state": {
       "description_width": ""
      }
     },
     "c3ad48c8211e4939a887f2f7b1c7c4bc": {
      "model_module": "@jupyter-widgets/controls",
      "model_module_version": "2.0.0",
      "model_name": "ProgressStyleModel",
      "state": {
       "description_width": ""
      }
     },
     "c3d21f99246d4e5cb01253b7d5363eb6": {
      "model_module": "@jupyter-widgets/base",
      "model_module_version": "2.0.0",
      "model_name": "LayoutModel",
      "state": {}
     },
     "c424d65a0b154b41b654f6b8522d722e": {
      "model_module": "@jupyter-widgets/controls",
      "model_module_version": "2.0.0",
      "model_name": "ProgressStyleModel",
      "state": {
       "description_width": ""
      }
     },
     "c46df670924f42f5b536a9bb617d4111": {
      "model_module": "@jupyter-widgets/controls",
      "model_module_version": "2.0.0",
      "model_name": "LabelStyleModel",
      "state": {
       "description_width": "",
       "font_family": null,
       "font_size": null,
       "font_style": null,
       "font_variant": null,
       "font_weight": null,
       "text_color": null,
       "text_decoration": null
      }
     },
     "c4c6a68c770e49dc86523b71b5d8e9c3": {
      "model_module": "@jupyter-widgets/controls",
      "model_module_version": "2.0.0",
      "model_name": "LabelModel",
      "state": {
       "layout": "IPY_MODEL_f3cf2581cde8420fbd467a6f1c05d57e",
       "style": "IPY_MODEL_179769a7c7064f69b804000d6d65d9a4",
       "value": "0 / 15092"
      }
     },
     "c4e5d8935210498ebf03cdae8e9bb3d5": {
      "model_module": "@jupyter-widgets/controls",
      "model_module_version": "2.0.0",
      "model_name": "IntProgressModel",
      "state": {
       "bar_style": "danger",
       "description": "0.00%",
       "layout": "IPY_MODEL_7d8989a1ec814492920ce500f8efd2f6",
       "max": 15092,
       "style": "IPY_MODEL_5eefc5ed646341d0b3b779aad0fe94b1"
      }
     },
     "c4f2f2e9a90b43d98d86ea853a0c12b4": {
      "model_module": "@jupyter-widgets/controls",
      "model_module_version": "2.0.0",
      "model_name": "ProgressStyleModel",
      "state": {
       "description_width": ""
      }
     },
     "c559c9d5ed544610a9185a40ef980519": {
      "model_module": "@jupyter-widgets/base",
      "model_module_version": "2.0.0",
      "model_name": "LayoutModel",
      "state": {}
     },
     "c5f4a7ac13fe4098a74b1bb0464c6d67": {
      "model_module": "@jupyter-widgets/controls",
      "model_module_version": "2.0.0",
      "model_name": "HBoxModel",
      "state": {
       "children": [
        "IPY_MODEL_6a2a54f1ba694946900e17f46f256a27",
        "IPY_MODEL_94e500af7ce348bba1b04659145b72f5"
       ],
       "layout": "IPY_MODEL_29f148c06c3645829327eed5cbd0ee8c"
      }
     },
     "c725051a1ee7429886976705bd7046c2": {
      "model_module": "@jupyter-widgets/controls",
      "model_module_version": "2.0.0",
      "model_name": "LabelStyleModel",
      "state": {
       "description_width": "",
       "font_family": null,
       "font_size": null,
       "font_style": null,
       "font_variant": null,
       "font_weight": null,
       "text_color": null,
       "text_decoration": null
      }
     },
     "c72adf06f7604b5cb4b81c4f747380d1": {
      "model_module": "@jupyter-widgets/controls",
      "model_module_version": "2.0.0",
      "model_name": "IntProgressModel",
      "state": {
       "bar_style": "success",
       "description": "100.00%",
       "layout": "IPY_MODEL_a64afc85a30a46ab93a7c5f1830e32d5",
       "max": 15092,
       "style": "IPY_MODEL_0f5a5a3380664e5796cd198e2fa761d3",
       "value": 15092
      }
     },
     "c75567777bbe4776a1c29280cdaffb94": {
      "model_module": "@jupyter-widgets/base",
      "model_module_version": "2.0.0",
      "model_name": "LayoutModel",
      "state": {}
     },
     "c7937d94bbec4a5b970aa2c0c9db9636": {
      "model_module": "@jupyter-widgets/base",
      "model_module_version": "2.0.0",
      "model_name": "LayoutModel",
      "state": {}
     },
     "c7d8aa67fc66440cbe7bc5091d201719": {
      "model_module": "@jupyter-widgets/base",
      "model_module_version": "2.0.0",
      "model_name": "LayoutModel",
      "state": {}
     },
     "c82c096b7b0140d7849f129e245446db": {
      "model_module": "@jupyter-widgets/controls",
      "model_module_version": "2.0.0",
      "model_name": "IntProgressModel",
      "state": {
       "bar_style": "danger",
       "description": "0.00%",
       "layout": "IPY_MODEL_6acd7f334d7346e6a1d4d9580bf2baad",
       "max": 15092,
       "style": "IPY_MODEL_c3ad48c8211e4939a887f2f7b1c7c4bc"
      }
     },
     "c85aa56bfe634ae7a42f6ea59a085244": {
      "model_module": "@jupyter-widgets/controls",
      "model_module_version": "2.0.0",
      "model_name": "LabelStyleModel",
      "state": {
       "description_width": "",
       "font_family": null,
       "font_size": null,
       "font_style": null,
       "font_variant": null,
       "font_weight": null,
       "text_color": null,
       "text_decoration": null
      }
     },
     "c89035a417a64970aba618cd7e64d34d": {
      "model_module": "@jupyter-widgets/controls",
      "model_module_version": "2.0.0",
      "model_name": "ProgressStyleModel",
      "state": {
       "description_width": ""
      }
     },
     "c93bf09415cc4058a9d64019784874c5": {
      "model_module": "@jupyter-widgets/controls",
      "model_module_version": "2.0.0",
      "model_name": "IntProgressModel",
      "state": {
       "bar_style": "danger",
       "description": "0.00%",
       "layout": "IPY_MODEL_2dd0a8652dbb411082ffd4267debc76d",
       "max": 15092,
       "style": "IPY_MODEL_8812154390f24299964254d130c06b97"
      }
     },
     "c9d48cda14de436aa46c041f964cfdcf": {
      "model_module": "@jupyter-widgets/controls",
      "model_module_version": "2.0.0",
      "model_name": "IntProgressModel",
      "state": {
       "bar_style": "danger",
       "description": "0.00%",
       "layout": "IPY_MODEL_73393d7050cb417384309685a828a682",
       "max": 15093,
       "style": "IPY_MODEL_dd1188b1df9a4e10bba6c493e8acabb4"
      }
     },
     "cac84f7aaab441fc9c51ab3b581b69e0": {
      "model_module": "@jupyter-widgets/controls",
      "model_module_version": "2.0.0",
      "model_name": "LabelModel",
      "state": {
       "layout": "IPY_MODEL_c75567777bbe4776a1c29280cdaffb94",
       "style": "IPY_MODEL_76be07dbf62f4cfea37f98e0b873d5f5",
       "value": "0 / 15092"
      }
     },
     "caf74217e9c0443fa6901160e278415f": {
      "model_module": "@jupyter-widgets/base",
      "model_module_version": "2.0.0",
      "model_name": "LayoutModel",
      "state": {}
     },
     "cb781737343744be88b254c9187d21ce": {
      "model_module": "@jupyter-widgets/base",
      "model_module_version": "2.0.0",
      "model_name": "LayoutModel",
      "state": {}
     },
     "cba98cd3a55943288bb453f3f94c0d03": {
      "model_module": "@jupyter-widgets/controls",
      "model_module_version": "2.0.0",
      "model_name": "ProgressStyleModel",
      "state": {
       "description_width": ""
      }
     },
     "cbc4c6157c6c4156b8821babf61a4ed8": {
      "model_module": "@jupyter-widgets/controls",
      "model_module_version": "2.0.0",
      "model_name": "LabelModel",
      "state": {
       "layout": "IPY_MODEL_a5a6c7e491df4868ace422f2963d0566",
       "style": "IPY_MODEL_a15f6cf97fdf4d31aa2c88d2ecec22c5",
       "value": "15092 / 15092"
      }
     },
     "cc4117f175c14379a3c0da188bb41537": {
      "model_module": "@jupyter-widgets/controls",
      "model_module_version": "2.0.0",
      "model_name": "LabelModel",
      "state": {
       "layout": "IPY_MODEL_a800e8d18d8b404aaff22bd32911d97f",
       "style": "IPY_MODEL_19f75453b86c4f658b7d903bfbb6a29b",
       "value": "15092 / 15092"
      }
     },
     "cc7773ffd47d430c9e1dc52647350e62": {
      "model_module": "@jupyter-widgets/controls",
      "model_module_version": "2.0.0",
      "model_name": "HBoxModel",
      "state": {
       "children": [
        "IPY_MODEL_9aa1ac42cc81483db241168cce0756b0",
        "IPY_MODEL_894a69f3dfd347338e96efc88216ea44"
       ],
       "layout": "IPY_MODEL_d79987f972ae45598156c2b7e10e5a20"
      }
     },
     "cca1dcc1b74548f2979fd29bb6f3b0c4": {
      "model_module": "@jupyter-widgets/base",
      "model_module_version": "2.0.0",
      "model_name": "LayoutModel",
      "state": {}
     },
     "cdad6ed81a464647a931df77e39c7a75": {
      "model_module": "@jupyter-widgets/controls",
      "model_module_version": "2.0.0",
      "model_name": "LabelModel",
      "state": {
       "layout": "IPY_MODEL_97a821e01b634e71ad7abfe468e99a74",
       "style": "IPY_MODEL_17476fb942a044a296e1c7eb4d06fd9d",
       "value": "15092 / 15092"
      }
     },
     "ce0c37314ed849be9cab2b4c40e4a262": {
      "model_module": "@jupyter-widgets/base",
      "model_module_version": "2.0.0",
      "model_name": "LayoutModel",
      "state": {}
     },
     "cee64257f98e4b59bdfa3d1466a185f2": {
      "model_module": "@jupyter-widgets/base",
      "model_module_version": "2.0.0",
      "model_name": "LayoutModel",
      "state": {}
     },
     "cef61d99a74c4ed387d2f19e30a5402a": {
      "model_module": "@jupyter-widgets/base",
      "model_module_version": "2.0.0",
      "model_name": "LayoutModel",
      "state": {}
     },
     "cf08f8e1517940548433f8ebd5d01b70": {
      "model_module": "@jupyter-widgets/base",
      "model_module_version": "2.0.0",
      "model_name": "LayoutModel",
      "state": {}
     },
     "cfd1f9edd5fc4e4ead24e7df8344406a": {
      "model_module": "@jupyter-widgets/base",
      "model_module_version": "2.0.0",
      "model_name": "LayoutModel",
      "state": {}
     },
     "d0b063dc39fb4f2a8fc318735ab8dd54": {
      "model_module": "@jupyter-widgets/controls",
      "model_module_version": "2.0.0",
      "model_name": "HBoxModel",
      "state": {
       "children": [
        "IPY_MODEL_b24464f99bee45c7b1d81c0be24a2cee",
        "IPY_MODEL_0c579479c2bd4179930edfe2f653a7c7"
       ],
       "layout": "IPY_MODEL_22b6634e9fcf4784aa9c12197f140f8d"
      }
     },
     "d0b4b2ca79004da887ee5ee0c6392e43": {
      "model_module": "@jupyter-widgets/controls",
      "model_module_version": "2.0.0",
      "model_name": "IntProgressModel",
      "state": {
       "bar_style": "success",
       "description": "100.00%",
       "layout": "IPY_MODEL_947ea32e8e66480db8cec929e767de58",
       "max": 15093,
       "style": "IPY_MODEL_5343407600c74cccb6ebeddd8a64c310",
       "value": 15093
      }
     },
     "d0ba53b976e549ac80b882adf76313ae": {
      "model_module": "@jupyter-widgets/controls",
      "model_module_version": "2.0.0",
      "model_name": "LabelStyleModel",
      "state": {
       "description_width": "",
       "font_family": null,
       "font_size": null,
       "font_style": null,
       "font_variant": null,
       "font_weight": null,
       "text_color": null,
       "text_decoration": null
      }
     },
     "d17f763581ab4ec997a2726ad9272d9f": {
      "model_module": "@jupyter-widgets/base",
      "model_module_version": "2.0.0",
      "model_name": "LayoutModel",
      "state": {}
     },
     "d269ef0bc1b74200a2ad5c2f901635ee": {
      "model_module": "@jupyter-widgets/controls",
      "model_module_version": "2.0.0",
      "model_name": "HBoxModel",
      "state": {
       "children": [
        "IPY_MODEL_9e04b5cba5ef46aba983ee5833b0bd59",
        "IPY_MODEL_bf5ac320a116496db95fde4620915ca7"
       ],
       "layout": "IPY_MODEL_e5fd5843cd794e8bb833e99ab655a018"
      }
     },
     "d2d0c06b4c0449d38995b80bf0fbda32": {
      "model_module": "@jupyter-widgets/controls",
      "model_module_version": "2.0.0",
      "model_name": "ProgressStyleModel",
      "state": {
       "description_width": ""
      }
     },
     "d2e208ec2a1b4e67ba34604c3d66b394": {
      "model_module": "@jupyter-widgets/controls",
      "model_module_version": "2.0.0",
      "model_name": "HBoxModel",
      "state": {
       "children": [
        "IPY_MODEL_4df761d04cd64dfb9dbf9bf2d4320aae",
        "IPY_MODEL_a3091e2bd7654790b0efd2eb58576d7a"
       ],
       "layout": "IPY_MODEL_eb3aa2b928ac42339507753025978330"
      }
     },
     "d345c495aaf644c3bb737e834c54afc1": {
      "model_module": "@jupyter-widgets/base",
      "model_module_version": "2.0.0",
      "model_name": "LayoutModel",
      "state": {}
     },
     "d48e56e0f6f249e6b4c8ed788fa2544f": {
      "model_module": "@jupyter-widgets/base",
      "model_module_version": "2.0.0",
      "model_name": "LayoutModel",
      "state": {}
     },
     "d492ea03eef94b699a4e8a444b790c6d": {
      "model_module": "@jupyter-widgets/controls",
      "model_module_version": "2.0.0",
      "model_name": "LabelModel",
      "state": {
       "layout": "IPY_MODEL_c7d8aa67fc66440cbe7bc5091d201719",
       "style": "IPY_MODEL_32323cd4cda542a7b69bff869a08668d",
       "value": "0 / 15092"
      }
     },
     "d4a2716ed9144f6fa95de188723e47f9": {
      "model_module": "@jupyter-widgets/controls",
      "model_module_version": "2.0.0",
      "model_name": "IntProgressModel",
      "state": {
       "bar_style": "success",
       "description": "100.00%",
       "layout": "IPY_MODEL_399c0fc2c18547ed85bebb59ea193b7b",
       "max": 15093,
       "style": "IPY_MODEL_0097ce66ea14480b93b15089a68ecd75",
       "value": 15093
      }
     },
     "d50c09cc5dd24adc85278ab32a02e6d3": {
      "model_module": "@jupyter-widgets/controls",
      "model_module_version": "2.0.0",
      "model_name": "LabelStyleModel",
      "state": {
       "description_width": "",
       "font_family": null,
       "font_size": null,
       "font_style": null,
       "font_variant": null,
       "font_weight": null,
       "text_color": null,
       "text_decoration": null
      }
     },
     "d50c178e0f1045efbebec2f076e52f29": {
      "model_module": "@jupyter-widgets/base",
      "model_module_version": "2.0.0",
      "model_name": "LayoutModel",
      "state": {}
     },
     "d5102bb2cca44744a112699c31095958": {
      "model_module": "@jupyter-widgets/controls",
      "model_module_version": "2.0.0",
      "model_name": "HBoxModel",
      "state": {
       "children": [
        "IPY_MODEL_b8b86380c05649f29a1a4c81d2164ca8",
        "IPY_MODEL_e862d30f6a884cc6a6b9c51515722ef9"
       ],
       "layout": "IPY_MODEL_073d6ff6ca244388ae176e7725417a6b"
      }
     },
     "d5288d2d07c343c3842b8bdaad05438a": {
      "model_module": "@jupyter-widgets/controls",
      "model_module_version": "2.0.0",
      "model_name": "HBoxModel",
      "state": {
       "children": [
        "IPY_MODEL_c9d48cda14de436aa46c041f964cfdcf",
        "IPY_MODEL_c0f192032bb747d98e3e9946558b28a8"
       ],
       "layout": "IPY_MODEL_1d70b5f8aca1495d83a88ce39e02b52e"
      }
     },
     "d58c977944a64ed5aa913538a80bde04": {
      "model_module": "@jupyter-widgets/base",
      "model_module_version": "2.0.0",
      "model_name": "LayoutModel",
      "state": {}
     },
     "d5e8ec64c7f5480c8d2ec1b8c60dd166": {
      "model_module": "@jupyter-widgets/base",
      "model_module_version": "2.0.0",
      "model_name": "LayoutModel",
      "state": {}
     },
     "d7018dee931c48c58ec9da2f89dc003c": {
      "model_module": "@jupyter-widgets/controls",
      "model_module_version": "2.0.0",
      "model_name": "ProgressStyleModel",
      "state": {
       "description_width": ""
      }
     },
     "d73635fd9d614e3da3d42ef97949c2dc": {
      "model_module": "@jupyter-widgets/controls",
      "model_module_version": "2.0.0",
      "model_name": "IntProgressModel",
      "state": {
       "bar_style": "danger",
       "description": "0.00%",
       "layout": "IPY_MODEL_82670f8e53c3493897968d0a38c06784",
       "max": 15092,
       "style": "IPY_MODEL_bd8546ebe6bb490cb4f1f066313dc383"
      }
     },
     "d78c02dce4a54b19a3815853fcc7e3f0": {
      "model_module": "@jupyter-widgets/base",
      "model_module_version": "2.0.0",
      "model_name": "LayoutModel",
      "state": {}
     },
     "d78f1602a0cd4454a7f227be1b136b60": {
      "model_module": "@jupyter-widgets/base",
      "model_module_version": "2.0.0",
      "model_name": "LayoutModel",
      "state": {}
     },
     "d79987f972ae45598156c2b7e10e5a20": {
      "model_module": "@jupyter-widgets/base",
      "model_module_version": "2.0.0",
      "model_name": "LayoutModel",
      "state": {}
     },
     "d8557439e59843a98e73891318a62fda": {
      "model_module": "@jupyter-widgets/controls",
      "model_module_version": "2.0.0",
      "model_name": "ProgressStyleModel",
      "state": {
       "description_width": ""
      }
     },
     "d8e3df08f9124a34a92f9d0c50fc558c": {
      "model_module": "@jupyter-widgets/base",
      "model_module_version": "2.0.0",
      "model_name": "LayoutModel",
      "state": {}
     },
     "d9606c1460b74376b3c3268c8429ffdb": {
      "model_module": "@jupyter-widgets/controls",
      "model_module_version": "2.0.0",
      "model_name": "LabelModel",
      "state": {
       "layout": "IPY_MODEL_4074ba9c0cdc42beac50a53b9ef87d15",
       "style": "IPY_MODEL_ae6bda6cb5a046268f7d619e09396ce5",
       "value": "0 / 15093"
      }
     },
     "da2efcc65f664e94b6f3c241cc220130": {
      "model_module": "@jupyter-widgets/controls",
      "model_module_version": "2.0.0",
      "model_name": "ProgressStyleModel",
      "state": {
       "description_width": ""
      }
     },
     "dad1d18aaa1a443486709c7638165637": {
      "model_module": "@jupyter-widgets/base",
      "model_module_version": "2.0.0",
      "model_name": "LayoutModel",
      "state": {}
     },
     "daf3543380954ac69391c93337193bd9": {
      "model_module": "@jupyter-widgets/base",
      "model_module_version": "2.0.0",
      "model_name": "LayoutModel",
      "state": {}
     },
     "dc00e55af47544cda7066409647b2727": {
      "model_module": "@jupyter-widgets/controls",
      "model_module_version": "2.0.0",
      "model_name": "HBoxModel",
      "state": {
       "children": [
        "IPY_MODEL_5d538f5410c44c7bb14176d41928c065",
        "IPY_MODEL_a9682cbcdfc049afabf87ca11ce4882e"
       ],
       "layout": "IPY_MODEL_61f62e00b5aa486ba5ecfc4afbc22759"
      }
     },
     "dc70e23d738b4a87bf5611323203bd62": {
      "model_module": "@jupyter-widgets/base",
      "model_module_version": "2.0.0",
      "model_name": "LayoutModel",
      "state": {}
     },
     "dc8179968a624442830e2592589693f8": {
      "model_module": "@jupyter-widgets/base",
      "model_module_version": "2.0.0",
      "model_name": "LayoutModel",
      "state": {}
     },
     "dd0c7686fc48421ba7716d5bc30cfee8": {
      "model_module": "@jupyter-widgets/base",
      "model_module_version": "2.0.0",
      "model_name": "LayoutModel",
      "state": {}
     },
     "dd1188b1df9a4e10bba6c493e8acabb4": {
      "model_module": "@jupyter-widgets/controls",
      "model_module_version": "2.0.0",
      "model_name": "ProgressStyleModel",
      "state": {
       "description_width": ""
      }
     },
     "dd415799e8da430891b0a8483d8364d8": {
      "model_module": "@jupyter-widgets/controls",
      "model_module_version": "2.0.0",
      "model_name": "ProgressStyleModel",
      "state": {
       "description_width": ""
      }
     },
     "dd65becdd7e14fe5b1a704c185adb3ad": {
      "model_module": "@jupyter-widgets/base",
      "model_module_version": "2.0.0",
      "model_name": "LayoutModel",
      "state": {}
     },
     "dd87bdb43bfb416099f7c9f079133930": {
      "model_module": "@jupyter-widgets/controls",
      "model_module_version": "2.0.0",
      "model_name": "ProgressStyleModel",
      "state": {
       "description_width": ""
      }
     },
     "dd9f0632caaa4d1e86d916b6289e35f3": {
      "model_module": "@jupyter-widgets/controls",
      "model_module_version": "2.0.0",
      "model_name": "LabelStyleModel",
      "state": {
       "description_width": "",
       "font_family": null,
       "font_size": null,
       "font_style": null,
       "font_variant": null,
       "font_weight": null,
       "text_color": null,
       "text_decoration": null
      }
     },
     "dda77c1ecc594f27bcd281afae919e1f": {
      "model_module": "@jupyter-widgets/controls",
      "model_module_version": "2.0.0",
      "model_name": "LabelModel",
      "state": {
       "layout": "IPY_MODEL_6257d479218c494eaf1c50201ab01f93",
       "style": "IPY_MODEL_5b18c77662b848e1a63872006dfa03bc",
       "value": "15093 / 15093"
      }
     },
     "dde6d9c84d6e47219a32ea0874d065c1": {
      "model_module": "@jupyter-widgets/controls",
      "model_module_version": "2.0.0",
      "model_name": "IntProgressModel",
      "state": {
       "bar_style": "success",
       "description": "100.00%",
       "layout": "IPY_MODEL_aebdc79736bb4b5fb9f26833356e60f2",
       "max": 15093,
       "style": "IPY_MODEL_def3c15439ee45c2a25e0854ac4e7f55",
       "value": 15093
      }
     },
     "de71b0d1a7044a54b635b5323be928b7": {
      "model_module": "@jupyter-widgets/base",
      "model_module_version": "2.0.0",
      "model_name": "LayoutModel",
      "state": {}
     },
     "de9bfe572ffe4b4cb49dad37f0cb2edc": {
      "model_module": "@jupyter-widgets/base",
      "model_module_version": "2.0.0",
      "model_name": "LayoutModel",
      "state": {}
     },
     "def3c15439ee45c2a25e0854ac4e7f55": {
      "model_module": "@jupyter-widgets/controls",
      "model_module_version": "2.0.0",
      "model_name": "ProgressStyleModel",
      "state": {
       "description_width": ""
      }
     },
     "def60fa62ea74b6fa492782a793540ce": {
      "model_module": "@jupyter-widgets/controls",
      "model_module_version": "2.0.0",
      "model_name": "LabelStyleModel",
      "state": {
       "description_width": "",
       "font_family": null,
       "font_size": null,
       "font_style": null,
       "font_variant": null,
       "font_weight": null,
       "text_color": null,
       "text_decoration": null
      }
     },
     "df38a1642553433f951ea0b152a0bfc8": {
      "model_module": "@jupyter-widgets/controls",
      "model_module_version": "2.0.0",
      "model_name": "HBoxModel",
      "state": {
       "children": [
        "IPY_MODEL_dde6d9c84d6e47219a32ea0874d065c1",
        "IPY_MODEL_3eb5bef4d3f5451e9d56bb67a21f6eee"
       ],
       "layout": "IPY_MODEL_de71b0d1a7044a54b635b5323be928b7"
      }
     },
     "e15ece2337d047bd8166d5bbaff7bce0": {
      "model_module": "@jupyter-widgets/controls",
      "model_module_version": "2.0.0",
      "model_name": "LabelStyleModel",
      "state": {
       "description_width": "",
       "font_family": null,
       "font_size": null,
       "font_style": null,
       "font_variant": null,
       "font_weight": null,
       "text_color": null,
       "text_decoration": null
      }
     },
     "e2740fd7d6df4ce094fc53d410dde72a": {
      "model_module": "@jupyter-widgets/controls",
      "model_module_version": "2.0.0",
      "model_name": "HBoxModel",
      "state": {
       "children": [
        "IPY_MODEL_7276e305840745bda70fee0c2c7a452f",
        "IPY_MODEL_69278e9c2f164240b0355f4e249542d8"
       ],
       "layout": "IPY_MODEL_dc70e23d738b4a87bf5611323203bd62"
      }
     },
     "e29876b303de42729ad2c0282d70d3eb": {
      "model_module": "@jupyter-widgets/controls",
      "model_module_version": "2.0.0",
      "model_name": "LabelStyleModel",
      "state": {
       "description_width": "",
       "font_family": null,
       "font_size": null,
       "font_style": null,
       "font_variant": null,
       "font_weight": null,
       "text_color": null,
       "text_decoration": null
      }
     },
     "e35b50add29749f58dbe8b4108277662": {
      "model_module": "@jupyter-widgets/base",
      "model_module_version": "2.0.0",
      "model_name": "LayoutModel",
      "state": {}
     },
     "e436e32a81a549c7aade3f4dd0e127fe": {
      "model_module": "@jupyter-widgets/controls",
      "model_module_version": "2.0.0",
      "model_name": "IntProgressModel",
      "state": {
       "bar_style": "success",
       "description": "100.00%",
       "layout": "IPY_MODEL_d17f763581ab4ec997a2726ad9272d9f",
       "max": 15092,
       "style": "IPY_MODEL_9920b5d29fe6408fad2d52091b9228a9",
       "value": 15092
      }
     },
     "e4786200eff64c2f8e3fd6f0ddb01961": {
      "model_module": "@jupyter-widgets/base",
      "model_module_version": "2.0.0",
      "model_name": "LayoutModel",
      "state": {}
     },
     "e4ab177b049e45b4b34e29686389a710": {
      "model_module": "@jupyter-widgets/controls",
      "model_module_version": "2.0.0",
      "model_name": "LabelStyleModel",
      "state": {
       "description_width": "",
       "font_family": null,
       "font_size": null,
       "font_style": null,
       "font_variant": null,
       "font_weight": null,
       "text_color": null,
       "text_decoration": null
      }
     },
     "e4f6788671c54bb2b6940426026cd4cc": {
      "model_module": "@jupyter-widgets/base",
      "model_module_version": "2.0.0",
      "model_name": "LayoutModel",
      "state": {}
     },
     "e53b706a592342f0a6c121f76b4aa8af": {
      "model_module": "@jupyter-widgets/controls",
      "model_module_version": "2.0.0",
      "model_name": "ProgressStyleModel",
      "state": {
       "description_width": ""
      }
     },
     "e5fd5843cd794e8bb833e99ab655a018": {
      "model_module": "@jupyter-widgets/base",
      "model_module_version": "2.0.0",
      "model_name": "LayoutModel",
      "state": {}
     },
     "e7374d852b584cb0bfbc5f284e4037e3": {
      "model_module": "@jupyter-widgets/base",
      "model_module_version": "2.0.0",
      "model_name": "LayoutModel",
      "state": {}
     },
     "e77962603684475280727679589eb4d9": {
      "model_module": "@jupyter-widgets/controls",
      "model_module_version": "2.0.0",
      "model_name": "LabelModel",
      "state": {
       "layout": "IPY_MODEL_cb781737343744be88b254c9187d21ce",
       "style": "IPY_MODEL_e8bb91075efe48688cb8ab21d39ff452",
       "value": "15092 / 15092"
      }
     },
     "e7aed8e8df1f4dc4abc4637708aee64a": {
      "model_module": "@jupyter-widgets/base",
      "model_module_version": "2.0.0",
      "model_name": "LayoutModel",
      "state": {}
     },
     "e862d30f6a884cc6a6b9c51515722ef9": {
      "model_module": "@jupyter-widgets/controls",
      "model_module_version": "2.0.0",
      "model_name": "LabelModel",
      "state": {
       "layout": "IPY_MODEL_0918daec695b4d2497c29f5440ec21e5",
       "style": "IPY_MODEL_6624892b50914ebbb91878c8e682be45",
       "value": "15093 / 15093"
      }
     },
     "e8bb91075efe48688cb8ab21d39ff452": {
      "model_module": "@jupyter-widgets/controls",
      "model_module_version": "2.0.0",
      "model_name": "LabelStyleModel",
      "state": {
       "description_width": "",
       "font_family": null,
       "font_size": null,
       "font_style": null,
       "font_variant": null,
       "font_weight": null,
       "text_color": null,
       "text_decoration": null
      }
     },
     "e90ba6a34f7b425f8f4801ca95050cf3": {
      "model_module": "@jupyter-widgets/controls",
      "model_module_version": "2.0.0",
      "model_name": "LabelModel",
      "state": {
       "layout": "IPY_MODEL_889d3a91c09c4defbd178703e50deac1",
       "style": "IPY_MODEL_f795569a280e485491a66c6bcae1db73",
       "value": "15093 / 15093"
      }
     },
     "e9d8e611e56d450ca4ac3d1bf3f94e2d": {
      "model_module": "@jupyter-widgets/base",
      "model_module_version": "2.0.0",
      "model_name": "LayoutModel",
      "state": {}
     },
     "e9e1496d370345b79e0100527e5a4e31": {
      "model_module": "@jupyter-widgets/controls",
      "model_module_version": "2.0.0",
      "model_name": "LabelStyleModel",
      "state": {
       "description_width": "",
       "font_family": null,
       "font_size": null,
       "font_style": null,
       "font_variant": null,
       "font_weight": null,
       "text_color": null,
       "text_decoration": null
      }
     },
     "ead99d5267c644d487a035667152bddf": {
      "model_module": "@jupyter-widgets/controls",
      "model_module_version": "2.0.0",
      "model_name": "LabelModel",
      "state": {
       "layout": "IPY_MODEL_d345c495aaf644c3bb737e834c54afc1",
       "style": "IPY_MODEL_e15ece2337d047bd8166d5bbaff7bce0",
       "value": "0 / 15093"
      }
     },
     "eb3aa2b928ac42339507753025978330": {
      "model_module": "@jupyter-widgets/base",
      "model_module_version": "2.0.0",
      "model_name": "LayoutModel",
      "state": {}
     },
     "ec20330512a446c18631f86f14c706d3": {
      "model_module": "@jupyter-widgets/controls",
      "model_module_version": "2.0.0",
      "model_name": "LabelStyleModel",
      "state": {
       "description_width": "",
       "font_family": null,
       "font_size": null,
       "font_style": null,
       "font_variant": null,
       "font_weight": null,
       "text_color": null,
       "text_decoration": null
      }
     },
     "ece29d45a7ef448ab8f2aa72a8d02db5": {
      "model_module": "@jupyter-widgets/controls",
      "model_module_version": "2.0.0",
      "model_name": "LabelStyleModel",
      "state": {
       "description_width": "",
       "font_family": null,
       "font_size": null,
       "font_style": null,
       "font_variant": null,
       "font_weight": null,
       "text_color": null,
       "text_decoration": null
      }
     },
     "ed781e25f86e400080ab1ee83f1b9caa": {
      "model_module": "@jupyter-widgets/base",
      "model_module_version": "2.0.0",
      "model_name": "LayoutModel",
      "state": {}
     },
     "edab4977f2ec425c8478c4721c068573": {
      "model_module": "@jupyter-widgets/controls",
      "model_module_version": "2.0.0",
      "model_name": "IntProgressModel",
      "state": {
       "bar_style": "success",
       "description": "100.00%",
       "layout": "IPY_MODEL_67fa255bd7624b37a675a64edc2dc920",
       "max": 15093,
       "style": "IPY_MODEL_d7018dee931c48c58ec9da2f89dc003c",
       "value": 15093
      }
     },
     "eee52dd38e344c49bf4bfcb1bb63271c": {
      "model_module": "@jupyter-widgets/controls",
      "model_module_version": "2.0.0",
      "model_name": "HBoxModel",
      "state": {
       "children": [
        "IPY_MODEL_c4e5d8935210498ebf03cdae8e9bb3d5",
        "IPY_MODEL_2d25376b9a2c43eebd22901fc1ebd206"
       ],
       "layout": "IPY_MODEL_dad1d18aaa1a443486709c7638165637"
      }
     },
     "f0de40316a0c4c67b483cc0663f5a57b": {
      "model_module": "@jupyter-widgets/controls",
      "model_module_version": "2.0.0",
      "model_name": "LabelModel",
      "state": {
       "layout": "IPY_MODEL_22c8e9cc9d8d462b9996fc7648d46cca",
       "style": "IPY_MODEL_dd9f0632caaa4d1e86d916b6289e35f3",
       "value": "15093 / 15093"
      }
     },
     "f0f724f0dd6849659569e270be95566a": {
      "model_module": "@jupyter-widgets/base",
      "model_module_version": "2.0.0",
      "model_name": "LayoutModel",
      "state": {}
     },
     "f263a718491145ce8c4c87b065e8806d": {
      "model_module": "@jupyter-widgets/base",
      "model_module_version": "2.0.0",
      "model_name": "LayoutModel",
      "state": {}
     },
     "f2a09f8108f54f078c5078a02e3170ca": {
      "model_module": "@jupyter-widgets/controls",
      "model_module_version": "2.0.0",
      "model_name": "IntProgressModel",
      "state": {
       "bar_style": "success",
       "description": "100.00%",
       "layout": "IPY_MODEL_6b2f3737005e4cbdb2fb083ce3fbd0b8",
       "max": 15092,
       "style": "IPY_MODEL_cba98cd3a55943288bb453f3f94c0d03",
       "value": 15092
      }
     },
     "f3542a023acf4926880db56d7e0f9899": {
      "model_module": "@jupyter-widgets/controls",
      "model_module_version": "2.0.0",
      "model_name": "LabelStyleModel",
      "state": {
       "description_width": "",
       "font_family": null,
       "font_size": null,
       "font_style": null,
       "font_variant": null,
       "font_weight": null,
       "text_color": null,
       "text_decoration": null
      }
     },
     "f36c469fa14b4d1e8bf699983bf2dfe5": {
      "model_module": "@jupyter-widgets/controls",
      "model_module_version": "2.0.0",
      "model_name": "IntProgressModel",
      "state": {
       "bar_style": "success",
       "description": "100.00%",
       "layout": "IPY_MODEL_a57d33c3e79b46238ba845d8a7551aae",
       "max": 15092,
       "style": "IPY_MODEL_aa0c9be3c6e24422beecc8e410e1d49b",
       "value": 15092
      }
     },
     "f3cf2581cde8420fbd467a6f1c05d57e": {
      "model_module": "@jupyter-widgets/base",
      "model_module_version": "2.0.0",
      "model_name": "LayoutModel",
      "state": {}
     },
     "f3e356df4b4f418fb82050184e063049": {
      "model_module": "@jupyter-widgets/controls",
      "model_module_version": "2.0.0",
      "model_name": "IntProgressModel",
      "state": {
       "bar_style": "success",
       "description": "100.00%",
       "layout": "IPY_MODEL_c0191ffb339e4189865160561504bd37",
       "max": 15093,
       "style": "IPY_MODEL_f579bf63a34447a081ee0a082326e785",
       "value": 15093
      }
     },
     "f450b04872df4a1e932907b667ddb75c": {
      "model_module": "@jupyter-widgets/base",
      "model_module_version": "2.0.0",
      "model_name": "LayoutModel",
      "state": {}
     },
     "f460701ee2084f1797d1b2068748d72c": {
      "model_module": "@jupyter-widgets/controls",
      "model_module_version": "2.0.0",
      "model_name": "LabelStyleModel",
      "state": {
       "description_width": "",
       "font_family": null,
       "font_size": null,
       "font_style": null,
       "font_variant": null,
       "font_weight": null,
       "text_color": null,
       "text_decoration": null
      }
     },
     "f476cdc3c3344587be2bcdedeaa414c4": {
      "model_module": "@jupyter-widgets/base",
      "model_module_version": "2.0.0",
      "model_name": "LayoutModel",
      "state": {}
     },
     "f4a4186d69d449caa032ec246d39e40a": {
      "model_module": "@jupyter-widgets/controls",
      "model_module_version": "2.0.0",
      "model_name": "IntProgressModel",
      "state": {
       "bar_style": "danger",
       "description": "0.00%",
       "layout": "IPY_MODEL_d5e8ec64c7f5480c8d2ec1b8c60dd166",
       "max": 15093,
       "style": "IPY_MODEL_be2875c3900f48f789f3daadc35e151d"
      }
     },
     "f579bf63a34447a081ee0a082326e785": {
      "model_module": "@jupyter-widgets/controls",
      "model_module_version": "2.0.0",
      "model_name": "ProgressStyleModel",
      "state": {
       "description_width": ""
      }
     },
     "f5b533fb65fa4aaf91c4f76ee451162a": {
      "model_module": "@jupyter-widgets/base",
      "model_module_version": "2.0.0",
      "model_name": "LayoutModel",
      "state": {}
     },
     "f5e264ba01374e91b8b6d771499b697c": {
      "model_module": "@jupyter-widgets/controls",
      "model_module_version": "2.0.0",
      "model_name": "IntProgressModel",
      "state": {
       "bar_style": "danger",
       "description": "0.00%",
       "layout": "IPY_MODEL_32b17bb76f834ddba84560d88b44517e",
       "max": 15092,
       "style": "IPY_MODEL_7df3584b769d453492da0e56ef1444c2"
      }
     },
     "f67bd2ca75244b4e88c2ce1d5abd4583": {
      "model_module": "@jupyter-widgets/base",
      "model_module_version": "2.0.0",
      "model_name": "LayoutModel",
      "state": {}
     },
     "f715e1d200f14169aef6c57bd63e772f": {
      "model_module": "@jupyter-widgets/controls",
      "model_module_version": "2.0.0",
      "model_name": "LabelModel",
      "state": {
       "layout": "IPY_MODEL_8d911e1c525a4904bc52849e6ea84b93",
       "style": "IPY_MODEL_7c40a2432a50475cb9456193a29c4bd9",
       "value": "15093 / 15093"
      }
     },
     "f71e92d4a09a411f88762828e4b0a1f6": {
      "model_module": "@jupyter-widgets/controls",
      "model_module_version": "2.0.0",
      "model_name": "HBoxModel",
      "state": {
       "children": [
        "IPY_MODEL_178b8eb00d4941aaafbf082e0d3cc8a0",
        "IPY_MODEL_cdad6ed81a464647a931df77e39c7a75"
       ],
       "layout": "IPY_MODEL_f78259a258b249c795eb11671523d456"
      }
     },
     "f78259a258b249c795eb11671523d456": {
      "model_module": "@jupyter-widgets/base",
      "model_module_version": "2.0.0",
      "model_name": "LayoutModel",
      "state": {}
     },
     "f795569a280e485491a66c6bcae1db73": {
      "model_module": "@jupyter-widgets/controls",
      "model_module_version": "2.0.0",
      "model_name": "LabelStyleModel",
      "state": {
       "description_width": "",
       "font_family": null,
       "font_size": null,
       "font_style": null,
       "font_variant": null,
       "font_weight": null,
       "text_color": null,
       "text_decoration": null
      }
     },
     "f84004c20676477ca0ee44a0e8c038af": {
      "model_module": "@jupyter-widgets/base",
      "model_module_version": "2.0.0",
      "model_name": "LayoutModel",
      "state": {}
     },
     "f8a9a32a16724bc38ec0af1570878c75": {
      "model_module": "@jupyter-widgets/controls",
      "model_module_version": "2.0.0",
      "model_name": "HBoxModel",
      "state": {
       "children": [
        "IPY_MODEL_933c0e7858c84d6bb3fc309e2dd725d4",
        "IPY_MODEL_601b39c2b3e444808243bc44149b3821"
       ],
       "layout": "IPY_MODEL_3c6c5d0948f3489e8c407b4ec67fc0af"
      }
     },
     "f9aeb600d31d481a92aeae7b7ad7279d": {
      "model_module": "@jupyter-widgets/controls",
      "model_module_version": "2.0.0",
      "model_name": "HBoxModel",
      "state": {
       "children": [
        "IPY_MODEL_c2ba22052ce94f5d8578e4fc874146d2",
        "IPY_MODEL_8e9ac46d30e74478b47151f8d14f8095"
       ],
       "layout": "IPY_MODEL_cf08f8e1517940548433f8ebd5d01b70"
      }
     },
     "fa7c714c9abb4e0c80ab2e821c977290": {
      "model_module": "@jupyter-widgets/controls",
      "model_module_version": "2.0.0",
      "model_name": "IntProgressModel",
      "state": {
       "bar_style": "success",
       "description": "100.00%",
       "layout": "IPY_MODEL_2998c56e961f43738eda0817b8b95f84",
       "max": 15093,
       "style": "IPY_MODEL_dd415799e8da430891b0a8483d8364d8",
       "value": 15093
      }
     },
     "faa06d89b6414d0aa0fb21d809631a55": {
      "model_module": "@jupyter-widgets/controls",
      "model_module_version": "2.0.0",
      "model_name": "ProgressStyleModel",
      "state": {
       "description_width": ""
      }
     },
     "fbfc22e43c614d8c8c138f058862b2dd": {
      "model_module": "@jupyter-widgets/base",
      "model_module_version": "2.0.0",
      "model_name": "LayoutModel",
      "state": {}
     },
     "fc7113b6df3043ce92ad436fa943e818": {
      "model_module": "@jupyter-widgets/controls",
      "model_module_version": "2.0.0",
      "model_name": "LabelStyleModel",
      "state": {
       "description_width": "",
       "font_family": null,
       "font_size": null,
       "font_style": null,
       "font_variant": null,
       "font_weight": null,
       "text_color": null,
       "text_decoration": null
      }
     },
     "fcad75a9d7e04010b4feecca0aa17f09": {
      "model_module": "@jupyter-widgets/controls",
      "model_module_version": "2.0.0",
      "model_name": "ProgressStyleModel",
      "state": {
       "description_width": ""
      }
     },
     "fd4e23d0d8aa495fb32bcd37aeff4dd6": {
      "model_module": "@jupyter-widgets/controls",
      "model_module_version": "2.0.0",
      "model_name": "HBoxModel",
      "state": {
       "children": [
        "IPY_MODEL_169a266e6b9e43079dcbb3e44590532b",
        "IPY_MODEL_830f485077544def96f974794fcee019"
       ],
       "layout": "IPY_MODEL_c15b0385fac94d8183881d7d98e9d003"
      }
     },
     "fdffe05fdded4293a18d13b50194f9c3": {
      "model_module": "@jupyter-widgets/controls",
      "model_module_version": "2.0.0",
      "model_name": "ProgressStyleModel",
      "state": {
       "description_width": ""
      }
     },
     "fe773c7219f74bf68c0fe563b7a4f997": {
      "model_module": "@jupyter-widgets/controls",
      "model_module_version": "2.0.0",
      "model_name": "ProgressStyleModel",
      "state": {
       "description_width": ""
      }
     },
     "ffd893c630ef4504a88c117488fa6f3f": {
      "model_module": "@jupyter-widgets/base",
      "model_module_version": "2.0.0",
      "model_name": "LayoutModel",
      "state": {}
     },
     "fffe2c880a484007a7fb76becf97eb5c": {
      "model_module": "@jupyter-widgets/controls",
      "model_module_version": "2.0.0",
      "model_name": "LabelModel",
      "state": {
       "layout": "IPY_MODEL_f450b04872df4a1e932907b667ddb75c",
       "style": "IPY_MODEL_c85aa56bfe634ae7a42f6ea59a085244",
       "value": "15093 / 15093"
      }
     }
    },
    "version_major": 2,
    "version_minor": 0
   }
  }
 },
 "nbformat": 4,
 "nbformat_minor": 4
}
